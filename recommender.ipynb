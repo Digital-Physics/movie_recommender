{
 "cells": [
  {
   "cell_type": "code",
   "execution_count": 76,
   "metadata": {},
   "outputs": [],
   "source": [
    "import numpy as np\n",
    "import pandas as pd\n",
    "import matplotlib.pyplot as plt\n",
    "import seaborn as sns"
   ]
  },
  {
   "cell_type": "code",
   "execution_count": 77,
   "metadata": {},
   "outputs": [],
   "source": [
    "# ratings = pd.read_csv('https://s3-us-west-2.amazonaws.com/recommender-tutorial/ratings.csv')\n",
    "ratings = pd.read_csv('./data/ratings.csv')"
   ]
  },
  {
   "cell_type": "code",
   "execution_count": 78,
   "metadata": {},
   "outputs": [],
   "source": [
    "# movies = pd.read_csv('https://s3-us-west-2.amazonaws.com/recommender-tutorial/movies.csv')\n",
    "movies = pd.read_csv('./data/movies.csv')"
   ]
  },
  {
   "cell_type": "code",
   "execution_count": 79,
   "metadata": {},
   "outputs": [
    {
     "data": {
      "text/html": [
       "<div>\n",
       "<style scoped>\n",
       "    .dataframe tbody tr th:only-of-type {\n",
       "        vertical-align: middle;\n",
       "    }\n",
       "\n",
       "    .dataframe tbody tr th {\n",
       "        vertical-align: top;\n",
       "    }\n",
       "\n",
       "    .dataframe thead th {\n",
       "        text-align: right;\n",
       "    }\n",
       "</style>\n",
       "<table border=\"1\" class=\"dataframe\">\n",
       "  <thead>\n",
       "    <tr style=\"text-align: right;\">\n",
       "      <th></th>\n",
       "      <th>userId</th>\n",
       "      <th>movieId</th>\n",
       "      <th>rating</th>\n",
       "      <th>timestamp</th>\n",
       "    </tr>\n",
       "  </thead>\n",
       "  <tbody>\n",
       "    <tr>\n",
       "      <th>0</th>\n",
       "      <td>1</td>\n",
       "      <td>1</td>\n",
       "      <td>4.0</td>\n",
       "      <td>964982703</td>\n",
       "    </tr>\n",
       "    <tr>\n",
       "      <th>1</th>\n",
       "      <td>1</td>\n",
       "      <td>3</td>\n",
       "      <td>4.0</td>\n",
       "      <td>964981247</td>\n",
       "    </tr>\n",
       "    <tr>\n",
       "      <th>2</th>\n",
       "      <td>1</td>\n",
       "      <td>6</td>\n",
       "      <td>4.0</td>\n",
       "      <td>964982224</td>\n",
       "    </tr>\n",
       "    <tr>\n",
       "      <th>3</th>\n",
       "      <td>1</td>\n",
       "      <td>47</td>\n",
       "      <td>5.0</td>\n",
       "      <td>964983815</td>\n",
       "    </tr>\n",
       "    <tr>\n",
       "      <th>4</th>\n",
       "      <td>1</td>\n",
       "      <td>50</td>\n",
       "      <td>5.0</td>\n",
       "      <td>964982931</td>\n",
       "    </tr>\n",
       "    <tr>\n",
       "      <th>5</th>\n",
       "      <td>1</td>\n",
       "      <td>70</td>\n",
       "      <td>3.0</td>\n",
       "      <td>964982400</td>\n",
       "    </tr>\n",
       "    <tr>\n",
       "      <th>6</th>\n",
       "      <td>1</td>\n",
       "      <td>101</td>\n",
       "      <td>5.0</td>\n",
       "      <td>964980868</td>\n",
       "    </tr>\n",
       "    <tr>\n",
       "      <th>7</th>\n",
       "      <td>1</td>\n",
       "      <td>110</td>\n",
       "      <td>4.0</td>\n",
       "      <td>964982176</td>\n",
       "    </tr>\n",
       "    <tr>\n",
       "      <th>8</th>\n",
       "      <td>1</td>\n",
       "      <td>151</td>\n",
       "      <td>5.0</td>\n",
       "      <td>964984041</td>\n",
       "    </tr>\n",
       "    <tr>\n",
       "      <th>9</th>\n",
       "      <td>1</td>\n",
       "      <td>157</td>\n",
       "      <td>5.0</td>\n",
       "      <td>964984100</td>\n",
       "    </tr>\n",
       "    <tr>\n",
       "      <th>10</th>\n",
       "      <td>1</td>\n",
       "      <td>163</td>\n",
       "      <td>5.0</td>\n",
       "      <td>964983650</td>\n",
       "    </tr>\n",
       "    <tr>\n",
       "      <th>11</th>\n",
       "      <td>1</td>\n",
       "      <td>216</td>\n",
       "      <td>5.0</td>\n",
       "      <td>964981208</td>\n",
       "    </tr>\n",
       "    <tr>\n",
       "      <th>12</th>\n",
       "      <td>1</td>\n",
       "      <td>223</td>\n",
       "      <td>3.0</td>\n",
       "      <td>964980985</td>\n",
       "    </tr>\n",
       "    <tr>\n",
       "      <th>13</th>\n",
       "      <td>1</td>\n",
       "      <td>231</td>\n",
       "      <td>5.0</td>\n",
       "      <td>964981179</td>\n",
       "    </tr>\n",
       "    <tr>\n",
       "      <th>14</th>\n",
       "      <td>1</td>\n",
       "      <td>235</td>\n",
       "      <td>4.0</td>\n",
       "      <td>964980908</td>\n",
       "    </tr>\n",
       "    <tr>\n",
       "      <th>15</th>\n",
       "      <td>1</td>\n",
       "      <td>260</td>\n",
       "      <td>5.0</td>\n",
       "      <td>964981680</td>\n",
       "    </tr>\n",
       "    <tr>\n",
       "      <th>16</th>\n",
       "      <td>1</td>\n",
       "      <td>296</td>\n",
       "      <td>3.0</td>\n",
       "      <td>964982967</td>\n",
       "    </tr>\n",
       "    <tr>\n",
       "      <th>17</th>\n",
       "      <td>1</td>\n",
       "      <td>316</td>\n",
       "      <td>3.0</td>\n",
       "      <td>964982310</td>\n",
       "    </tr>\n",
       "    <tr>\n",
       "      <th>18</th>\n",
       "      <td>1</td>\n",
       "      <td>333</td>\n",
       "      <td>5.0</td>\n",
       "      <td>964981179</td>\n",
       "    </tr>\n",
       "    <tr>\n",
       "      <th>19</th>\n",
       "      <td>1</td>\n",
       "      <td>349</td>\n",
       "      <td>4.0</td>\n",
       "      <td>964982563</td>\n",
       "    </tr>\n",
       "    <tr>\n",
       "      <th>20</th>\n",
       "      <td>1</td>\n",
       "      <td>356</td>\n",
       "      <td>4.0</td>\n",
       "      <td>964980962</td>\n",
       "    </tr>\n",
       "    <tr>\n",
       "      <th>21</th>\n",
       "      <td>1</td>\n",
       "      <td>362</td>\n",
       "      <td>5.0</td>\n",
       "      <td>964982588</td>\n",
       "    </tr>\n",
       "    <tr>\n",
       "      <th>22</th>\n",
       "      <td>1</td>\n",
       "      <td>367</td>\n",
       "      <td>4.0</td>\n",
       "      <td>964981710</td>\n",
       "    </tr>\n",
       "    <tr>\n",
       "      <th>23</th>\n",
       "      <td>1</td>\n",
       "      <td>423</td>\n",
       "      <td>3.0</td>\n",
       "      <td>964982363</td>\n",
       "    </tr>\n",
       "    <tr>\n",
       "      <th>24</th>\n",
       "      <td>1</td>\n",
       "      <td>441</td>\n",
       "      <td>4.0</td>\n",
       "      <td>964980868</td>\n",
       "    </tr>\n",
       "    <tr>\n",
       "      <th>25</th>\n",
       "      <td>1</td>\n",
       "      <td>457</td>\n",
       "      <td>5.0</td>\n",
       "      <td>964981909</td>\n",
       "    </tr>\n",
       "    <tr>\n",
       "      <th>26</th>\n",
       "      <td>1</td>\n",
       "      <td>480</td>\n",
       "      <td>4.0</td>\n",
       "      <td>964982346</td>\n",
       "    </tr>\n",
       "    <tr>\n",
       "      <th>27</th>\n",
       "      <td>1</td>\n",
       "      <td>500</td>\n",
       "      <td>3.0</td>\n",
       "      <td>964981208</td>\n",
       "    </tr>\n",
       "    <tr>\n",
       "      <th>28</th>\n",
       "      <td>1</td>\n",
       "      <td>527</td>\n",
       "      <td>5.0</td>\n",
       "      <td>964984002</td>\n",
       "    </tr>\n",
       "    <tr>\n",
       "      <th>29</th>\n",
       "      <td>1</td>\n",
       "      <td>543</td>\n",
       "      <td>4.0</td>\n",
       "      <td>964981179</td>\n",
       "    </tr>\n",
       "    <tr>\n",
       "      <th>30</th>\n",
       "      <td>1</td>\n",
       "      <td>552</td>\n",
       "      <td>4.0</td>\n",
       "      <td>964982653</td>\n",
       "    </tr>\n",
       "    <tr>\n",
       "      <th>31</th>\n",
       "      <td>1</td>\n",
       "      <td>553</td>\n",
       "      <td>5.0</td>\n",
       "      <td>964984153</td>\n",
       "    </tr>\n",
       "    <tr>\n",
       "      <th>32</th>\n",
       "      <td>1</td>\n",
       "      <td>590</td>\n",
       "      <td>4.0</td>\n",
       "      <td>964982546</td>\n",
       "    </tr>\n",
       "    <tr>\n",
       "      <th>33</th>\n",
       "      <td>1</td>\n",
       "      <td>592</td>\n",
       "      <td>4.0</td>\n",
       "      <td>964982271</td>\n",
       "    </tr>\n",
       "    <tr>\n",
       "      <th>34</th>\n",
       "      <td>1</td>\n",
       "      <td>593</td>\n",
       "      <td>4.0</td>\n",
       "      <td>964983793</td>\n",
       "    </tr>\n",
       "  </tbody>\n",
       "</table>\n",
       "</div>"
      ],
      "text/plain": [
       "    userId  movieId  rating  timestamp\n",
       "0        1        1     4.0  964982703\n",
       "1        1        3     4.0  964981247\n",
       "2        1        6     4.0  964982224\n",
       "3        1       47     5.0  964983815\n",
       "4        1       50     5.0  964982931\n",
       "5        1       70     3.0  964982400\n",
       "6        1      101     5.0  964980868\n",
       "7        1      110     4.0  964982176\n",
       "8        1      151     5.0  964984041\n",
       "9        1      157     5.0  964984100\n",
       "10       1      163     5.0  964983650\n",
       "11       1      216     5.0  964981208\n",
       "12       1      223     3.0  964980985\n",
       "13       1      231     5.0  964981179\n",
       "14       1      235     4.0  964980908\n",
       "15       1      260     5.0  964981680\n",
       "16       1      296     3.0  964982967\n",
       "17       1      316     3.0  964982310\n",
       "18       1      333     5.0  964981179\n",
       "19       1      349     4.0  964982563\n",
       "20       1      356     4.0  964980962\n",
       "21       1      362     5.0  964982588\n",
       "22       1      367     4.0  964981710\n",
       "23       1      423     3.0  964982363\n",
       "24       1      441     4.0  964980868\n",
       "25       1      457     5.0  964981909\n",
       "26       1      480     4.0  964982346\n",
       "27       1      500     3.0  964981208\n",
       "28       1      527     5.0  964984002\n",
       "29       1      543     4.0  964981179\n",
       "30       1      552     4.0  964982653\n",
       "31       1      553     5.0  964984153\n",
       "32       1      590     4.0  964982546\n",
       "33       1      592     4.0  964982271\n",
       "34       1      593     4.0  964983793"
      ]
     },
     "execution_count": 79,
     "metadata": {},
     "output_type": "execute_result"
    }
   ],
   "source": [
    "ratings.head(35)"
   ]
  },
  {
   "cell_type": "code",
   "execution_count": 80,
   "metadata": {},
   "outputs": [
    {
     "data": {
      "text/html": [
       "<div>\n",
       "<style scoped>\n",
       "    .dataframe tbody tr th:only-of-type {\n",
       "        vertical-align: middle;\n",
       "    }\n",
       "\n",
       "    .dataframe tbody tr th {\n",
       "        vertical-align: top;\n",
       "    }\n",
       "\n",
       "    .dataframe thead th {\n",
       "        text-align: right;\n",
       "    }\n",
       "</style>\n",
       "<table border=\"1\" class=\"dataframe\">\n",
       "  <thead>\n",
       "    <tr style=\"text-align: right;\">\n",
       "      <th></th>\n",
       "      <th>movieId</th>\n",
       "      <th>title</th>\n",
       "      <th>genres</th>\n",
       "    </tr>\n",
       "  </thead>\n",
       "  <tbody>\n",
       "    <tr>\n",
       "      <th>0</th>\n",
       "      <td>1</td>\n",
       "      <td>Toy Story (1995)</td>\n",
       "      <td>Adventure|Animation|Children|Comedy|Fantasy</td>\n",
       "    </tr>\n",
       "    <tr>\n",
       "      <th>1</th>\n",
       "      <td>2</td>\n",
       "      <td>Jumanji (1995)</td>\n",
       "      <td>Adventure|Children|Fantasy</td>\n",
       "    </tr>\n",
       "    <tr>\n",
       "      <th>2</th>\n",
       "      <td>3</td>\n",
       "      <td>Grumpier Old Men (1995)</td>\n",
       "      <td>Comedy|Romance</td>\n",
       "    </tr>\n",
       "    <tr>\n",
       "      <th>3</th>\n",
       "      <td>4</td>\n",
       "      <td>Waiting to Exhale (1995)</td>\n",
       "      <td>Comedy|Drama|Romance</td>\n",
       "    </tr>\n",
       "    <tr>\n",
       "      <th>4</th>\n",
       "      <td>5</td>\n",
       "      <td>Father of the Bride Part II (1995)</td>\n",
       "      <td>Comedy</td>\n",
       "    </tr>\n",
       "    <tr>\n",
       "      <th>5</th>\n",
       "      <td>6</td>\n",
       "      <td>Heat (1995)</td>\n",
       "      <td>Action|Crime|Thriller</td>\n",
       "    </tr>\n",
       "    <tr>\n",
       "      <th>6</th>\n",
       "      <td>7</td>\n",
       "      <td>Sabrina (1995)</td>\n",
       "      <td>Comedy|Romance</td>\n",
       "    </tr>\n",
       "    <tr>\n",
       "      <th>7</th>\n",
       "      <td>8</td>\n",
       "      <td>Tom and Huck (1995)</td>\n",
       "      <td>Adventure|Children</td>\n",
       "    </tr>\n",
       "    <tr>\n",
       "      <th>8</th>\n",
       "      <td>9</td>\n",
       "      <td>Sudden Death (1995)</td>\n",
       "      <td>Action</td>\n",
       "    </tr>\n",
       "    <tr>\n",
       "      <th>9</th>\n",
       "      <td>10</td>\n",
       "      <td>GoldenEye (1995)</td>\n",
       "      <td>Action|Adventure|Thriller</td>\n",
       "    </tr>\n",
       "    <tr>\n",
       "      <th>10</th>\n",
       "      <td>11</td>\n",
       "      <td>American President, The (1995)</td>\n",
       "      <td>Comedy|Drama|Romance</td>\n",
       "    </tr>\n",
       "    <tr>\n",
       "      <th>11</th>\n",
       "      <td>12</td>\n",
       "      <td>Dracula: Dead and Loving It (1995)</td>\n",
       "      <td>Comedy|Horror</td>\n",
       "    </tr>\n",
       "    <tr>\n",
       "      <th>12</th>\n",
       "      <td>13</td>\n",
       "      <td>Balto (1995)</td>\n",
       "      <td>Adventure|Animation|Children</td>\n",
       "    </tr>\n",
       "    <tr>\n",
       "      <th>13</th>\n",
       "      <td>14</td>\n",
       "      <td>Nixon (1995)</td>\n",
       "      <td>Drama</td>\n",
       "    </tr>\n",
       "    <tr>\n",
       "      <th>14</th>\n",
       "      <td>15</td>\n",
       "      <td>Cutthroat Island (1995)</td>\n",
       "      <td>Action|Adventure|Romance</td>\n",
       "    </tr>\n",
       "    <tr>\n",
       "      <th>15</th>\n",
       "      <td>16</td>\n",
       "      <td>Casino (1995)</td>\n",
       "      <td>Crime|Drama</td>\n",
       "    </tr>\n",
       "    <tr>\n",
       "      <th>16</th>\n",
       "      <td>17</td>\n",
       "      <td>Sense and Sensibility (1995)</td>\n",
       "      <td>Drama|Romance</td>\n",
       "    </tr>\n",
       "    <tr>\n",
       "      <th>17</th>\n",
       "      <td>18</td>\n",
       "      <td>Four Rooms (1995)</td>\n",
       "      <td>Comedy</td>\n",
       "    </tr>\n",
       "    <tr>\n",
       "      <th>18</th>\n",
       "      <td>19</td>\n",
       "      <td>Ace Ventura: When Nature Calls (1995)</td>\n",
       "      <td>Comedy</td>\n",
       "    </tr>\n",
       "    <tr>\n",
       "      <th>19</th>\n",
       "      <td>20</td>\n",
       "      <td>Money Train (1995)</td>\n",
       "      <td>Action|Comedy|Crime|Drama|Thriller</td>\n",
       "    </tr>\n",
       "    <tr>\n",
       "      <th>20</th>\n",
       "      <td>21</td>\n",
       "      <td>Get Shorty (1995)</td>\n",
       "      <td>Comedy|Crime|Thriller</td>\n",
       "    </tr>\n",
       "    <tr>\n",
       "      <th>21</th>\n",
       "      <td>22</td>\n",
       "      <td>Copycat (1995)</td>\n",
       "      <td>Crime|Drama|Horror|Mystery|Thriller</td>\n",
       "    </tr>\n",
       "    <tr>\n",
       "      <th>22</th>\n",
       "      <td>23</td>\n",
       "      <td>Assassins (1995)</td>\n",
       "      <td>Action|Crime|Thriller</td>\n",
       "    </tr>\n",
       "    <tr>\n",
       "      <th>23</th>\n",
       "      <td>24</td>\n",
       "      <td>Powder (1995)</td>\n",
       "      <td>Drama|Sci-Fi</td>\n",
       "    </tr>\n",
       "    <tr>\n",
       "      <th>24</th>\n",
       "      <td>25</td>\n",
       "      <td>Leaving Las Vegas (1995)</td>\n",
       "      <td>Drama|Romance</td>\n",
       "    </tr>\n",
       "    <tr>\n",
       "      <th>25</th>\n",
       "      <td>26</td>\n",
       "      <td>Othello (1995)</td>\n",
       "      <td>Drama</td>\n",
       "    </tr>\n",
       "    <tr>\n",
       "      <th>26</th>\n",
       "      <td>27</td>\n",
       "      <td>Now and Then (1995)</td>\n",
       "      <td>Children|Drama</td>\n",
       "    </tr>\n",
       "    <tr>\n",
       "      <th>27</th>\n",
       "      <td>28</td>\n",
       "      <td>Persuasion (1995)</td>\n",
       "      <td>Drama|Romance</td>\n",
       "    </tr>\n",
       "    <tr>\n",
       "      <th>28</th>\n",
       "      <td>29</td>\n",
       "      <td>City of Lost Children, The (Cité des enfants p...</td>\n",
       "      <td>Adventure|Drama|Fantasy|Mystery|Sci-Fi</td>\n",
       "    </tr>\n",
       "    <tr>\n",
       "      <th>29</th>\n",
       "      <td>30</td>\n",
       "      <td>Shanghai Triad (Yao a yao yao dao waipo qiao) ...</td>\n",
       "      <td>Crime|Drama</td>\n",
       "    </tr>\n",
       "    <tr>\n",
       "      <th>30</th>\n",
       "      <td>31</td>\n",
       "      <td>Dangerous Minds (1995)</td>\n",
       "      <td>Drama</td>\n",
       "    </tr>\n",
       "    <tr>\n",
       "      <th>31</th>\n",
       "      <td>32</td>\n",
       "      <td>Twelve Monkeys (a.k.a. 12 Monkeys) (1995)</td>\n",
       "      <td>Mystery|Sci-Fi|Thriller</td>\n",
       "    </tr>\n",
       "    <tr>\n",
       "      <th>32</th>\n",
       "      <td>34</td>\n",
       "      <td>Babe (1995)</td>\n",
       "      <td>Children|Drama</td>\n",
       "    </tr>\n",
       "    <tr>\n",
       "      <th>33</th>\n",
       "      <td>36</td>\n",
       "      <td>Dead Man Walking (1995)</td>\n",
       "      <td>Crime|Drama</td>\n",
       "    </tr>\n",
       "    <tr>\n",
       "      <th>34</th>\n",
       "      <td>38</td>\n",
       "      <td>It Takes Two (1995)</td>\n",
       "      <td>Children|Comedy</td>\n",
       "    </tr>\n",
       "  </tbody>\n",
       "</table>\n",
       "</div>"
      ],
      "text/plain": [
       "    movieId                                              title  \\\n",
       "0         1                                   Toy Story (1995)   \n",
       "1         2                                     Jumanji (1995)   \n",
       "2         3                            Grumpier Old Men (1995)   \n",
       "3         4                           Waiting to Exhale (1995)   \n",
       "4         5                 Father of the Bride Part II (1995)   \n",
       "5         6                                        Heat (1995)   \n",
       "6         7                                     Sabrina (1995)   \n",
       "7         8                                Tom and Huck (1995)   \n",
       "8         9                                Sudden Death (1995)   \n",
       "9        10                                   GoldenEye (1995)   \n",
       "10       11                     American President, The (1995)   \n",
       "11       12                 Dracula: Dead and Loving It (1995)   \n",
       "12       13                                       Balto (1995)   \n",
       "13       14                                       Nixon (1995)   \n",
       "14       15                            Cutthroat Island (1995)   \n",
       "15       16                                      Casino (1995)   \n",
       "16       17                       Sense and Sensibility (1995)   \n",
       "17       18                                  Four Rooms (1995)   \n",
       "18       19              Ace Ventura: When Nature Calls (1995)   \n",
       "19       20                                 Money Train (1995)   \n",
       "20       21                                  Get Shorty (1995)   \n",
       "21       22                                     Copycat (1995)   \n",
       "22       23                                   Assassins (1995)   \n",
       "23       24                                      Powder (1995)   \n",
       "24       25                           Leaving Las Vegas (1995)   \n",
       "25       26                                     Othello (1995)   \n",
       "26       27                                Now and Then (1995)   \n",
       "27       28                                  Persuasion (1995)   \n",
       "28       29  City of Lost Children, The (Cité des enfants p...   \n",
       "29       30  Shanghai Triad (Yao a yao yao dao waipo qiao) ...   \n",
       "30       31                             Dangerous Minds (1995)   \n",
       "31       32          Twelve Monkeys (a.k.a. 12 Monkeys) (1995)   \n",
       "32       34                                        Babe (1995)   \n",
       "33       36                            Dead Man Walking (1995)   \n",
       "34       38                                It Takes Two (1995)   \n",
       "\n",
       "                                         genres  \n",
       "0   Adventure|Animation|Children|Comedy|Fantasy  \n",
       "1                    Adventure|Children|Fantasy  \n",
       "2                                Comedy|Romance  \n",
       "3                          Comedy|Drama|Romance  \n",
       "4                                        Comedy  \n",
       "5                         Action|Crime|Thriller  \n",
       "6                                Comedy|Romance  \n",
       "7                            Adventure|Children  \n",
       "8                                        Action  \n",
       "9                     Action|Adventure|Thriller  \n",
       "10                         Comedy|Drama|Romance  \n",
       "11                                Comedy|Horror  \n",
       "12                 Adventure|Animation|Children  \n",
       "13                                        Drama  \n",
       "14                     Action|Adventure|Romance  \n",
       "15                                  Crime|Drama  \n",
       "16                                Drama|Romance  \n",
       "17                                       Comedy  \n",
       "18                                       Comedy  \n",
       "19           Action|Comedy|Crime|Drama|Thriller  \n",
       "20                        Comedy|Crime|Thriller  \n",
       "21          Crime|Drama|Horror|Mystery|Thriller  \n",
       "22                        Action|Crime|Thriller  \n",
       "23                                 Drama|Sci-Fi  \n",
       "24                                Drama|Romance  \n",
       "25                                        Drama  \n",
       "26                               Children|Drama  \n",
       "27                                Drama|Romance  \n",
       "28       Adventure|Drama|Fantasy|Mystery|Sci-Fi  \n",
       "29                                  Crime|Drama  \n",
       "30                                        Drama  \n",
       "31                      Mystery|Sci-Fi|Thriller  \n",
       "32                               Children|Drama  \n",
       "33                                  Crime|Drama  \n",
       "34                              Children|Comedy  "
      ]
     },
     "execution_count": 80,
     "metadata": {},
     "output_type": "execute_result"
    }
   ],
   "source": [
    "# what happened to movie 33 and 35?\n",
    "movies.head(35)"
   ]
  },
  {
   "cell_type": "code",
   "execution_count": 81,
   "metadata": {},
   "outputs": [
    {
     "name": "stdout",
     "output_type": "stream",
     "text": [
      "Number of ratings: n_ratings=101446\n",
      "Number of unique movieId's: n_movies=9725\n",
      "Number of unique users: n_users=610\n",
      "Average number of ratings per user: round(n_ratings/n_users, 2)=166.3\n",
      "Average number of ratings per movie: round(n_ratings/n_movies, 2)=10.43\n"
     ]
    }
   ],
   "source": [
    "n_ratings = len(ratings)\n",
    "n_movies = ratings['movieId'].nunique()\n",
    "n_users = ratings['userId'].nunique()\n",
    "\n",
    "print(f\"Number of ratings: {n_ratings=}\")\n",
    "print(f\"Number of unique movieId's: {n_movies=}\")\n",
    "print(f\"Number of unique users: {n_users=}\")\n",
    "print(f\"Average number of ratings per user: {round(n_ratings/n_users, 2)=}\")\n",
    "print(f\"Average number of ratings per movie: {round(n_ratings/n_movies, 2)=}\")"
   ]
  },
  {
   "cell_type": "code",
   "execution_count": 82,
   "metadata": {},
   "outputs": [
    {
     "name": "stderr",
     "output_type": "stream",
     "text": [
      "/var/folders/8z/fnblqgd55213h_1ltnz5z4xh0000gn/T/ipykernel_34432/2038653828.py:1: FutureWarning: \n",
      "\n",
      "Passing `palette` without assigning `hue` is deprecated and will be removed in v0.14.0. Assign the `x` variable to `hue` and set `legend=False` for the same effect.\n",
      "\n",
      "  sns.countplot(x=\"rating\", data=ratings, palette=\"viridis\")\n"
     ]
    },
    {
     "data": {
      "image/png": "[encoded data removed]",
      "text/plain": [
       "<Figure size 432x288 with 1 Axes>"
      ]
     },
     "metadata": {
      "needs_background": "light"
     },
     "output_type": "display_data"
    }
   ],
   "source": [
    "sns.countplot(x=\"rating\", data=ratings, palette=\"viridis\")\n",
    "plt.title(\"Distribution of movie ratings\", fontsize=14)\n",
    "plt.show()"
   ]
  },
  {
   "cell_type": "code",
   "execution_count": 83,
   "metadata": {},
   "outputs": [
    {
     "name": "stdout",
     "output_type": "stream",
     "text": [
      "Mean global rating: 3.51.\n",
      "Mean rating per user: 3.68.\n"
     ]
    }
   ],
   "source": [
    "print(f\"Mean global rating: {round(ratings['rating'].mean(),2)}.\")\n",
    "\n",
    "mean_ratings = ratings.groupby('userId')['rating'].mean()\n",
    "print(f\"Mean rating per user: {round(mean_ratings.mean(),2)}.\")"
   ]
  },
  {
   "cell_type": "code",
   "execution_count": 84,
   "metadata": {},
   "outputs": [
    {
     "data": {
      "text/plain": [
       "Digital Physics (2016)                       610\n",
       "Forrest Gump (1994)                          329\n",
       "Shawshank Redemption, The (1994)             317\n",
       "Pulp Fiction (1994)                          307\n",
       "Silence of the Lambs, The (1991)             279\n",
       "Matrix, The (1999)                           278\n",
       "Star Wars: Episode IV - A New Hope (1977)    251\n",
       "Jurassic Park (1993)                         238\n",
       "Braveheart (1995)                            237\n",
       "Terminator 2: Judgment Day (1991)            224\n",
       "Name: title, dtype: int64"
      ]
     },
     "execution_count": 84,
     "metadata": {},
     "output_type": "execute_result"
    }
   ],
   "source": [
    "movie_ratings = ratings.merge(movies, on='movieId')\n",
    "movie_ratings['title'].value_counts()[0:10]"
   ]
  },
  {
   "cell_type": "code",
   "execution_count": 85,
   "metadata": {},
   "outputs": [
    {
     "data": {
      "text/html": [
       "<div>\n",
       "<style scoped>\n",
       "    .dataframe tbody tr th:only-of-type {\n",
       "        vertical-align: middle;\n",
       "    }\n",
       "\n",
       "    .dataframe tbody tr th {\n",
       "        vertical-align: top;\n",
       "    }\n",
       "\n",
       "    .dataframe thead th {\n",
       "        text-align: right;\n",
       "    }\n",
       "</style>\n",
       "<table border=\"1\" class=\"dataframe\">\n",
       "  <thead>\n",
       "    <tr style=\"text-align: right;\">\n",
       "      <th></th>\n",
       "      <th>movieId</th>\n",
       "      <th>title</th>\n",
       "      <th>genres</th>\n",
       "    </tr>\n",
       "  </thead>\n",
       "  <tbody>\n",
       "    <tr>\n",
       "      <th>2689</th>\n",
       "      <td>3604</td>\n",
       "      <td>Gypsy (1962)</td>\n",
       "      <td>Musical</td>\n",
       "    </tr>\n",
       "  </tbody>\n",
       "</table>\n",
       "</div>"
      ],
      "text/plain": [
       "      movieId         title   genres\n",
       "2689     3604  Gypsy (1962)  Musical"
      ]
     },
     "execution_count": 85,
     "metadata": {},
     "output_type": "execute_result"
    }
   ],
   "source": [
    "mean_ratings = ratings.groupby('movieId')[['rating']].mean()\n",
    "lowest_rated = mean_ratings['rating'].idxmin()\n",
    "movies[movies['movieId']==lowest_rated]"
   ]
  },
  {
   "cell_type": "code",
   "execution_count": 86,
   "metadata": {},
   "outputs": [
    {
     "data": {
      "text/html": [
       "<div>\n",
       "<style scoped>\n",
       "    .dataframe tbody tr th:only-of-type {\n",
       "        vertical-align: middle;\n",
       "    }\n",
       "\n",
       "    .dataframe tbody tr th {\n",
       "        vertical-align: top;\n",
       "    }\n",
       "\n",
       "    .dataframe thead th {\n",
       "        text-align: right;\n",
       "    }\n",
       "</style>\n",
       "<table border=\"1\" class=\"dataframe\">\n",
       "  <thead>\n",
       "    <tr style=\"text-align: right;\">\n",
       "      <th></th>\n",
       "      <th>movieId</th>\n",
       "      <th>title</th>\n",
       "      <th>genres</th>\n",
       "    </tr>\n",
       "  </thead>\n",
       "  <tbody>\n",
       "    <tr>\n",
       "      <th>48</th>\n",
       "      <td>53</td>\n",
       "      <td>Lamerica (1994)</td>\n",
       "      <td>Adventure|Drama</td>\n",
       "    </tr>\n",
       "  </tbody>\n",
       "</table>\n",
       "</div>"
      ],
      "text/plain": [
       "    movieId            title           genres\n",
       "48       53  Lamerica (1994)  Adventure|Drama"
      ]
     },
     "execution_count": 86,
     "metadata": {},
     "output_type": "execute_result"
    }
   ],
   "source": [
    "highest_rated = mean_ratings['rating'].idxmax()\n",
    "movies[movies['movieId'] == highest_rated]"
   ]
  },
  {
   "cell_type": "code",
   "execution_count": 87,
   "metadata": {},
   "outputs": [
    {
     "data": {
      "text/html": [
       "<div>\n",
       "<style scoped>\n",
       "    .dataframe tbody tr th:only-of-type {\n",
       "        vertical-align: middle;\n",
       "    }\n",
       "\n",
       "    .dataframe tbody tr th {\n",
       "        vertical-align: top;\n",
       "    }\n",
       "\n",
       "    .dataframe thead th {\n",
       "        text-align: right;\n",
       "    }\n",
       "</style>\n",
       "<table border=\"1\" class=\"dataframe\">\n",
       "  <thead>\n",
       "    <tr style=\"text-align: right;\">\n",
       "      <th></th>\n",
       "      <th>userId</th>\n",
       "      <th>movieId</th>\n",
       "      <th>rating</th>\n",
       "      <th>timestamp</th>\n",
       "    </tr>\n",
       "  </thead>\n",
       "  <tbody>\n",
       "    <tr>\n",
       "      <th>13368</th>\n",
       "      <td>85</td>\n",
       "      <td>53</td>\n",
       "      <td>5.0</td>\n",
       "      <td>889468268</td>\n",
       "    </tr>\n",
       "    <tr>\n",
       "      <th>96115</th>\n",
       "      <td>603</td>\n",
       "      <td>53</td>\n",
       "      <td>5.0</td>\n",
       "      <td>963180003</td>\n",
       "    </tr>\n",
       "  </tbody>\n",
       "</table>\n",
       "</div>"
      ],
      "text/plain": [
       "       userId  movieId  rating  timestamp\n",
       "13368      85       53     5.0  889468268\n",
       "96115     603       53     5.0  963180003"
      ]
     },
     "execution_count": 87,
     "metadata": {},
     "output_type": "execute_result"
    }
   ],
   "source": [
    "ratings[ratings['movieId']==highest_rated]"
   ]
  },
  {
   "cell_type": "markdown",
   "metadata": {},
   "source": [
    "Lamerica may be the \"highest\" rated movie, but it only has 2 ratings. A better approach for evaluating movie popularity is to do look at the Bayesian Average, which in this case, is a blend of the overall average (our prior) and the movie's average. "
   ]
  },
  {
   "cell_type": "markdown",
   "metadata": {},
   "source": [
    "#### Bayesian Average\n",
    "[Bayesian Average](https://en.wikipedia.org/wiki/Bayesian_average) is defined as:\n",
    "\n",
    "$r_{i} = \\frac{C \\times m + \\Sigma{\\text{reviews}}}{C+N}$\n",
    "\n",
    "where $C$ represents our confidence, $m$ represents our prior, and $N$ is the total number of reviews for movie $i$. In this case, our prior $m$ will be the average mean rating across all movies. By definition, C represents the typical data set size. Let's make $C$ be the average number of ratings for a given movie. If the movie has the same number of ratings as an an average movie (around 10), the average is a 50-50 blend. So low rated movies are bumped up and high rated movies are bumped down, and this blending is adjusted as the sample size and credibility increase."
   ]
  },
  {
   "cell_type": "code",
   "execution_count": 88,
   "metadata": {},
   "outputs": [
    {
     "data": {
      "text/html": [
       "<div>\n",
       "<style scoped>\n",
       "    .dataframe tbody tr th:only-of-type {\n",
       "        vertical-align: middle;\n",
       "    }\n",
       "\n",
       "    .dataframe tbody tr th {\n",
       "        vertical-align: top;\n",
       "    }\n",
       "\n",
       "    .dataframe thead th {\n",
       "        text-align: right;\n",
       "    }\n",
       "</style>\n",
       "<table border=\"1\" class=\"dataframe\">\n",
       "  <thead>\n",
       "    <tr style=\"text-align: right;\">\n",
       "      <th></th>\n",
       "      <th>count</th>\n",
       "      <th>mean</th>\n",
       "    </tr>\n",
       "    <tr>\n",
       "      <th>movieId</th>\n",
       "      <th></th>\n",
       "      <th></th>\n",
       "    </tr>\n",
       "  </thead>\n",
       "  <tbody>\n",
       "    <tr>\n",
       "      <th>1</th>\n",
       "      <td>215</td>\n",
       "      <td>3.920930</td>\n",
       "    </tr>\n",
       "    <tr>\n",
       "      <th>2</th>\n",
       "      <td>110</td>\n",
       "      <td>3.431818</td>\n",
       "    </tr>\n",
       "    <tr>\n",
       "      <th>3</th>\n",
       "      <td>52</td>\n",
       "      <td>3.259615</td>\n",
       "    </tr>\n",
       "    <tr>\n",
       "      <th>4</th>\n",
       "      <td>7</td>\n",
       "      <td>2.357143</td>\n",
       "    </tr>\n",
       "    <tr>\n",
       "      <th>5</th>\n",
       "      <td>49</td>\n",
       "      <td>3.071429</td>\n",
       "    </tr>\n",
       "    <tr>\n",
       "      <th>6</th>\n",
       "      <td>102</td>\n",
       "      <td>3.946078</td>\n",
       "    </tr>\n",
       "    <tr>\n",
       "      <th>7</th>\n",
       "      <td>54</td>\n",
       "      <td>3.185185</td>\n",
       "    </tr>\n",
       "    <tr>\n",
       "      <th>8</th>\n",
       "      <td>8</td>\n",
       "      <td>2.875000</td>\n",
       "    </tr>\n",
       "    <tr>\n",
       "      <th>9</th>\n",
       "      <td>16</td>\n",
       "      <td>3.125000</td>\n",
       "    </tr>\n",
       "    <tr>\n",
       "      <th>10</th>\n",
       "      <td>132</td>\n",
       "      <td>3.496212</td>\n",
       "    </tr>\n",
       "    <tr>\n",
       "      <th>11</th>\n",
       "      <td>70</td>\n",
       "      <td>3.671429</td>\n",
       "    </tr>\n",
       "    <tr>\n",
       "      <th>12</th>\n",
       "      <td>19</td>\n",
       "      <td>2.421053</td>\n",
       "    </tr>\n",
       "    <tr>\n",
       "      <th>13</th>\n",
       "      <td>8</td>\n",
       "      <td>3.125000</td>\n",
       "    </tr>\n",
       "    <tr>\n",
       "      <th>14</th>\n",
       "      <td>18</td>\n",
       "      <td>3.833333</td>\n",
       "    </tr>\n",
       "    <tr>\n",
       "      <th>15</th>\n",
       "      <td>13</td>\n",
       "      <td>3.000000</td>\n",
       "    </tr>\n",
       "    <tr>\n",
       "      <th>16</th>\n",
       "      <td>82</td>\n",
       "      <td>3.926829</td>\n",
       "    </tr>\n",
       "    <tr>\n",
       "      <th>17</th>\n",
       "      <td>67</td>\n",
       "      <td>3.776119</td>\n",
       "    </tr>\n",
       "    <tr>\n",
       "      <th>18</th>\n",
       "      <td>20</td>\n",
       "      <td>3.700000</td>\n",
       "    </tr>\n",
       "    <tr>\n",
       "      <th>19</th>\n",
       "      <td>88</td>\n",
       "      <td>2.727273</td>\n",
       "    </tr>\n",
       "    <tr>\n",
       "      <th>20</th>\n",
       "      <td>15</td>\n",
       "      <td>2.500000</td>\n",
       "    </tr>\n",
       "    <tr>\n",
       "      <th>21</th>\n",
       "      <td>89</td>\n",
       "      <td>3.494382</td>\n",
       "    </tr>\n",
       "    <tr>\n",
       "      <th>22</th>\n",
       "      <td>36</td>\n",
       "      <td>3.222222</td>\n",
       "    </tr>\n",
       "    <tr>\n",
       "      <th>23</th>\n",
       "      <td>16</td>\n",
       "      <td>3.125000</td>\n",
       "    </tr>\n",
       "    <tr>\n",
       "      <th>24</th>\n",
       "      <td>28</td>\n",
       "      <td>3.125000</td>\n",
       "    </tr>\n",
       "    <tr>\n",
       "      <th>25</th>\n",
       "      <td>76</td>\n",
       "      <td>3.625000</td>\n",
       "    </tr>\n",
       "    <tr>\n",
       "      <th>26</th>\n",
       "      <td>13</td>\n",
       "      <td>3.500000</td>\n",
       "    </tr>\n",
       "    <tr>\n",
       "      <th>27</th>\n",
       "      <td>9</td>\n",
       "      <td>3.333333</td>\n",
       "    </tr>\n",
       "    <tr>\n",
       "      <th>28</th>\n",
       "      <td>11</td>\n",
       "      <td>4.227273</td>\n",
       "    </tr>\n",
       "    <tr>\n",
       "      <th>29</th>\n",
       "      <td>38</td>\n",
       "      <td>4.013158</td>\n",
       "    </tr>\n",
       "    <tr>\n",
       "      <th>30</th>\n",
       "      <td>3</td>\n",
       "      <td>3.000000</td>\n",
       "    </tr>\n",
       "    <tr>\n",
       "      <th>31</th>\n",
       "      <td>38</td>\n",
       "      <td>3.184211</td>\n",
       "    </tr>\n",
       "    <tr>\n",
       "      <th>32</th>\n",
       "      <td>177</td>\n",
       "      <td>3.983051</td>\n",
       "    </tr>\n",
       "    <tr>\n",
       "      <th>34</th>\n",
       "      <td>128</td>\n",
       "      <td>3.652344</td>\n",
       "    </tr>\n",
       "    <tr>\n",
       "      <th>36</th>\n",
       "      <td>67</td>\n",
       "      <td>3.835821</td>\n",
       "    </tr>\n",
       "    <tr>\n",
       "      <th>38</th>\n",
       "      <td>4</td>\n",
       "      <td>2.125000</td>\n",
       "    </tr>\n",
       "    <tr>\n",
       "      <th>39</th>\n",
       "      <td>104</td>\n",
       "      <td>3.293269</td>\n",
       "    </tr>\n",
       "    <tr>\n",
       "      <th>40</th>\n",
       "      <td>2</td>\n",
       "      <td>4.250000</td>\n",
       "    </tr>\n",
       "    <tr>\n",
       "      <th>41</th>\n",
       "      <td>15</td>\n",
       "      <td>3.700000</td>\n",
       "    </tr>\n",
       "    <tr>\n",
       "      <th>42</th>\n",
       "      <td>7</td>\n",
       "      <td>3.000000</td>\n",
       "    </tr>\n",
       "    <tr>\n",
       "      <th>43</th>\n",
       "      <td>8</td>\n",
       "      <td>3.187500</td>\n",
       "    </tr>\n",
       "    <tr>\n",
       "      <th>44</th>\n",
       "      <td>46</td>\n",
       "      <td>2.543478</td>\n",
       "    </tr>\n",
       "    <tr>\n",
       "      <th>45</th>\n",
       "      <td>32</td>\n",
       "      <td>3.312500</td>\n",
       "    </tr>\n",
       "    <tr>\n",
       "      <th>46</th>\n",
       "      <td>15</td>\n",
       "      <td>3.066667</td>\n",
       "    </tr>\n",
       "    <tr>\n",
       "      <th>47</th>\n",
       "      <td>203</td>\n",
       "      <td>3.975369</td>\n",
       "    </tr>\n",
       "    <tr>\n",
       "      <th>48</th>\n",
       "      <td>68</td>\n",
       "      <td>3.147059</td>\n",
       "    </tr>\n",
       "    <tr>\n",
       "      <th>49</th>\n",
       "      <td>1</td>\n",
       "      <td>3.000000</td>\n",
       "    </tr>\n",
       "    <tr>\n",
       "      <th>50</th>\n",
       "      <td>204</td>\n",
       "      <td>4.237745</td>\n",
       "    </tr>\n",
       "    <tr>\n",
       "      <th>52</th>\n",
       "      <td>28</td>\n",
       "      <td>3.464286</td>\n",
       "    </tr>\n",
       "    <tr>\n",
       "      <th>53</th>\n",
       "      <td>2</td>\n",
       "      <td>5.000000</td>\n",
       "    </tr>\n",
       "    <tr>\n",
       "      <th>54</th>\n",
       "      <td>3</td>\n",
       "      <td>2.333333</td>\n",
       "    </tr>\n",
       "    <tr>\n",
       "      <th>55</th>\n",
       "      <td>1</td>\n",
       "      <td>4.000000</td>\n",
       "    </tr>\n",
       "    <tr>\n",
       "      <th>57</th>\n",
       "      <td>8</td>\n",
       "      <td>3.062500</td>\n",
       "    </tr>\n",
       "    <tr>\n",
       "      <th>58</th>\n",
       "      <td>37</td>\n",
       "      <td>4.027027</td>\n",
       "    </tr>\n",
       "  </tbody>\n",
       "</table>\n",
       "</div>"
      ],
      "text/plain": [
       "         count      mean\n",
       "movieId                 \n",
       "1          215  3.920930\n",
       "2          110  3.431818\n",
       "3           52  3.259615\n",
       "4            7  2.357143\n",
       "5           49  3.071429\n",
       "6          102  3.946078\n",
       "7           54  3.185185\n",
       "8            8  2.875000\n",
       "9           16  3.125000\n",
       "10         132  3.496212\n",
       "11          70  3.671429\n",
       "12          19  2.421053\n",
       "13           8  3.125000\n",
       "14          18  3.833333\n",
       "15          13  3.000000\n",
       "16          82  3.926829\n",
       "17          67  3.776119\n",
       "18          20  3.700000\n",
       "19          88  2.727273\n",
       "20          15  2.500000\n",
       "21          89  3.494382\n",
       "22          36  3.222222\n",
       "23          16  3.125000\n",
       "24          28  3.125000\n",
       "25          76  3.625000\n",
       "26          13  3.500000\n",
       "27           9  3.333333\n",
       "28          11  4.227273\n",
       "29          38  4.013158\n",
       "30           3  3.000000\n",
       "31          38  3.184211\n",
       "32         177  3.983051\n",
       "34         128  3.652344\n",
       "36          67  3.835821\n",
       "38           4  2.125000\n",
       "39         104  3.293269\n",
       "40           2  4.250000\n",
       "41          15  3.700000\n",
       "42           7  3.000000\n",
       "43           8  3.187500\n",
       "44          46  2.543478\n",
       "45          32  3.312500\n",
       "46          15  3.066667\n",
       "47         203  3.975369\n",
       "48          68  3.147059\n",
       "49           1  3.000000\n",
       "50         204  4.237745\n",
       "52          28  3.464286\n",
       "53           2  5.000000\n",
       "54           3  2.333333\n",
       "55           1  4.000000\n",
       "57           8  3.062500\n",
       "58          37  4.027027"
      ]
     },
     "execution_count": 88,
     "metadata": {},
     "output_type": "execute_result"
    }
   ],
   "source": [
    "# note these are explicit ratings. some people say implicit ratings (e.g. minutes watched) has less bias\n",
    "movie_stats = ratings.groupby('movieId')['rating'].agg(['count', 'mean'])\n",
    "movie_stats.head(53)"
   ]
  },
  {
   "cell_type": "code",
   "execution_count": 89,
   "metadata": {},
   "outputs": [
    {
     "name": "stdout",
     "output_type": "stream",
     "text": [
      "Average number of ratings for a given movie: 10.43\n",
      "Average rating for a given movie: 3.26\n"
     ]
    }
   ],
   "source": [
    "C = movie_stats['count'].mean()\n",
    "m = movie_stats['mean'].mean()\n",
    "\n",
    "print(f\"Average number of ratings for a given movie: {C:.2f}\")\n",
    "print(f\"Average rating for a given movie: {m:.2f}\")\n",
    "\n",
    "def bayesian_avg(ratings: pd.Series) -> float:\n",
    "    bayesian_avg = (C*m+ratings.sum())/(C+ratings.count())\n",
    "    return round(bayesian_avg, 3)"
   ]
  },
  {
   "cell_type": "code",
   "execution_count": 90,
   "metadata": {},
   "outputs": [
    {
     "data": {
      "text/plain": [
       "3.542"
      ]
     },
     "execution_count": 90,
     "metadata": {},
     "output_type": "execute_result"
    }
   ],
   "source": [
    "# let's test out our Bayesian average on Lamerica, which had two ratings of 5 stars. \n",
    "# The average should come down a lot towards our prior assumption (the pop avg)\n",
    "lamerica = pd.Series([5, 5]) \n",
    "bayesian_avg(lamerica) # takes a pd.Series() as input"
   ]
  },
  {
   "cell_type": "code",
   "execution_count": 91,
   "metadata": {},
   "outputs": [],
   "source": [
    "#Let's now apply bayesian_avg to all movies in our dataset.\n",
    "# Our bayesian function takes in a pandas data series and returns a float or int, just like mean and count\n",
    " # reset_index() in this new table does just that. it resets the tables index after groupby results scrambled them\n",
    "# the index in the table is a row identifier.\n",
    "\n",
    "bayesian_avg_ratings = ratings.groupby('movieId')['rating'].agg(bayesian_avg).reset_index()\n",
    "bayesian_avg_ratings.columns = ['movieId', 'bayesian_avg'] # we want to call our new column \"bayesian_avg\", not \"rating\" now\n",
    "movie_stats = movie_stats.merge(bayesian_avg_ratings, on='movieId')"
   ]
  },
  {
   "cell_type": "code",
   "execution_count": 92,
   "metadata": {},
   "outputs": [
    {
     "data": {
      "text/html": [
       "<div>\n",
       "<style scoped>\n",
       "    .dataframe tbody tr th:only-of-type {\n",
       "        vertical-align: middle;\n",
       "    }\n",
       "\n",
       "    .dataframe tbody tr th {\n",
       "        vertical-align: top;\n",
       "    }\n",
       "\n",
       "    .dataframe thead th {\n",
       "        text-align: right;\n",
       "    }\n",
       "</style>\n",
       "<table border=\"1\" class=\"dataframe\">\n",
       "  <thead>\n",
       "    <tr style=\"text-align: right;\">\n",
       "      <th></th>\n",
       "      <th>movieId</th>\n",
       "      <th>count</th>\n",
       "      <th>mean</th>\n",
       "      <th>bayesian_avg</th>\n",
       "    </tr>\n",
       "  </thead>\n",
       "  <tbody>\n",
       "    <tr>\n",
       "      <th>0</th>\n",
       "      <td>1</td>\n",
       "      <td>215</td>\n",
       "      <td>3.920930</td>\n",
       "      <td>3.890</td>\n",
       "    </tr>\n",
       "    <tr>\n",
       "      <th>1</th>\n",
       "      <td>2</td>\n",
       "      <td>110</td>\n",
       "      <td>3.431818</td>\n",
       "      <td>3.417</td>\n",
       "    </tr>\n",
       "    <tr>\n",
       "      <th>2</th>\n",
       "      <td>3</td>\n",
       "      <td>52</td>\n",
       "      <td>3.259615</td>\n",
       "      <td>3.260</td>\n",
       "    </tr>\n",
       "    <tr>\n",
       "      <th>3</th>\n",
       "      <td>4</td>\n",
       "      <td>7</td>\n",
       "      <td>2.357143</td>\n",
       "      <td>2.899</td>\n",
       "    </tr>\n",
       "    <tr>\n",
       "      <th>4</th>\n",
       "      <td>5</td>\n",
       "      <td>49</td>\n",
       "      <td>3.071429</td>\n",
       "      <td>3.105</td>\n",
       "    </tr>\n",
       "  </tbody>\n",
       "</table>\n",
       "</div>"
      ],
      "text/plain": [
       "   movieId  count      mean  bayesian_avg\n",
       "0        1    215  3.920930         3.890\n",
       "1        2    110  3.431818         3.417\n",
       "2        3     52  3.259615         3.260\n",
       "3        4      7  2.357143         2.899\n",
       "4        5     49  3.071429         3.105"
      ]
     },
     "execution_count": 92,
     "metadata": {},
     "output_type": "execute_result"
    }
   ],
   "source": [
    "movie_stats.head()"
   ]
  },
  {
   "cell_type": "code",
   "execution_count": 93,
   "metadata": {},
   "outputs": [
    {
     "data": {
      "text/html": [
       "<div>\n",
       "<style scoped>\n",
       "    .dataframe tbody tr th:only-of-type {\n",
       "        vertical-align: middle;\n",
       "    }\n",
       "\n",
       "    .dataframe tbody tr th {\n",
       "        vertical-align: top;\n",
       "    }\n",
       "\n",
       "    .dataframe thead th {\n",
       "        text-align: right;\n",
       "    }\n",
       "</style>\n",
       "<table border=\"1\" class=\"dataframe\">\n",
       "  <thead>\n",
       "    <tr style=\"text-align: right;\">\n",
       "      <th></th>\n",
       "      <th>movieId</th>\n",
       "      <th>count</th>\n",
       "      <th>mean</th>\n",
       "      <th>bayesian_avg</th>\n",
       "      <th>title</th>\n",
       "    </tr>\n",
       "  </thead>\n",
       "  <tbody>\n",
       "    <tr>\n",
       "      <th>9724</th>\n",
       "      <td>200000</td>\n",
       "      <td>610</td>\n",
       "      <td>5.000000</td>\n",
       "      <td>4.971</td>\n",
       "      <td>Digital Physics (2016)</td>\n",
       "    </tr>\n",
       "    <tr>\n",
       "      <th>277</th>\n",
       "      <td>318</td>\n",
       "      <td>317</td>\n",
       "      <td>4.429022</td>\n",
       "      <td>4.392</td>\n",
       "      <td>Shawshank Redemption, The (1994)</td>\n",
       "    </tr>\n",
       "    <tr>\n",
       "      <th>659</th>\n",
       "      <td>858</td>\n",
       "      <td>192</td>\n",
       "      <td>4.289062</td>\n",
       "      <td>4.236</td>\n",
       "      <td>Godfather, The (1972)</td>\n",
       "    </tr>\n",
       "    <tr>\n",
       "      <th>2224</th>\n",
       "      <td>2959</td>\n",
       "      <td>218</td>\n",
       "      <td>4.272936</td>\n",
       "      <td>4.227</td>\n",
       "      <td>Fight Club (1999)</td>\n",
       "    </tr>\n",
       "    <tr>\n",
       "      <th>224</th>\n",
       "      <td>260</td>\n",
       "      <td>251</td>\n",
       "      <td>4.231076</td>\n",
       "      <td>4.192</td>\n",
       "      <td>Star Wars: Episode IV - A New Hope (1977)</td>\n",
       "    </tr>\n",
       "  </tbody>\n",
       "</table>\n",
       "</div>"
      ],
      "text/plain": [
       "      movieId  count      mean  bayesian_avg  \\\n",
       "9724   200000    610  5.000000         4.971   \n",
       "277       318    317  4.429022         4.392   \n",
       "659       858    192  4.289062         4.236   \n",
       "2224     2959    218  4.272936         4.227   \n",
       "224       260    251  4.231076         4.192   \n",
       "\n",
       "                                          title  \n",
       "9724                     Digital Physics (2016)  \n",
       "277            Shawshank Redemption, The (1994)  \n",
       "659                       Godfather, The (1972)  \n",
       "2224                          Fight Club (1999)  \n",
       "224   Star Wars: Episode IV - A New Hope (1977)  "
      ]
     },
     "execution_count": 93,
     "metadata": {},
     "output_type": "execute_result"
    }
   ],
   "source": [
    "movie_stats = movie_stats.merge(movies[['movieId', 'title']]) # inner join on movieId, bringing over title, but not including genre\n",
    "movie_stats.sort_values('bayesian_avg', ascending=False).head()\n",
    "\n",
    "# notice that lamerica is no longer at the top... Bayesian average brought it down because it only had 2 samples/reviews"
   ]
  },
  {
   "cell_type": "code",
   "execution_count": 94,
   "metadata": {},
   "outputs": [
    {
     "data": {
      "text/html": [
       "<div>\n",
       "<style scoped>\n",
       "    .dataframe tbody tr th:only-of-type {\n",
       "        vertical-align: middle;\n",
       "    }\n",
       "\n",
       "    .dataframe tbody tr th {\n",
       "        vertical-align: top;\n",
       "    }\n",
       "\n",
       "    .dataframe thead th {\n",
       "        text-align: right;\n",
       "    }\n",
       "</style>\n",
       "<table border=\"1\" class=\"dataframe\">\n",
       "  <thead>\n",
       "    <tr style=\"text-align: right;\">\n",
       "      <th></th>\n",
       "      <th>movieId</th>\n",
       "      <th>count</th>\n",
       "      <th>mean</th>\n",
       "      <th>bayesian_avg</th>\n",
       "      <th>title</th>\n",
       "    </tr>\n",
       "  </thead>\n",
       "  <tbody>\n",
       "    <tr>\n",
       "      <th>1172</th>\n",
       "      <td>1556</td>\n",
       "      <td>19</td>\n",
       "      <td>1.605263</td>\n",
       "      <td>2.193</td>\n",
       "      <td>Speed 2: Cruise Control (1997)</td>\n",
       "    </tr>\n",
       "    <tr>\n",
       "      <th>2679</th>\n",
       "      <td>3593</td>\n",
       "      <td>19</td>\n",
       "      <td>1.657895</td>\n",
       "      <td>2.227</td>\n",
       "      <td>Battlefield Earth (2000)</td>\n",
       "    </tr>\n",
       "    <tr>\n",
       "      <th>1372</th>\n",
       "      <td>1882</td>\n",
       "      <td>33</td>\n",
       "      <td>1.954545</td>\n",
       "      <td>2.269</td>\n",
       "      <td>Godzilla (1998)</td>\n",
       "    </tr>\n",
       "    <tr>\n",
       "      <th>1144</th>\n",
       "      <td>1499</td>\n",
       "      <td>27</td>\n",
       "      <td>1.925926</td>\n",
       "      <td>2.298</td>\n",
       "      <td>Anaconda (1997)</td>\n",
       "    </tr>\n",
       "    <tr>\n",
       "      <th>1988</th>\n",
       "      <td>2643</td>\n",
       "      <td>16</td>\n",
       "      <td>1.687500</td>\n",
       "      <td>2.309</td>\n",
       "      <td>Superman IV: The Quest for Peace (1987)</td>\n",
       "    </tr>\n",
       "  </tbody>\n",
       "</table>\n",
       "</div>"
      ],
      "text/plain": [
       "      movieId  count      mean  bayesian_avg  \\\n",
       "1172     1556     19  1.605263         2.193   \n",
       "2679     3593     19  1.657895         2.227   \n",
       "1372     1882     33  1.954545         2.269   \n",
       "1144     1499     27  1.925926         2.298   \n",
       "1988     2643     16  1.687500         2.309   \n",
       "\n",
       "                                        title  \n",
       "1172           Speed 2: Cruise Control (1997)  \n",
       "2679                 Battlefield Earth (2000)  \n",
       "1372                          Godzilla (1998)  \n",
       "1144                          Anaconda (1997)  \n",
       "1988  Superman IV: The Quest for Peace (1987)  "
      ]
     },
     "execution_count": 94,
     "metadata": {},
     "output_type": "execute_result"
    }
   ],
   "source": [
    "movie_stats.sort_values('bayesian_avg', ascending=True).head()"
   ]
  },
  {
   "cell_type": "markdown",
   "metadata": {},
   "source": []
  },
  {
   "cell_type": "code",
   "execution_count": 95,
   "metadata": {},
   "outputs": [
    {
     "data": {
      "text/html": [
       "<div>\n",
       "<style scoped>\n",
       "    .dataframe tbody tr th:only-of-type {\n",
       "        vertical-align: middle;\n",
       "    }\n",
       "\n",
       "    .dataframe tbody tr th {\n",
       "        vertical-align: top;\n",
       "    }\n",
       "\n",
       "    .dataframe thead th {\n",
       "        text-align: right;\n",
       "    }\n",
       "</style>\n",
       "<table border=\"1\" class=\"dataframe\">\n",
       "  <thead>\n",
       "    <tr style=\"text-align: right;\">\n",
       "      <th></th>\n",
       "      <th>movieId</th>\n",
       "      <th>title</th>\n",
       "      <th>genres</th>\n",
       "    </tr>\n",
       "  </thead>\n",
       "  <tbody>\n",
       "    <tr>\n",
       "      <th>0</th>\n",
       "      <td>1</td>\n",
       "      <td>Toy Story (1995)</td>\n",
       "      <td>Adventure|Animation|Children|Comedy|Fantasy</td>\n",
       "    </tr>\n",
       "    <tr>\n",
       "      <th>1</th>\n",
       "      <td>2</td>\n",
       "      <td>Jumanji (1995)</td>\n",
       "      <td>Adventure|Children|Fantasy</td>\n",
       "    </tr>\n",
       "    <tr>\n",
       "      <th>2</th>\n",
       "      <td>3</td>\n",
       "      <td>Grumpier Old Men (1995)</td>\n",
       "      <td>Comedy|Romance</td>\n",
       "    </tr>\n",
       "    <tr>\n",
       "      <th>3</th>\n",
       "      <td>4</td>\n",
       "      <td>Waiting to Exhale (1995)</td>\n",
       "      <td>Comedy|Drama|Romance</td>\n",
       "    </tr>\n",
       "    <tr>\n",
       "      <th>4</th>\n",
       "      <td>5</td>\n",
       "      <td>Father of the Bride Part II (1995)</td>\n",
       "      <td>Comedy</td>\n",
       "    </tr>\n",
       "  </tbody>\n",
       "</table>\n",
       "</div>"
      ],
      "text/plain": [
       "   movieId                               title  \\\n",
       "0        1                    Toy Story (1995)   \n",
       "1        2                      Jumanji (1995)   \n",
       "2        3             Grumpier Old Men (1995)   \n",
       "3        4            Waiting to Exhale (1995)   \n",
       "4        5  Father of the Bride Part II (1995)   \n",
       "\n",
       "                                        genres  \n",
       "0  Adventure|Animation|Children|Comedy|Fantasy  \n",
       "1                   Adventure|Children|Fantasy  \n",
       "2                               Comedy|Romance  \n",
       "3                         Comedy|Drama|Romance  \n",
       "4                                       Comedy  "
      ]
     },
     "execution_count": 95,
     "metadata": {},
     "output_type": "execute_result"
    }
   ],
   "source": [
    "movies.head()"
   ]
  },
  {
   "cell_type": "code",
   "execution_count": 96,
   "metadata": {},
   "outputs": [
    {
     "data": {
      "text/html": [
       "<div>\n",
       "<style scoped>\n",
       "    .dataframe tbody tr th:only-of-type {\n",
       "        vertical-align: middle;\n",
       "    }\n",
       "\n",
       "    .dataframe tbody tr th {\n",
       "        vertical-align: top;\n",
       "    }\n",
       "\n",
       "    .dataframe thead th {\n",
       "        text-align: right;\n",
       "    }\n",
       "</style>\n",
       "<table border=\"1\" class=\"dataframe\">\n",
       "  <thead>\n",
       "    <tr style=\"text-align: right;\">\n",
       "      <th></th>\n",
       "      <th>movieId</th>\n",
       "      <th>title</th>\n",
       "      <th>genres</th>\n",
       "    </tr>\n",
       "  </thead>\n",
       "  <tbody>\n",
       "    <tr>\n",
       "      <th>0</th>\n",
       "      <td>1</td>\n",
       "      <td>Toy Story (1995)</td>\n",
       "      <td>[Adventure, Animation, Children, Comedy, Fantasy]</td>\n",
       "    </tr>\n",
       "    <tr>\n",
       "      <th>1</th>\n",
       "      <td>2</td>\n",
       "      <td>Jumanji (1995)</td>\n",
       "      <td>[Adventure, Children, Fantasy]</td>\n",
       "    </tr>\n",
       "    <tr>\n",
       "      <th>2</th>\n",
       "      <td>3</td>\n",
       "      <td>Grumpier Old Men (1995)</td>\n",
       "      <td>[Comedy, Romance]</td>\n",
       "    </tr>\n",
       "    <tr>\n",
       "      <th>3</th>\n",
       "      <td>4</td>\n",
       "      <td>Waiting to Exhale (1995)</td>\n",
       "      <td>[Comedy, Drama, Romance]</td>\n",
       "    </tr>\n",
       "    <tr>\n",
       "      <th>4</th>\n",
       "      <td>5</td>\n",
       "      <td>Father of the Bride Part II (1995)</td>\n",
       "      <td>[Comedy]</td>\n",
       "    </tr>\n",
       "  </tbody>\n",
       "</table>\n",
       "</div>"
      ],
      "text/plain": [
       "   movieId                               title  \\\n",
       "0        1                    Toy Story (1995)   \n",
       "1        2                      Jumanji (1995)   \n",
       "2        3             Grumpier Old Men (1995)   \n",
       "3        4            Waiting to Exhale (1995)   \n",
       "4        5  Father of the Bride Part II (1995)   \n",
       "\n",
       "                                              genres  \n",
       "0  [Adventure, Animation, Children, Comedy, Fantasy]  \n",
       "1                     [Adventure, Children, Fantasy]  \n",
       "2                                  [Comedy, Romance]  \n",
       "3                           [Comedy, Drama, Romance]  \n",
       "4                                           [Comedy]  "
      ]
     },
     "execution_count": 96,
     "metadata": {},
     "output_type": "execute_result"
    }
   ],
   "source": [
    "# movie dataset cleaning (clean up string)\n",
    "movies['genres'] = movies['genres'].apply(lambda x: x.split(\"|\")) # similar to .map(), but can't apply function to entire rows/cols of a dataframe\n",
    "movies.head()"
   ]
  },
  {
   "cell_type": "code",
   "execution_count": 97,
   "metadata": {},
   "outputs": [
    {
     "name": "stdout",
     "output_type": "stream",
     "text": [
      "There are 20 genres.\n"
     ]
    },
    {
     "data": {
      "text/plain": [
       "Counter({'Adventure': 1263,\n",
       "         'Animation': 611,\n",
       "         'Children': 664,\n",
       "         'Comedy': 3757,\n",
       "         'Fantasy': 779,\n",
       "         'Romance': 1596,\n",
       "         'Drama': 4362,\n",
       "         'Action': 1828,\n",
       "         'Crime': 1199,\n",
       "         'Thriller': 1894,\n",
       "         'Horror': 978,\n",
       "         'Mystery': 573,\n",
       "         'Sci-Fi': 981,\n",
       "         'War': 382,\n",
       "         'Musical': 334,\n",
       "         'Documentary': 440,\n",
       "         'IMAX': 158,\n",
       "         'Western': 167,\n",
       "         'Film-Noir': 87,\n",
       "         '(no genres listed)': 34})"
      ]
     },
     "execution_count": 97,
     "metadata": {},
     "output_type": "execute_result"
    }
   ],
   "source": [
    "# how many genres?\n",
    "from collections import Counter\n",
    "\n",
    "# the parentheses play two roles, for both the Counter object and the generator comprehension\n",
    "genre_frequency = Counter(g for genres in movies['genres'] for g in genres) # Counter is a \"+= 1\" defaultDict(int) kind of object\n",
    "print(f\"There are {len(genre_frequency)} genres.\")\n",
    "\n",
    "genre_frequency"
   ]
  },
  {
   "cell_type": "code",
   "execution_count": 98,
   "metadata": {},
   "outputs": [
    {
     "name": "stdout",
     "output_type": "stream",
     "text": [
      "The 5 most common genres: \n",
      " [('Drama', 4362), ('Comedy', 3757), ('Thriller', 1894), ('Action', 1828), ('Romance', 1596)]\n"
     ]
    }
   ],
   "source": [
    "# note: the most_common() method of Counter must do some sorting of the values in the key-value pairs\n",
    "# sortedDict maintains a sorted order on the keys, which isn't always helpful if you are interested in the values\n",
    "print(\"The 5 most common genres: \\n\", genre_frequency.most_common(5))"
   ]
  },
  {
   "cell_type": "code",
   "execution_count": 99,
   "metadata": {},
   "outputs": [
    {
     "data": {
      "image/png": "[encoded data removed]",
      "text/plain": [
       "<Figure size 432x288 with 1 Axes>"
      ]
     },
     "metadata": {
      "needs_background": "light"
     },
     "output_type": "display_data"
    }
   ],
   "source": [
    "genre_frequency_df = pd.DataFrame([genre_frequency]).T.reset_index()\n",
    "genre_frequency_df.columns = ['genre', 'count']\n",
    "\n",
    "sns.barplot(x='genre', y='count', data=genre_frequency_df.sort_values(by='count', ascending=False))\n",
    "plt.xticks(rotation=90)\n",
    "plt.show()"
   ]
  },
  {
   "cell_type": "markdown",
   "metadata": {},
   "source": [
    "### Step 4: Data Pre-processing\n",
    "    \n",
    "We are going to use a technique called collaborative filtering to generate recommendations for users. This technique is based on the premise that similar people like similar things.\n",
    "\n",
    "The first step is to transform our data into a user-item matrix, also known as a \"utility\" matrix, because it captures the utility each user (row) places on each object (column). \n",
    "\n",
    "The beauty of collaborative filtering is that it doesn't require any information about the users or the movies to generate recommendations.\n"
   ]
  },
  {
   "cell_type": "code",
   "execution_count": 100,
   "metadata": {},
   "outputs": [],
   "source": [
    "# Note: most movies won't be rated by a user, so it makes sense to have a sparse representation of our utility matrix\n",
    "# we'll use a Compressed Sparse Row representation matrix from scipy\n",
    "\n",
    "from scipy.sparse import csr_matrix\n",
    "\n",
    "def create_X(df):\n",
    "    \"\"\"\n",
    "    Generates a sparse matrix from ratings dataframe.\n",
    "    \n",
    "    Args:\n",
    "        df: pandas dataframe containing 3 columns (userId, movieId, rating)\n",
    "    \n",
    "    Returns:\n",
    "        X: sparse matrix\n",
    "        user_mapper: dict that maps user id's to user indices\n",
    "        user_inv_mapper: dict that maps user indices to user id's\n",
    "        movie_mapper: dict that maps movie id's to movie indices\n",
    "        movie_inv_mapper: dict that maps movie indices to movie id's\n",
    "    \"\"\"\n",
    "    M = df['userId'].nunique() # rows\n",
    "    N = df['movieId'].nunique() # cols\n",
    "\n",
    "    # user_mapper = dict(zip(np.unique(df[\"userId\"]), list(range(M))))\n",
    "    # movie_mapper = dict(zip(np.unique(df[\"movieId\"]), list(range(N))))\n",
    "\n",
    "    user_mapper = {val: i for i, val in enumerate(np.unique(df[\"userId\"]))}\n",
    "    user_inv_mapper = {i: val for i, val in enumerate(np.unique(df[\"userId\"]))}\n",
    "\n",
    "    movie_mapper = {val: i for i, val in enumerate(np.unique(df[\"movieId\"]))}\n",
    "    movie_inv_mapper = {i: val for i, val in enumerate(np.unique(df[\"movieId\"]))}\n",
    "    \n",
    "    # user_inv_mapper = dict(zip(list(range(M)), np.unique(df[\"userId\"])))\n",
    "    # movie_inv_mapper = dict(zip(list(range(N)), np.unique(df[\"movieId\"])))\n",
    "    \n",
    "    user_index = [user_mapper[i] for i in df['userId']]\n",
    "    item_index = [movie_mapper[i] for i in df['movieId']]\n",
    "\n",
    "    # a Compressed Sparse Row representation\n",
    "    # takes in the non-zero entries data\n",
    "    # the indices map the user data to the sparse matrix row and column, although the construction is a little complicated:\n",
    "    # https://stackoverflow.com/questions/52299420/scipy-csr-matrix-understand-indptr\n",
    "    # [[1, 0, 2, 0],\n",
    "    # [0, 0, 0, 3],\n",
    "    # [4, 0, 0, 0]]\n",
    "    # The non-zero values are [1, 2, 3, 4]. (data)\n",
    "    # The corresponding row indices (users) are [0, 0, 1, 2] (the user_index list). (indices)\n",
    "    # The corresponding column indices (items) are [0, 2, 3, 0] (the item_index list).\n",
    "    # The indptr array would be [0, 2, 3, 4]:\n",
    "\n",
    "    # indptr[0] = 0 means the non-zero values for row 0 start at index 0 in data and indices.\n",
    "    # indptr[1] = 2 means the non-zero values for row 1 start at index 2 in data and indices.\n",
    "    # indptr[2] = 3 means the non-zero values for row 2 start at index 3 in data and indices.\n",
    "    # indptr[3] = 4 is the length of data and indices, marking the end of the matrix.\n",
    "\n",
    "    # So indptr does not directly store the row indices themselves, but rather the start and end indices of non-zero values for each row in the data and indices arrays.\n",
    "    # but by passing the rows and columns explicitly with (user_index, item_index), we don't need to worry about constructing indptr.\n",
    "    X = csr_matrix((df[\"rating\"], (user_index, item_index)), shape=(M,N))\n",
    "    \n",
    "    return X, user_mapper, movie_mapper, user_inv_mapper, movie_inv_mapper\n",
    "\n",
    "X, user_mapper, movie_mapper, user_inv_mapper, movie_inv_mapper = create_X(ratings)\n"
   ]
  },
  {
   "cell_type": "code",
   "execution_count": 101,
   "metadata": {},
   "outputs": [
    {
     "name": "stdout",
     "output_type": "stream",
     "text": [
      "{1: 0, 2: 1, 3: 2, 4: 3, 5: 4, 6: 5, 7: 6, 8: 7, 9: 8, 10: 9, 11: 10, 12: 11, 13: 12, 14: 13, 15: 14, 16: 15, 17: 16, 18: 17, 19: 18, 20: 19, 21: 20, 22: 21, 23: 22, 24: 23, 25: 24, 26: 25, 27: 26, 28: 27, 29: 28, 30: 29, 31: 30, 32: 31, 33: 32, 34: 33, 35: 34, 36: 35, 37: 36, 38: 37, 39: 38, 40: 39, 41: 40, 42: 41, 43: 42, 44: 43, 45: 44, 46: 45, 47: 46, 48: 47, 49: 48, 50: 49, 51: 50, 52: 51, 53: 52, 54: 53, 55: 54, 56: 55, 57: 56, 58: 57, 59: 58, 60: 59, 61: 60, 62: 61, 63: 62, 64: 63, 65: 64, 66: 65, 67: 66, 68: 67, 69: 68, 70: 69, 71: 70, 72: 71, 73: 72, 74: 73, 75: 74, 76: 75, 77: 76, 78: 77, 79: 78, 80: 79, 81: 80, 82: 81, 83: 82, 84: 83, 85: 84, 86: 85, 87: 86, 88: 87, 89: 88, 90: 89, 91: 90, 92: 91, 93: 92, 94: 93, 95: 94, 96: 95, 97: 96, 98: 97, 99: 98, 100: 99, 101: 100, 102: 101, 103: 102, 104: 103, 105: 104, 106: 105, 107: 106, 108: 107, 109: 108, 110: 109, 111: 110, 112: 111, 113: 112, 114: 113, 115: 114, 116: 115, 117: 116, 118: 117, 119: 118, 120: 119, 121: 120, 122: 121, 123: 122, 124: 123, 125: 124, 126: 125, 127: 126, 128: 127, 129: 128, 130: 129, 131: 130, 132: 131, 133: 132, 134: 133, 135: 134, 136: 135, 137: 136, 138: 137, 139: 138, 140: 139, 141: 140, 142: 141, 143: 142, 144: 143, 145: 144, 146: 145, 147: 146, 148: 147, 149: 148, 150: 149, 151: 150, 152: 151, 153: 152, 154: 153, 155: 154, 156: 155, 157: 156, 158: 157, 159: 158, 160: 159, 161: 160, 162: 161, 163: 162, 164: 163, 165: 164, 166: 165, 167: 166, 168: 167, 169: 168, 170: 169, 171: 170, 172: 171, 173: 172, 174: 173, 175: 174, 176: 175, 177: 176, 178: 177, 179: 178, 180: 179, 181: 180, 182: 181, 183: 182, 184: 183, 185: 184, 186: 185, 187: 186, 188: 187, 189: 188, 190: 189, 191: 190, 192: 191, 193: 192, 194: 193, 195: 194, 196: 195, 197: 196, 198: 197, 199: 198, 200: 199, 201: 200, 202: 201, 203: 202, 204: 203, 205: 204, 206: 205, 207: 206, 208: 207, 209: 208, 210: 209, 211: 210, 212: 211, 213: 212, 214: 213, 215: 214, 216: 215, 217: 216, 218: 217, 219: 218, 220: 219, 221: 220, 222: 221, 223: 222, 224: 223, 225: 224, 226: 225, 227: 226, 228: 227, 229: 228, 230: 229, 231: 230, 232: 231, 233: 232, 234: 233, 235: 234, 236: 235, 237: 236, 238: 237, 239: 238, 240: 239, 241: 240, 242: 241, 243: 242, 244: 243, 245: 244, 246: 245, 247: 246, 248: 247, 249: 248, 250: 249, 251: 250, 252: 251, 253: 252, 254: 253, 255: 254, 256: 255, 257: 256, 258: 257, 259: 258, 260: 259, 261: 260, 262: 261, 263: 262, 264: 263, 265: 264, 266: 265, 267: 266, 268: 267, 269: 268, 270: 269, 271: 270, 272: 271, 273: 272, 274: 273, 275: 274, 276: 275, 277: 276, 278: 277, 279: 278, 280: 279, 281: 280, 282: 281, 283: 282, 284: 283, 285: 284, 286: 285, 287: 286, 288: 287, 289: 288, 290: 289, 291: 290, 292: 291, 293: 292, 294: 293, 295: 294, 296: 295, 297: 296, 298: 297, 299: 298, 300: 299, 301: 300, 302: 301, 303: 302, 304: 303, 305: 304, 306: 305, 307: 306, 308: 307, 309: 308, 310: 309, 311: 310, 312: 311, 313: 312, 314: 313, 315: 314, 316: 315, 317: 316, 318: 317, 319: 318, 320: 319, 321: 320, 322: 321, 323: 322, 324: 323, 325: 324, 326: 325, 327: 326, 328: 327, 329: 328, 330: 329, 331: 330, 332: 331, 333: 332, 334: 333, 335: 334, 336: 335, 337: 336, 338: 337, 339: 338, 340: 339, 341: 340, 342: 341, 343: 342, 344: 343, 345: 344, 346: 345, 347: 346, 348: 347, 349: 348, 350: 349, 351: 350, 352: 351, 353: 352, 354: 353, 355: 354, 356: 355, 357: 356, 358: 357, 359: 358, 360: 359, 361: 360, 362: 361, 363: 362, 364: 363, 365: 364, 366: 365, 367: 366, 368: 367, 369: 368, 370: 369, 371: 370, 372: 371, 373: 372, 374: 373, 375: 374, 376: 375, 377: 376, 378: 377, 379: 378, 380: 379, 381: 380, 382: 381, 383: 382, 384: 383, 385: 384, 386: 385, 387: 386, 388: 387, 389: 388, 390: 389, 391: 390, 392: 391, 393: 392, 394: 393, 395: 394, 396: 395, 397: 396, 398: 397, 399: 398, 400: 399, 401: 400, 402: 401, 403: 402, 404: 403, 405: 404, 406: 405, 407: 406, 408: 407, 409: 408, 410: 409, 411: 410, 412: 411, 413: 412, 414: 413, 415: 414, 416: 415, 417: 416, 418: 417, 419: 418, 420: 419, 421: 420, 422: 421, 423: 422, 424: 423, 425: 424, 426: 425, 427: 426, 428: 427, 429: 428, 430: 429, 431: 430, 432: 431, 433: 432, 434: 433, 435: 434, 436: 435, 437: 436, 438: 437, 439: 438, 440: 439, 441: 440, 442: 441, 443: 442, 444: 443, 445: 444, 446: 445, 447: 446, 448: 447, 449: 448, 450: 449, 451: 450, 452: 451, 453: 452, 454: 453, 455: 454, 456: 455, 457: 456, 458: 457, 459: 458, 460: 459, 461: 460, 462: 461, 463: 462, 464: 463, 465: 464, 466: 465, 467: 466, 468: 467, 469: 468, 470: 469, 471: 470, 472: 471, 473: 472, 474: 473, 475: 474, 476: 475, 477: 476, 478: 477, 479: 478, 480: 479, 481: 480, 482: 481, 483: 482, 484: 483, 485: 484, 486: 485, 487: 486, 488: 487, 489: 488, 490: 489, 491: 490, 492: 491, 493: 492, 494: 493, 495: 494, 496: 495, 497: 496, 498: 497, 499: 498, 500: 499, 501: 500, 502: 501, 503: 502, 504: 503, 505: 504, 506: 505, 507: 506, 508: 507, 509: 508, 510: 509, 511: 510, 512: 511, 513: 512, 514: 513, 515: 514, 516: 515, 517: 516, 518: 517, 519: 518, 520: 519, 521: 520, 522: 521, 523: 522, 524: 523, 525: 524, 526: 525, 527: 526, 528: 527, 529: 528, 530: 529, 531: 530, 532: 531, 533: 532, 534: 533, 535: 534, 536: 535, 537: 536, 538: 537, 539: 538, 540: 539, 541: 540, 542: 541, 543: 542, 544: 543, 545: 544, 546: 545, 547: 546, 548: 547, 549: 548, 550: 549, 551: 550, 552: 551, 553: 552, 554: 553, 555: 554, 556: 555, 557: 556, 558: 557, 559: 558, 560: 559, 561: 560, 562: 561, 563: 562, 564: 563, 565: 564, 566: 565, 567: 566, 568: 567, 569: 568, 570: 569, 571: 570, 572: 571, 573: 572, 574: 573, 575: 574, 576: 575, 577: 576, 578: 577, 579: 578, 580: 579, 581: 580, 582: 581, 583: 582, 584: 583, 585: 584, 586: 585, 587: 586, 588: 587, 589: 588, 590: 589, 591: 590, 592: 591, 593: 592, 594: 593, 595: 594, 596: 595, 597: 596, 598: 597, 599: 598, 600: 599, 601: 600, 602: 601, 603: 602, 604: 603, 605: 604, 606: 605, 607: 606, 608: 607, 609: 608, 610: 609}\n",
      "{1: 0, 2: 1, 3: 2, 4: 3, 5: 4, 6: 5, 7: 6, 8: 7, 9: 8, 10: 9, 11: 10, 12: 11, 13: 12, 14: 13, 15: 14, 16: 15, 17: 16, 18: 17, 19: 18, 20: 19, 21: 20, 22: 21, 23: 22, 24: 23, 25: 24, 26: 25, 27: 26, 28: 27, 29: 28, 30: 29, 31: 30, 32: 31, 34: 32, 36: 33, 38: 34, 39: 35, 40: 36, 41: 37, 42: 38, 43: 39, 44: 40, 45: 41, 46: 42, 47: 43, 48: 44, 49: 45, 50: 46, 52: 47, 53: 48, 54: 49, 55: 50, 57: 51, 58: 52, 60: 53, 61: 54, 62: 55, 63: 56, 64: 57, 65: 58, 66: 59, 68: 60, 69: 61, 70: 62, 71: 63, 72: 64, 73: 65, 74: 66, 75: 67, 76: 68, 77: 69, 78: 70, 79: 71, 80: 72, 81: 73, 82: 74, 83: 75, 85: 76, 86: 77, 87: 78, 88: 79, 89: 80, 92: 81, 93: 82, 94: 83, 95: 84, 96: 85, 97: 86, 99: 87, 100: 88, 101: 89, 102: 90, 103: 91, 104: 92, 105: 93, 106: 94, 107: 95, 108: 96, 110: 97, 111: 98, 112: 99, 113: 100, 116: 101, 117: 102, 118: 103, 119: 104, 121: 105, 122: 106, 123: 107, 125: 108, 126: 109, 128: 110, 129: 111, 132: 112, 135: 113, 137: 114, 140: 115, 141: 116, 144: 117, 145: 118, 146: 119, 147: 120, 148: 121, 149: 122, 150: 123, 151: 124, 152: 125, 153: 126, 154: 127, 155: 128, 156: 129, 157: 130, 158: 131, 159: 132, 160: 133, 161: 134, 162: 135, 163: 136, 164: 137, 165: 138, 166: 139, 168: 140, 169: 141, 170: 142, 171: 143, 172: 144, 173: 145, 174: 146, 175: 147, 176: 148, 177: 149, 178: 150, 179: 151, 180: 152, 181: 153, 183: 154, 184: 155, 185: 156, 186: 157, 187: 158, 188: 159, 189: 160, 190: 161, 191: 162, 193: 163, 194: 164, 195: 165, 196: 166, 198: 167, 199: 168, 201: 169, 202: 170, 203: 171, 204: 172, 205: 173, 206: 174, 207: 175, 208: 176, 209: 177, 210: 178, 211: 179, 212: 180, 213: 181, 214: 182, 215: 183, 216: 184, 217: 185, 218: 186, 219: 187, 220: 188, 222: 189, 223: 190, 224: 191, 225: 192, 227: 193, 228: 194, 229: 195, 230: 196, 231: 197, 232: 198, 233: 199, 234: 200, 235: 201, 236: 202, 237: 203, 238: 204, 239: 205, 240: 206, 241: 207, 242: 208, 243: 209, 246: 210, 247: 211, 248: 212, 249: 213, 250: 214, 251: 215, 252: 216, 253: 217, 254: 218, 255: 219, 256: 220, 257: 221, 258: 222, 259: 223, 260: 224, 261: 225, 262: 226, 263: 227, 265: 228, 266: 229, 267: 230, 269: 231, 270: 232, 271: 233, 272: 234, 273: 235, 274: 236, 275: 237, 276: 238, 277: 239, 278: 240, 279: 241, 280: 242, 281: 243, 282: 244, 283: 245, 284: 246, 285: 247, 287: 248, 288: 249, 289: 250, 290: 251, 291: 252, 292: 253, 293: 254, 294: 255, 295: 256, 296: 257, 298: 258, 299: 259, 300: 260, 301: 261, 302: 262, 303: 263, 304: 264, 305: 265, 306: 266, 307: 267, 308: 268, 310: 269, 311: 270, 312: 271, 313: 272, 314: 273, 315: 274, 316: 275, 317: 276, 318: 277, 319: 278, 320: 279, 321: 280, 322: 281, 324: 282, 325: 283, 326: 284, 327: 285, 328: 286, 329: 287, 330: 288, 331: 289, 332: 290, 333: 291, 334: 292, 335: 293, 336: 294, 337: 295, 338: 296, 339: 297, 340: 298, 341: 299, 342: 300, 343: 301, 344: 302, 345: 303, 346: 304, 347: 305, 348: 306, 349: 307, 350: 308, 351: 309, 352: 310, 353: 311, 354: 312, 355: 313, 356: 314, 357: 315, 358: 316, 359: 317, 360: 318, 361: 319, 362: 320, 363: 321, 364: 322, 365: 323, 366: 324, 367: 325, 368: 326, 369: 327, 370: 328, 371: 329, 372: 330, 373: 331, 374: 332, 376: 333, 377: 334, 378: 335, 379: 336, 380: 337, 381: 338, 382: 339, 383: 340, 384: 341, 385: 342, 386: 343, 387: 344, 388: 345, 389: 346, 390: 347, 391: 348, 393: 349, 405: 350, 406: 351, 407: 352, 408: 353, 409: 354, 410: 355, 412: 356, 413: 357, 414: 358, 415: 359, 416: 360, 417: 361, 418: 362, 419: 363, 420: 364, 421: 365, 422: 366, 423: 367, 424: 368, 425: 369, 426: 370, 427: 371, 428: 372, 429: 373, 430: 374, 431: 375, 432: 376, 433: 377, 434: 378, 435: 379, 436: 380, 437: 381, 438: 382, 440: 383, 441: 384, 442: 385, 444: 386, 445: 387, 446: 388, 448: 389, 449: 390, 450: 391, 451: 392, 452: 393, 453: 394, 454: 395, 455: 396, 456: 397, 457: 398, 458: 399, 459: 400, 460: 401, 461: 402, 464: 403, 466: 404, 467: 405, 468: 406, 469: 407, 470: 408, 471: 409, 472: 410, 473: 411, 474: 412, 475: 413, 476: 414, 477: 415, 478: 416, 479: 417, 480: 418, 481: 419, 482: 420, 484: 421, 485: 422, 486: 423, 487: 424, 488: 425, 489: 426, 490: 427, 491: 428, 492: 429, 493: 430, 494: 431, 495: 432, 496: 433, 497: 434, 499: 435, 500: 436, 501: 437, 502: 438, 504: 439, 505: 440, 506: 441, 507: 442, 508: 443, 509: 444, 510: 445, 511: 446, 512: 447, 513: 448, 514: 449, 515: 450, 516: 451, 517: 452, 518: 453, 519: 454, 520: 455, 521: 456, 522: 457, 523: 458, 524: 459, 526: 460, 527: 461, 528: 462, 529: 463, 531: 464, 532: 465, 533: 466, 534: 467, 535: 468, 536: 469, 537: 470, 538: 471, 539: 472, 540: 473, 541: 474, 542: 475, 543: 476, 544: 477, 546: 478, 547: 479, 548: 480, 549: 481, 550: 482, 551: 483, 552: 484, 553: 485, 555: 486, 556: 487, 558: 488, 562: 489, 563: 490, 564: 491, 567: 492, 568: 493, 569: 494, 573: 495, 574: 496, 575: 497, 577: 498, 579: 499, 580: 500, 581: 501, 583: 502, 585: 503, 586: 504, 587: 505, 588: 506, 589: 507, 590: 508, 592: 509, 593: 510, 594: 511, 595: 512, 596: 513, 597: 514, 599: 515, 600: 516, 602: 517, 605: 518, 606: 519, 608: 520, 609: 521, 610: 522, 611: 523, 612: 524, 613: 525, 615: 526, 616: 527, 617: 528, 618: 529, 619: 530, 626: 531, 627: 532, 628: 533, 631: 534, 632: 535, 633: 536, 634: 537, 635: 538, 636: 539, 637: 540, 638: 541, 639: 542, 640: 543, 645: 544, 647: 545, 648: 546, 649: 547, 650: 548, 653: 549, 656: 550, 661: 551, 662: 552, 663: 553, 665: 554, 667: 555, 668: 556, 670: 557, 671: 558, 673: 559, 674: 560, 678: 561, 679: 562, 680: 563, 685: 564, 688: 565, 691: 566, 692: 567, 694: 568, 695: 569, 697: 570, 698: 571, 700: 572, 703: 573, 704: 574, 706: 575, 707: 576, 708: 577, 709: 578, 710: 579, 711: 580, 714: 581, 715: 582, 718: 583, 719: 584, 720: 585, 722: 586, 724: 587, 725: 588, 726: 589, 728: 590, 731: 591, 733: 592, 735: 593, 736: 594, 737: 595, 741: 596, 742: 597, 743: 598, 745: 599, 747: 600, 748: 601, 750: 602, 757: 603, 759: 604, 760: 605, 761: 606, 762: 607, 764: 608, 765: 609, 766: 610, 773: 611, 775: 612, 778: 613, 779: 614, 780: 615, 781: 616, 782: 617, 783: 618, 784: 619, 785: 620, 786: 621, 788: 622, 790: 623, 791: 624, 795: 625, 798: 626, 799: 627, 800: 628, 801: 629, 802: 630, 803: 631, 804: 632, 805: 633, 806: 634, 808: 635, 809: 636, 810: 637, 813: 638, 818: 639, 823: 640, 824: 641, 828: 642, 829: 643, 830: 644, 832: 645, 833: 646, 835: 647, 836: 648, 837: 649, 838: 650, 839: 651, 840: 652, 841: 653, 842: 654, 848: 655, 849: 656, 851: 657, 852: 658, 858: 659, 861: 660, 866: 661, 867: 662, 869: 663, 870: 664, 875: 665, 876: 666, 879: 667, 880: 668, 881: 669, 882: 670, 885: 671, 886: 672, 888: 673, 889: 674, 891: 675, 892: 676, 893: 677, 896: 678, 897: 679, 898: 680, 899: 681, 900: 682, 901: 683, 902: 684, 903: 685, 904: 686, 905: 687, 906: 688, 907: 689, 908: 690, 909: 691, 910: 692, 911: 693, 912: 694, 913: 695, 914: 696, 915: 697, 916: 698, 917: 699, 918: 700, 919: 701, 920: 702, 921: 703, 922: 704, 923: 705, 924: 706, 926: 707, 927: 708, 928: 709, 929: 710, 930: 711, 931: 712, 932: 713, 933: 714, 934: 715, 935: 716, 936: 717, 937: 718, 938: 719, 940: 720, 941: 721, 942: 722, 943: 723, 944: 724, 945: 725, 946: 726, 947: 727, 948: 728, 949: 729, 950: 730, 951: 731, 952: 732, 953: 733, 954: 734, 955: 735, 956: 736, 959: 737, 961: 738, 963: 739, 965: 740, 968: 741, 969: 742, 970: 743, 971: 744, 973: 745, 976: 746, 979: 747, 981: 748, 982: 749, 984: 750, 986: 751, 987: 752, 988: 753, 990: 754, 991: 755, 993: 756, 994: 757, 996: 758, 998: 759, 999: 760, 1003: 761, 1004: 762, 1005: 763, 1006: 764, 1007: 765, 1008: 766, 1009: 767, 1010: 768, 1011: 769, 1012: 770, 1013: 771, 1014: 772, 1015: 773, 1016: 774, 1017: 775, 1018: 776, 1019: 777, 1020: 778, 1021: 779, 1022: 780, 1023: 781, 1024: 782, 1025: 783, 1027: 784, 1028: 785, 1029: 786, 1030: 787, 1031: 788, 1032: 789, 1033: 790, 1034: 791, 1035: 792, 1036: 793, 1037: 794, 1040: 795, 1041: 796, 1042: 797, 1043: 798, 1046: 799, 1047: 800, 1049: 801, 1050: 802, 1051: 803, 1053: 804, 1054: 805, 1055: 806, 1056: 807, 1057: 808, 1059: 809, 1060: 810, 1061: 811, 1064: 812, 1066: 813, 1068: 814, 1073: 815, 1077: 816, 1078: 817, 1079: 818, 1080: 819, 1081: 820, 1082: 821, 1083: 822, 1084: 823, 1085: 824, 1086: 825, 1088: 826, 1089: 827, 1090: 828, 1091: 829, 1092: 830, 1093: 831, 1094: 832, 1095: 833, 1096: 834, 1097: 835, 1099: 836, 1100: 837, 1101: 838, 1103: 839, 1104: 840, 1105: 841, 1107: 842, 1111: 843, 1112: 844, 1114: 845, 1116: 846, 1117: 847, 1119: 848, 1120: 849, 1121: 850, 1123: 851, 1124: 852, 1125: 853, 1126: 854, 1127: 855, 1128: 856, 1129: 857, 1130: 858, 1131: 859, 1132: 860, 1135: 861, 1136: 862, 1137: 863, 1140: 864, 1144: 865, 1147: 866, 1148: 867, 1150: 868, 1151: 869, 1156: 870, 1161: 871, 1162: 872, 1163: 873, 1167: 874, 1170: 875, 1171: 876, 1172: 877, 1173: 878, 1175: 879, 1176: 880, 1177: 881, 1178: 882, 1179: 883, 1180: 884, 1183: 885, 1184: 886, 1185: 887, 1186: 888, 1187: 889, 1188: 890, 1189: 891, 1190: 892, 1191: 893, 1192: 894, 1193: 895, 1194: 896, 1196: 897, 1197: 898, 1198: 899, 1199: 900, 1200: 901, 1201: 902, 1202: 903, 1203: 904, 1204: 905, 1206: 906, 1207: 907, 1208: 908, 1209: 909, 1210: 910, 1211: 911, 1212: 912, 1213: 913, 1214: 914, 1215: 915, 1216: 916, 1217: 917, 1218: 918, 1219: 919, 1220: 920, 1221: 921, 1222: 922, 1223: 923, 1224: 924, 1225: 925, 1226: 926, 1227: 927, 1228: 928, 1230: 929, 1231: 930, 1232: 931, 1233: 932, 1234: 933, 1235: 934, 1236: 935, 1237: 936, 1238: 937, 1240: 938, 1241: 939, 1242: 940, 1243: 941, 1244: 942, 1245: 943, 1246: 944, 1247: 945, 1248: 946, 1249: 947, 1250: 948, 1251: 949, 1252: 950, 1253: 951, 1254: 952, 1255: 953, 1256: 954, 1257: 955, 1258: 956, 1259: 957, 1260: 958, 1261: 959, 1262: 960, 1263: 961, 1264: 962, 1265: 963, 1266: 964, 1267: 965, 1268: 966, 1269: 967, 1270: 968, 1271: 969, 1272: 970, 1273: 971, 1274: 972, 1275: 973, 1276: 974, 1277: 975, 1278: 976, 1279: 977, 1280: 978, 1281: 979, 1282: 980, 1283: 981, 1284: 982, 1285: 983, 1286: 984, 1287: 985, 1288: 986, 1289: 987, 1290: 988, 1291: 989, 1292: 990, 1293: 991, 1295: 992, 1296: 993, 1297: 994, 1298: 995, 1299: 996, 1300: 997, 1301: 998, 1302: 999, 1303: 1000, 1304: 1001, 1305: 1002, 1306: 1003, 1307: 1004, 1310: 1005, 1312: 1006, 1318: 1007, 1320: 1008, 1321: 1009, 1322: 1010, 1323: 1011, 1324: 1012, 1325: 1013, 1326: 1014, 1327: 1015, 1328: 1016, 1329: 1017, 1330: 1018, 1331: 1019, 1332: 1020, 1333: 1021, 1334: 1022, 1335: 1023, 1336: 1024, 1337: 1025, 1339: 1026, 1340: 1027, 1341: 1028, 1342: 1029, 1343: 1030, 1344: 1031, 1345: 1032, 1346: 1033, 1347: 1034, 1348: 1035, 1349: 1036, 1350: 1037, 1351: 1038, 1352: 1039, 1353: 1040, 1354: 1041, 1355: 1042, 1356: 1043, 1357: 1044, 1358: 1045, 1359: 1046, 1361: 1047, 1363: 1048, 1365: 1049, 1366: 1050, 1367: 1051, 1370: 1052, 1371: 1053, 1372: 1054, 1373: 1055, 1374: 1056, 1375: 1057, 1376: 1058, 1377: 1059, 1378: 1060, 1379: 1061, 1380: 1062, 1381: 1063, 1382: 1064, 1385: 1065, 1387: 1066, 1388: 1067, 1389: 1068, 1390: 1069, 1391: 1070, 1392: 1071, 1393: 1072, 1394: 1073, 1395: 1074, 1396: 1075, 1397: 1076, 1398: 1077, 1399: 1078, 1401: 1079, 1405: 1080, 1406: 1081, 1407: 1082, 1408: 1083, 1409: 1084, 1411: 1085, 1412: 1086, 1413: 1087, 1414: 1088, 1415: 1089, 1416: 1090, 1417: 1091, 1419: 1092, 1422: 1093, 1423: 1094, 1425: 1095, 1426: 1096, 1427: 1097, 1428: 1098, 1429: 1099, 1430: 1100, 1431: 1101, 1432: 1102, 1437: 1103, 1438: 1104, 1439: 1105, 1440: 1106, 1441: 1107, 1442: 1108, 1445: 1109, 1446: 1110, 1447: 1111, 1449: 1112, 1453: 1113, 1454: 1114, 1456: 1115, 1457: 1116, 1458: 1117, 1459: 1118, 1460: 1119, 1461: 1120, 1464: 1121, 1465: 1122, 1466: 1123, 1468: 1124, 1473: 1125, 1474: 1126, 1475: 1127, 1476: 1128, 1477: 1129, 1479: 1130, 1480: 1131, 1483: 1132, 1484: 1133, 1485: 1134, 1487: 1135, 1488: 1136, 1489: 1137, 1490: 1138, 1493: 1139, 1495: 1140, 1496: 1141, 1497: 1142, 1498: 1143, 1499: 1144, 1500: 1145, 1502: 1146, 1503: 1147, 1507: 1148, 1513: 1149, 1514: 1150, 1515: 1151, 1516: 1152, 1517: 1153, 1518: 1154, 1519: 1155, 1526: 1156, 1527: 1157, 1529: 1158, 1533: 1159, 1537: 1160, 1541: 1161, 1542: 1162, 1544: 1163, 1545: 1164, 1546: 1165, 1547: 1166, 1549: 1167, 1550: 1168, 1551: 1169, 1552: 1170, 1554: 1171, 1556: 1172, 1562: 1173, 1564: 1174, 1565: 1175, 1566: 1176, 1569: 1177, 1571: 1178, 1572: 1179, 1573: 1180, 1574: 1181, 1580: 1182, 1581: 1183, 1582: 1184, 1583: 1185, 1584: 1186, 1585: 1187, 1586: 1188, 1587: 1189, 1588: 1190, 1589: 1191, 1590: 1192, 1591: 1193, 1592: 1194, 1593: 1195, 1594: 1196, 1596: 1197, 1597: 1198, 1598: 1199, 1599: 1200, 1600: 1201, 1601: 1202, 1602: 1203, 1603: 1204, 1604: 1205, 1605: 1206, 1606: 1207, 1608: 1208, 1609: 1209, 1610: 1210, 1611: 1211, 1612: 1212, 1613: 1213, 1614: 1214, 1615: 1215, 1616: 1216, 1617: 1217, 1619: 1218, 1620: 1219, 1621: 1220, 1623: 1221, 1624: 1222, 1625: 1223, 1626: 1224, 1627: 1225, 1629: 1226, 1631: 1227, 1633: 1228, 1635: 1229, 1639: 1230, 1641: 1231, 1642: 1232, 1643: 1233, 1644: 1234, 1645: 1235, 1646: 1236, 1647: 1237, 1648: 1238, 1649: 1239, 1650: 1240, 1652: 1241, 1653: 1242, 1654: 1243, 1655: 1244, 1656: 1245, 1658: 1246, 1659: 1247, 1660: 1248, 1661: 1249, 1662: 1250, 1663: 1251, 1665: 1252, 1667: 1253, 1670: 1254, 1671: 1255, 1672: 1256, 1673: 1257, 1674: 1258, 1675: 1259, 1676: 1260, 1677: 1261, 1678: 1262, 1679: 1263, 1680: 1264, 1681: 1265, 1682: 1266, 1683: 1267, 1684: 1268, 1685: 1269, 1686: 1270, 1687: 1271, 1688: 1272, 1689: 1273, 1690: 1274, 1693: 1275, 1694: 1276, 1695: 1277, 1696: 1278, 1699: 1279, 1701: 1280, 1702: 1281, 1703: 1282, 1704: 1283, 1707: 1284, 1711: 1285, 1713: 1286, 1717: 1287, 1718: 1288, 1719: 1289, 1721: 1290, 1722: 1291, 1726: 1292, 1727: 1293, 1729: 1294, 1730: 1295, 1731: 1296, 1732: 1297, 1733: 1298, 1734: 1299, 1735: 1300, 1739: 1301, 1746: 1302, 1747: 1303, 1748: 1304, 1752: 1305, 1753: 1306, 1754: 1307, 1755: 1308, 1757: 1309, 1759: 1310, 1760: 1311, 1762: 1312, 1767: 1313, 1769: 1314, 1770: 1315, 1771: 1316, 1772: 1317, 1777: 1318, 1779: 1319, 1783: 1320, 1784: 1321, 1785: 1322, 1791: 1323, 1792: 1324, 1793: 1325, 1794: 1326, 1797: 1327, 1798: 1328, 1799: 1329, 1801: 1330, 1804: 1331, 1805: 1332, 1806: 1333, 1807: 1334, 1809: 1335, 1810: 1336, 1812: 1337, 1816: 1338, 1821: 1339, 1824: 1340, 1825: 1341, 1826: 1342, 1827: 1343, 1829: 1344, 1831: 1345, 1833: 1346, 1834: 1347, 1835: 1348, 1836: 1349, 1837: 1350, 1839: 1351, 1840: 1352, 1841: 1353, 1844: 1354, 1845: 1355, 1848: 1356, 1855: 1357, 1856: 1358, 1857: 1359, 1858: 1360, 1859: 1361, 1860: 1362, 1862: 1363, 1863: 1364, 1866: 1365, 1867: 1366, 1870: 1367, 1873: 1368, 1875: 1369, 1876: 1370, 1881: 1371, 1882: 1372, 1883: 1373, 1884: 1374, 1885: 1375, 1887: 1376, 1888: 1377, 1889: 1378, 1891: 1379, 1892: 1380, 1893: 1381, 1894: 1382, 1895: 1383, 1897: 1384, 1900: 1385, 1902: 1386, 1904: 1387, 1906: 1388, 1907: 1389, 1909: 1390, 1910: 1391, 1911: 1392, 1912: 1393, 1913: 1394, 1914: 1395, 1916: 1396, 1917: 1397, 1918: 1398, 1919: 1399, 1920: 1400, 1921: 1401, 1922: 1402, 1923: 1403, 1924: 1404, 1926: 1405, 1927: 1406, 1928: 1407, 1929: 1408, 1931: 1409, 1932: 1410, 1933: 1411, 1934: 1412, 1936: 1413, 1937: 1414, 1938: 1415, 1939: 1416, 1940: 1417, 1941: 1418, 1942: 1419, 1944: 1420, 1945: 1421, 1946: 1422, 1947: 1423, 1948: 1424, 1949: 1425, 1950: 1426, 1951: 1427, 1952: 1428, 1953: 1429, 1954: 1430, 1955: 1431, 1956: 1432, 1957: 1433, 1958: 1434, 1959: 1435, 1960: 1436, 1961: 1437, 1962: 1438, 1963: 1439, 1964: 1440, 1965: 1441, 1966: 1442, 1967: 1443, 1968: 1444, 1969: 1445, 1970: 1446, 1971: 1447, 1972: 1448, 1973: 1449, 1974: 1450, 1975: 1451, 1976: 1452, 1977: 1453, 1978: 1454, 1979: 1455, 1980: 1456, 1981: 1457, 1982: 1458, 1983: 1459, 1984: 1460, 1985: 1461, 1986: 1462, 1987: 1463, 1990: 1464, 1991: 1465, 1992: 1466, 1993: 1467, 1994: 1468, 1995: 1469, 1996: 1470, 1997: 1471, 1998: 1472, 1999: 1473, 2000: 1474, 2001: 1475, 2002: 1476, 2003: 1477, 2004: 1478, 2005: 1479, 2006: 1480, 2007: 1481, 2008: 1482, 2009: 1483, 2010: 1484, 2011: 1485, 2012: 1486, 2013: 1487, 2014: 1488, 2015: 1489, 2016: 1490, 2017: 1491, 2018: 1492, 2019: 1493, 2020: 1494, 2021: 1495, 2022: 1496, 2023: 1497, 2024: 1498, 2025: 1499, 2026: 1500, 2027: 1501, 2028: 1502, 2032: 1503, 2033: 1504, 2034: 1505, 2035: 1506, 2036: 1507, 2037: 1508, 2038: 1509, 2040: 1510, 2041: 1511, 2042: 1512, 2043: 1513, 2044: 1514, 2046: 1515, 2048: 1516, 2050: 1517, 2051: 1518, 2052: 1519, 2053: 1520, 2054: 1521, 2055: 1522, 2056: 1523, 2057: 1524, 2058: 1525, 2059: 1526, 2060: 1527, 2064: 1528, 2065: 1529, 2066: 1530, 2067: 1531, 2068: 1532, 2069: 1533, 2070: 1534, 2071: 1535, 2072: 1536, 2073: 1537, 2074: 1538, 2075: 1539, 2076: 1540, 2077: 1541, 2078: 1542, 2080: 1543, 2081: 1544, 2082: 1545, 2083: 1546, 2084: 1547, 2085: 1548, 2087: 1549, 2088: 1550, 2089: 1551, 2090: 1552, 2091: 1553, 2092: 1554, 2093: 1555, 2094: 1556, 2095: 1557, 2096: 1558, 2097: 1559, 2098: 1560, 2099: 1561, 2100: 1562, 2102: 1563, 2103: 1564, 2104: 1565, 2105: 1566, 2106: 1567, 2107: 1568, 2108: 1569, 2109: 1570, 2110: 1571, 2111: 1572, 2112: 1573, 2114: 1574, 2115: 1575, 2116: 1576, 2117: 1577, 2118: 1578, 2119: 1579, 2120: 1580, 2121: 1581, 2122: 1582, 2123: 1583, 2124: 1584, 2125: 1585, 2126: 1586, 2130: 1587, 2131: 1588, 2132: 1589, 2133: 1590, 2134: 1591, 2135: 1592, 2136: 1593, 2137: 1594, 2138: 1595, 2139: 1596, 2140: 1597, 2141: 1598, 2142: 1599, 2143: 1600, 2144: 1601, 2145: 1602, 2146: 1603, 2147: 1604, 2148: 1605, 2149: 1606, 2150: 1607, 2151: 1608, 2152: 1609, 2153: 1610, 2154: 1611, 2155: 1612, 2156: 1613, 2159: 1614, 2160: 1615, 2161: 1616, 2162: 1617, 2163: 1618, 2164: 1619, 2165: 1620, 2166: 1621, 2167: 1622, 2169: 1623, 2170: 1624, 2171: 1625, 2172: 1626, 2174: 1627, 2175: 1628, 2176: 1629, 2177: 1630, 2178: 1631, 2179: 1632, 2180: 1633, 2181: 1634, 2182: 1635, 2183: 1636, 2184: 1637, 2185: 1638, 2186: 1639, 2187: 1640, 2188: 1641, 2190: 1642, 2193: 1643, 2194: 1644, 2195: 1645, 2196: 1646, 2201: 1647, 2202: 1648, 2203: 1649, 2204: 1650, 2205: 1651, 2206: 1652, 2207: 1653, 2208: 1654, 2210: 1655, 2211: 1656, 2212: 1657, 2226: 1658, 2227: 1659, 2231: 1660, 2232: 1661, 2236: 1662, 2239: 1663, 2240: 1664, 2241: 1665, 2243: 1666, 2244: 1667, 2245: 1668, 2247: 1669, 2248: 1670, 2249: 1671, 2252: 1672, 2253: 1673, 2255: 1674, 2256: 1675, 2257: 1676, 2259: 1677, 2260: 1678, 2261: 1679, 2262: 1680, 2263: 1681, 2264: 1682, 2265: 1683, 2266: 1684, 2267: 1685, 2268: 1686, 2269: 1687, 2271: 1688, 2272: 1689, 2273: 1690, 2275: 1691, 2278: 1692, 2279: 1693, 2280: 1694, 2281: 1695, 2282: 1696, 2283: 1697, 2286: 1698, 2287: 1699, 2288: 1700, 2289: 1701, 2290: 1702, 2291: 1703, 2292: 1704, 2294: 1705, 2295: 1706, 2296: 1707, 2297: 1708, 2298: 1709, 2300: 1710, 2301: 1711, 2302: 1712, 2303: 1713, 2304: 1714, 2306: 1715, 2307: 1716, 2310: 1717, 2311: 1718, 2312: 1719, 2313: 1720, 2314: 1721, 2315: 1722, 2316: 1723, 2318: 1724, 2320: 1725, 2321: 1726, 2322: 1727, 2323: 1728, 2324: 1729, 2325: 1730, 2327: 1731, 2328: 1732, 2329: 1733, 2330: 1734, 2331: 1735, 2332: 1736, 2333: 1737, 2334: 1738, 2335: 1739, 2336: 1740, 2337: 1741, 2338: 1742, 2339: 1743, 2340: 1744, 2342: 1745, 2344: 1746, 2346: 1747, 2347: 1748, 2348: 1749, 2349: 1750, 2350: 1751, 2351: 1752, 2352: 1753, 2353: 1754, 2354: 1755, 2355: 1756, 2356: 1757, 2357: 1758, 2358: 1759, 2359: 1760, 2360: 1761, 2361: 1762, 2362: 1763, 2363: 1764, 2364: 1765, 2365: 1766, 2366: 1767, 2367: 1768, 2368: 1769, 2369: 1770, 2370: 1771, 2371: 1772, 2372: 1773, 2373: 1774, 2374: 1775, 2375: 1776, 2376: 1777, 2377: 1778, 2378: 1779, 2379: 1780, 2380: 1781, 2381: 1782, 2382: 1783, 2383: 1784, 2384: 1785, 2385: 1786, 2387: 1787, 2388: 1788, 2389: 1789, 2390: 1790, 2391: 1791, 2392: 1792, 2393: 1793, 2394: 1794, 2395: 1795, 2396: 1796, 2398: 1797, 2399: 1798, 2400: 1799, 2401: 1800, 2402: 1801, 2403: 1802, 2404: 1803, 2405: 1804, 2406: 1805, 2407: 1806, 2408: 1807, 2409: 1808, 2410: 1809, 2411: 1810, 2412: 1811, 2413: 1812, 2414: 1813, 2415: 1814, 2416: 1815, 2417: 1816, 2418: 1817, 2419: 1818, 2420: 1819, 2421: 1820, 2422: 1821, 2423: 1822, 2424: 1823, 2425: 1824, 2427: 1825, 2428: 1826, 2429: 1827, 2430: 1828, 2431: 1829, 2432: 1830, 2433: 1831, 2435: 1832, 2436: 1833, 2439: 1834, 2442: 1835, 2443: 1836, 2445: 1837, 2446: 1838, 2447: 1839, 2448: 1840, 2450: 1841, 2451: 1842, 2453: 1843, 2454: 1844, 2455: 1845, 2456: 1846, 2457: 1847, 2458: 1848, 2459: 1849, 2460: 1850, 2462: 1851, 2463: 1852, 2465: 1853, 2467: 1854, 2468: 1855, 2469: 1856, 2470: 1857, 2471: 1858, 2472: 1859, 2473: 1860, 2474: 1861, 2475: 1862, 2476: 1863, 2477: 1864, 2478: 1865, 2481: 1866, 2482: 1867, 2483: 1868, 2485: 1869, 2488: 1870, 2490: 1871, 2491: 1872, 2492: 1873, 2493: 1874, 2494: 1875, 2495: 1876, 2496: 1877, 2497: 1878, 2498: 1879, 2500: 1880, 2501: 1881, 2502: 1882, 2503: 1883, 2504: 1884, 2505: 1885, 2506: 1886, 2511: 1887, 2512: 1888, 2513: 1889, 2514: 1890, 2515: 1891, 2516: 1892, 2517: 1893, 2518: 1894, 2520: 1895, 2521: 1896, 2522: 1897, 2523: 1898, 2524: 1899, 2525: 1900, 2526: 1901, 2527: 1902, 2528: 1903, 2529: 1904, 2530: 1905, 2531: 1906, 2532: 1907, 2533: 1908, 2534: 1909, 2535: 1910, 2537: 1911, 2538: 1912, 2539: 1913, 2540: 1914, 2541: 1915, 2542: 1916, 2544: 1917, 2546: 1918, 2548: 1919, 2549: 1920, 2550: 1921, 2551: 1922, 2552: 1923, 2553: 1924, 2554: 1925, 2555: 1926, 2557: 1927, 2558: 1928, 2559: 1929, 2560: 1930, 2561: 1931, 2563: 1932, 2565: 1933, 2566: 1934, 2567: 1935, 2568: 1936, 2570: 1937, 2571: 1938, 2572: 1939, 2573: 1940, 2574: 1941, 2575: 1942, 2577: 1943, 2579: 1944, 2580: 1945, 2581: 1946, 2582: 1947, 2583: 1948, 2585: 1949, 2586: 1950, 2587: 1951, 2589: 1952, 2590: 1953, 2593: 1954, 2594: 1955, 2596: 1956, 2597: 1957, 2598: 1958, 2599: 1959, 2600: 1960, 2605: 1961, 2606: 1962, 2607: 1963, 2609: 1964, 2611: 1965, 2612: 1966, 2613: 1967, 2614: 1968, 2615: 1969, 2616: 1970, 2617: 1971, 2618: 1972, 2620: 1973, 2622: 1974, 2623: 1975, 2624: 1976, 2625: 1977, 2628: 1978, 2629: 1979, 2630: 1980, 2632: 1981, 2633: 1982, 2634: 1983, 2639: 1984, 2640: 1985, 2641: 1986, 2642: 1987, 2643: 1988, 2644: 1989, 2648: 1990, 2651: 1991, 2652: 1992, 2654: 1993, 2655: 1994, 2656: 1995, 2657: 1996, 2659: 1997, 2660: 1998, 2661: 1999, 2662: 2000, 2664: 2001, 2665: 2002, 2668: 2003, 2669: 2004, 2670: 2005, 2671: 2006, 2672: 2007, 2674: 2008, 2676: 2009, 2677: 2010, 2681: 2011, 2682: 2012, 2683: 2013, 2686: 2014, 2687: 2015, 2688: 2016, 2690: 2017, 2691: 2018, 2692: 2019, 2693: 2020, 2694: 2021, 2695: 2022, 2696: 2023, 2697: 2024, 2698: 2025, 2699: 2026, 2700: 2027, 2701: 2028, 2702: 2029, 2706: 2030, 2707: 2031, 2708: 2032, 2709: 2033, 2710: 2034, 2712: 2035, 2713: 2036, 2716: 2037, 2717: 2038, 2718: 2039, 2719: 2040, 2720: 2041, 2722: 2042, 2723: 2043, 2724: 2044, 2725: 2045, 2726: 2046, 2727: 2047, 2728: 2048, 2729: 2049, 2730: 2050, 2731: 2051, 2732: 2052, 2733: 2053, 2734: 2054, 2735: 2055, 2736: 2056, 2737: 2057, 2738: 2058, 2739: 2059, 2740: 2060, 2741: 2061, 2742: 2062, 2743: 2063, 2744: 2064, 2745: 2065, 2746: 2066, 2747: 2067, 2748: 2068, 2749: 2069, 2750: 2070, 2751: 2071, 2752: 2072, 2754: 2073, 2757: 2074, 2759: 2075, 2761: 2076, 2762: 2077, 2763: 2078, 2764: 2079, 2765: 2080, 2766: 2081, 2769: 2082, 2770: 2083, 2771: 2084, 2772: 2085, 2774: 2086, 2775: 2087, 2779: 2088, 2782: 2089, 2784: 2090, 2786: 2091, 2787: 2092, 2788: 2093, 2789: 2094, 2790: 2095, 2791: 2096, 2792: 2097, 2793: 2098, 2794: 2099, 2795: 2100, 2796: 2101, 2797: 2102, 2798: 2103, 2799: 2104, 2800: 2105, 2801: 2106, 2802: 2107, 2803: 2108, 2804: 2109, 2805: 2110, 2806: 2111, 2807: 2112, 2808: 2113, 2810: 2114, 2812: 2115, 2813: 2116, 2815: 2117, 2816: 2118, 2817: 2119, 2818: 2120, 2819: 2121, 2820: 2122, 2822: 2123, 2824: 2124, 2826: 2125, 2827: 2126, 2828: 2127, 2829: 2128, 2835: 2129, 2836: 2130, 2837: 2131, 2839: 2132, 2840: 2133, 2841: 2134, 2843: 2135, 2844: 2136, 2846: 2137, 2847: 2138, 2848: 2139, 2851: 2140, 2852: 2141, 2856: 2142, 2857: 2143, 2858: 2144, 2859: 2145, 2860: 2146, 2861: 2147, 2862: 2148, 2863: 2149, 2865: 2150, 2866: 2151, 2867: 2152, 2868: 2153, 2870: 2154, 2871: 2155, 2872: 2156, 2874: 2157, 2875: 2158, 2876: 2159, 2877: 2160, 2878: 2161, 2879: 2162, 2880: 2163, 2881: 2164, 2882: 2165, 2883: 2166, 2884: 2167, 2885: 2168, 2886: 2169, 2887: 2170, 2888: 2171, 2889: 2172, 2890: 2173, 2891: 2174, 2892: 2175, 2893: 2176, 2894: 2177, 2896: 2178, 2897: 2179, 2898: 2180, 2899: 2181, 2900: 2182, 2901: 2183, 2902: 2184, 2903: 2185, 2905: 2186, 2906: 2187, 2907: 2188, 2908: 2189, 2912: 2190, 2915: 2191, 2916: 2192, 2917: 2193, 2918: 2194, 2919: 2195, 2921: 2196, 2922: 2197, 2924: 2198, 2925: 2199, 2926: 2200, 2927: 2201, 2928: 2202, 2929: 2203, 2930: 2204, 2931: 2205, 2932: 2206, 2935: 2207, 2936: 2208, 2937: 2209, 2940: 2210, 2941: 2211, 2942: 2212, 2943: 2213, 2944: 2214, 2946: 2215, 2947: 2216, 2948: 2217, 2949: 2218, 2950: 2219, 2951: 2220, 2952: 2221, 2953: 2222, 2956: 2223, 2959: 2224, 2961: 2225, 2962: 2226, 2964: 2227, 2965: 2228, 2966: 2229, 2967: 2230, 2968: 2231, 2969: 2232, 2970: 2233, 2971: 2234, 2972: 2235, 2973: 2236, 2974: 2237, 2975: 2238, 2976: 2239, 2977: 2240, 2978: 2241, 2979: 2242, 2982: 2243, 2983: 2244, 2984: 2245, 2985: 2246, 2986: 2247, 2987: 2248, 2988: 2249, 2989: 2250, 2990: 2251, 2991: 2252, 2992: 2253, 2993: 2254, 2995: 2255, 2996: 2256, 2997: 2257, 3000: 2258, 3002: 2259, 3003: 2260, 3004: 2261, 3005: 2262, 3006: 2263, 3007: 2264, 3008: 2265, 3010: 2266, 3011: 2267, 3013: 2268, 3014: 2269, 3015: 2270, 3016: 2271, 3017: 2272, 3018: 2273, 3019: 2274, 3020: 2275, 3021: 2276, 3022: 2277, 3024: 2278, 3028: 2279, 3029: 2280, 3030: 2281, 3031: 2282, 3032: 2283, 3033: 2284, 3034: 2285, 3035: 2286, 3036: 2287, 3037: 2288, 3038: 2289, 3039: 2290, 3040: 2291, 3041: 2292, 3042: 2293, 3043: 2294, 3044: 2295, 3045: 2296, 3046: 2297, 3048: 2298, 3051: 2299, 3052: 2300, 3053: 2301, 3054: 2302, 3055: 2303, 3056: 2304, 3057: 2305, 3060: 2306, 3061: 2307, 3062: 2308, 3063: 2309, 3064: 2310, 3066: 2311, 3067: 2312, 3068: 2313, 3070: 2314, 3071: 2315, 3072: 2316, 3073: 2317, 3074: 2318, 3075: 2319, 3076: 2320, 3077: 2321, 3078: 2322, 3079: 2323, 3081: 2324, 3082: 2325, 3083: 2326, 3086: 2327, 3087: 2328, 3088: 2329, 3089: 2330, 3090: 2331, 3091: 2332, 3093: 2333, 3094: 2334, 3095: 2335, 3096: 2336, 3097: 2337, 3098: 2338, 3099: 2339, 3100: 2340, 3101: 2341, 3102: 2342, 3103: 2343, 3104: 2344, 3105: 2345, 3106: 2346, 3107: 2347, 3108: 2348, 3109: 2349, 3111: 2350, 3112: 2351, 3113: 2352, 3114: 2353, 3115: 2354, 3117: 2355, 3120: 2356, 3125: 2357, 3127: 2358, 3129: 2359, 3130: 2360, 3132: 2361, 3134: 2362, 3135: 2363, 3138: 2364, 3141: 2365, 3142: 2366, 3143: 2367, 3145: 2368, 3146: 2369, 3147: 2370, 3148: 2371, 3150: 2372, 3152: 2373, 3153: 2374, 3155: 2375, 3156: 2376, 3157: 2377, 3158: 2378, 3159: 2379, 3160: 2380, 3161: 2381, 3162: 2382, 3163: 2383, 3165: 2384, 3167: 2385, 3168: 2386, 3169: 2387, 3171: 2388, 3173: 2389, 3174: 2390, 3175: 2391, 3176: 2392, 3177: 2393, 3178: 2394, 3179: 2395, 3181: 2396, 3182: 2397, 3183: 2398, 3185: 2399, 3186: 2400, 3189: 2401, 3190: 2402, 3192: 2403, 3194: 2404, 3196: 2405, 3197: 2406, 3198: 2407, 3200: 2408, 3201: 2409, 3203: 2410, 3204: 2411, 3206: 2412, 3208: 2413, 3210: 2414, 3211: 2415, 3213: 2416, 3214: 2417, 3217: 2418, 3219: 2419, 3221: 2420, 3223: 2421, 3224: 2422, 3225: 2423, 3230: 2424, 3235: 2425, 3238: 2426, 3240: 2427, 3241: 2428, 3243: 2429, 3244: 2430, 3246: 2431, 3247: 2432, 3248: 2433, 3249: 2434, 3250: 2435, 3251: 2436, 3252: 2437, 3253: 2438, 3254: 2439, 3255: 2440, 3256: 2441, 3257: 2442, 3258: 2443, 3259: 2444, 3260: 2445, 3261: 2446, 3262: 2447, 3263: 2448, 3264: 2449, 3265: 2450, 3266: 2451, 3267: 2452, 3268: 2453, 3269: 2454, 3270: 2455, 3271: 2456, 3272: 2457, 3273: 2458, 3274: 2459, 3275: 2460, 3276: 2461, 3280: 2462, 3281: 2463, 3283: 2464, 3284: 2465, 3285: 2466, 3286: 2467, 3287: 2468, 3289: 2469, 3294: 2470, 3295: 2471, 3296: 2472, 3298: 2473, 3299: 2474, 3300: 2475, 3301: 2476, 3302: 2477, 3303: 2478, 3306: 2479, 3307: 2480, 3308: 2481, 3310: 2482, 3313: 2483, 3315: 2484, 3316: 2485, 3317: 2486, 3323: 2487, 3324: 2488, 3325: 2489, 3326: 2490, 3327: 2491, 3328: 2492, 3329: 2493, 3330: 2494, 3331: 2495, 3334: 2496, 3341: 2497, 3342: 2498, 3344: 2499, 3345: 2500, 3347: 2501, 3350: 2502, 3353: 2503, 3354: 2504, 3355: 2505, 3357: 2506, 3358: 2507, 3359: 2508, 3360: 2509, 3361: 2510, 3362: 2511, 3363: 2512, 3364: 2513, 3365: 2514, 3368: 2515, 3370: 2516, 3372: 2517, 3374: 2518, 3378: 2519, 3379: 2520, 3384: 2521, 3385: 2522, 3386: 2523, 3387: 2524, 3388: 2525, 3389: 2526, 3390: 2527, 3391: 2528, 3392: 2529, 3393: 2530, 3394: 2531, 3395: 2532, 3396: 2533, 3397: 2534, 3398: 2535, 3400: 2536, 3401: 2537, 3402: 2538, 3403: 2539, 3404: 2540, 3405: 2541, 3406: 2542, 3408: 2543, 3409: 2544, 3410: 2545, 3412: 2546, 3414: 2547, 3415: 2548, 3417: 2549, 3418: 2550, 3420: 2551, 3421: 2552, 3422: 2553, 3423: 2554, 3424: 2555, 3425: 2556, 3426: 2557, 3428: 2558, 3429: 2559, 3430: 2560, 3431: 2561, 3432: 2562, 3433: 2563, 3434: 2564, 3435: 2565, 3436: 2566, 3438: 2567, 3439: 2568, 3440: 2569, 3441: 2570, 3442: 2571, 3444: 2572, 3445: 2573, 3446: 2574, 3447: 2575, 3448: 2576, 3449: 2577, 3450: 2578, 3451: 2579, 3452: 2580, 3453: 2581, 3454: 2582, 3455: 2583, 3459: 2584, 3461: 2585, 3462: 2586, 3466: 2587, 3467: 2588, 3468: 2589, 3469: 2590, 3470: 2591, 3471: 2592, 3473: 2593, 3474: 2594, 3475: 2595, 3476: 2596, 3477: 2597, 3478: 2598, 3479: 2599, 3480: 2600, 3481: 2601, 3483: 2602, 3484: 2603, 3489: 2604, 3492: 2605, 3494: 2606, 3496: 2607, 3497: 2608, 3498: 2609, 3499: 2610, 3500: 2611, 3501: 2612, 3502: 2613, 3503: 2614, 3504: 2615, 3505: 2616, 3506: 2617, 3507: 2618, 3508: 2619, 3510: 2620, 3511: 2621, 3512: 2622, 3513: 2623, 3514: 2624, 3515: 2625, 3516: 2626, 3519: 2627, 3521: 2628, 3524: 2629, 3525: 2630, 3526: 2631, 3527: 2632, 3528: 2633, 3529: 2634, 3531: 2635, 3534: 2636, 3535: 2637, 3536: 2638, 3537: 2639, 3538: 2640, 3539: 2641, 3543: 2642, 3544: 2643, 3545: 2644, 3546: 2645, 3548: 2646, 3549: 2647, 3550: 2648, 3551: 2649, 3552: 2650, 3553: 2651, 3554: 2652, 3555: 2653, 3556: 2654, 3557: 2655, 3559: 2656, 3563: 2657, 3564: 2658, 3565: 2659, 3566: 2660, 3567: 2661, 3568: 2662, 3569: 2663, 3571: 2664, 3572: 2665, 3573: 2666, 3574: 2667, 3576: 2668, 3577: 2669, 3578: 2670, 3580: 2671, 3581: 2672, 3584: 2673, 3586: 2674, 3587: 2675, 3590: 2676, 3591: 2677, 3592: 2678, 3593: 2679, 3594: 2680, 3596: 2681, 3597: 2682, 3598: 2683, 3599: 2684, 3604: 2685, 3606: 2686, 3608: 2687, 3609: 2688, 3614: 2689, 3615: 2690, 3616: 2691, 3617: 2692, 3618: 2693, 3619: 2694, 3622: 2695, 3623: 2696, 3624: 2697, 3625: 2698, 3626: 2699, 3627: 2700, 3628: 2701, 3629: 2702, 3632: 2703, 3633: 2704, 3634: 2705, 3635: 2706, 3637: 2707, 3638: 2708, 3639: 2709, 3640: 2710, 3641: 2711, 3643: 2712, 3646: 2713, 3648: 2714, 3649: 2715, 3652: 2716, 3653: 2717, 3654: 2718, 3655: 2719, 3658: 2720, 3660: 2721, 3661: 2722, 3662: 2723, 3663: 2724, 3664: 2725, 3667: 2726, 3668: 2727, 3669: 2728, 3671: 2729, 3672: 2730, 3673: 2731, 3674: 2732, 3675: 2733, 3676: 2734, 3677: 2735, 3678: 2736, 3679: 2737, 3680: 2738, 3681: 2739, 3682: 2740, 3683: 2741, 3684: 2742, 3685: 2743, 3686: 2744, 3687: 2745, 3688: 2746, 3689: 2747, 3690: 2748, 3691: 2749, 3692: 2750, 3693: 2751, 3694: 2752, 3695: 2753, 3696: 2754, 3697: 2755, 3698: 2756, 3699: 2757, 3700: 2758, 3701: 2759, 3702: 2760, 3703: 2761, 3704: 2762, 3705: 2763, 3706: 2764, 3707: 2765, 3708: 2766, 3709: 2767, 3710: 2768, 3711: 2769, 3712: 2770, 3713: 2771, 3714: 2772, 3715: 2773, 3716: 2774, 3717: 2775, 3719: 2776, 3720: 2777, 3723: 2778, 3724: 2779, 3725: 2780, 3726: 2781, 3727: 2782, 3728: 2783, 3729: 2784, 3730: 2785, 3731: 2786, 3732: 2787, 3733: 2788, 3735: 2789, 3736: 2790, 3737: 2791, 3738: 2792, 3739: 2793, 3740: 2794, 3741: 2795, 3742: 2796, 3743: 2797, 3744: 2798, 3745: 2799, 3746: 2800, 3747: 2801, 3751: 2802, 3752: 2803, 3753: 2804, 3754: 2805, 3755: 2806, 3756: 2807, 3758: 2808, 3760: 2809, 3761: 2810, 3763: 2811, 3764: 2812, 3765: 2813, 3766: 2814, 3767: 2815, 3768: 2816, 3769: 2817, 3770: 2818, 3771: 2819, 3773: 2820, 3774: 2821, 3783: 2822, 3784: 2823, 3785: 2824, 3786: 2825, 3787: 2826, 3788: 2827, 3789: 2828, 3790: 2829, 3791: 2830, 3792: 2831, 3793: 2832, 3794: 2833, 3795: 2834, 3797: 2835, 3798: 2836, 3799: 2837, 3801: 2838, 3802: 2839, 3806: 2840, 3807: 2841, 3808: 2842, 3809: 2843, 3810: 2844, 3811: 2845, 3812: 2846, 3813: 2847, 3814: 2848, 3816: 2849, 3819: 2850, 3821: 2851, 3822: 2852, 3823: 2853, 3824: 2854, 3825: 2855, 3826: 2856, 3827: 2857, 3830: 2858, 3831: 2859, 3832: 2860, 3833: 2861, 3834: 2862, 3835: 2863, 3836: 2864, 3837: 2865, 3838: 2866, 3839: 2867, 3840: 2868, 3841: 2869, 3843: 2870, 3844: 2871, 3845: 2872, 3846: 2873, 3847: 2874, 3849: 2875, 3851: 2876, 3852: 2877, 3855: 2878, 3857: 2879, 3858: 2880, 3859: 2881, 3861: 2882, 3862: 2883, 3863: 2884, 3864: 2885, 3865: 2886, 3868: 2887, 3869: 2888, 3870: 2889, 3871: 2890, 3872: 2891, 3873: 2892, 3877: 2893, 3879: 2894, 3882: 2895, 3884: 2896, 3888: 2897, 3889: 2898, 3893: 2899, 3894: 2900, 3895: 2901, 3896: 2902, 3897: 2903, 3898: 2904, 3899: 2905, 3900: 2906, 3901: 2907, 3906: 2908, 3908: 2909, 3909: 2910, 3910: 2911, 3911: 2912, 3912: 2913, 3914: 2914, 3915: 2915, 3916: 2916, 3917: 2917, 3918: 2918, 3919: 2919, 3920: 2920, 3922: 2921, 3925: 2922, 3926: 2923, 3927: 2924, 3928: 2925, 3929: 2926, 3930: 2927, 3932: 2928, 3933: 2929, 3937: 2930, 3938: 2931, 3939: 2932, 3940: 2933, 3941: 2934, 3942: 2935, 3943: 2936, 3945: 2937, 3946: 2938, 3947: 2939, 3948: 2940, 3949: 2941, 3950: 2942, 3951: 2943, 3952: 2944, 3953: 2945, 3955: 2946, 3957: 2947, 3958: 2948, 3959: 2949, 3962: 2950, 3963: 2951, 3964: 2952, 3965: 2953, 3966: 2954, 3967: 2955, 3968: 2956, 3969: 2957, 3971: 2958, 3972: 2959, 3973: 2960, 3974: 2961, 3977: 2962, 3978: 2963, 3979: 2964, 3980: 2965, 3981: 2966, 3983: 2967, 3984: 2968, 3985: 2969, 3986: 2970, 3987: 2971, 3988: 2972, 3989: 2973, 3990: 2974, 3991: 2975, 3992: 2976, 3993: 2977, 3994: 2978, 3996: 2979, 3997: 2980, 3998: 2981, 3999: 2982, 4000: 2983, 4002: 2984, 4003: 2985, 4005: 2986, 4006: 2987, 4007: 2988, 4008: 2989, 4009: 2990, 4010: 2991, 4011: 2992, 4012: 2993, 4014: 2994, 4015: 2995, 4016: 2996, 4017: 2997, 4018: 2998, 4019: 2999, 4020: 3000, 4021: 3001, 4022: 3002, 4023: 3003, 4024: 3004, 4025: 3005, 4027: 3006, 4029: 3007, 4030: 3008, 4031: 3009, 4032: 3010, 4033: 3011, 4034: 3012, 4035: 3013, 4036: 3014, 4037: 3015, 4039: 3016, 4040: 3017, 4041: 3018, 4042: 3019, 4043: 3020, 4046: 3021, 4047: 3022, 4051: 3023, 4052: 3024, 4053: 3025, 4054: 3026, 4055: 3027, 4056: 3028, 4061: 3029, 4062: 3030, 4063: 3031, 4064: 3032, 4065: 3033, 4066: 3034, 4067: 3035, 4068: 3036, 4069: 3037, 4074: 3038, 4077: 3039, 4078: 3040, 4079: 3041, 4080: 3042, 4081: 3043, 4082: 3044, 4083: 3045, 4084: 3046, 4085: 3047, 4086: 3048, 4089: 3049, 4090: 3050, 4091: 3051, 4092: 3052, 4093: 3053, 4102: 3054, 4103: 3055, 4104: 3056, 4105: 3057, 4109: 3058, 4110: 3059, 4111: 3060, 4113: 3061, 4115: 3062, 4116: 3063, 4117: 3064, 4121: 3065, 4123: 3066, 4124: 3067, 4125: 3068, 4126: 3069, 4127: 3070, 4128: 3071, 4129: 3072, 4130: 3073, 4131: 3074, 4132: 3075, 4133: 3076, 4135: 3077, 4138: 3078, 4139: 3079, 4141: 3080, 4142: 3081, 4143: 3082, 4144: 3083, 4146: 3084, 4147: 3085, 4148: 3086, 4149: 3087, 4152: 3088, 4153: 3089, 4154: 3090, 4155: 3091, 4156: 3092, 4157: 3093, 4158: 3094, 4159: 3095, 4160: 3096, 4161: 3097, 4164: 3098, 4166: 3099, 4167: 3100, 4168: 3101, 4171: 3102, 4174: 3103, 4175: 3104, 4178: 3105, 4180: 3106, 4181: 3107, 4184: 3108, 4187: 3109, 4189: 3110, 4190: 3111, 4191: 3112, 4193: 3113, 4195: 3114, 4197: 3115, 4198: 3116, 4200: 3117, 4202: 3118, 4203: 3119, 4204: 3120, 4205: 3121, 4207: 3122, 4210: 3123, 4211: 3124, 4212: 3125, 4214: 3126, 4215: 3127, 4217: 3128, 4218: 3129, 4219: 3130, 4220: 3131, 4221: 3132, 4223: 3133, 4224: 3134, 4225: 3135, 4226: 3136, 4228: 3137, 4229: 3138, 4231: 3139, 4232: 3140, 4233: 3141, 4234: 3142, 4235: 3143, 4236: 3144, 4237: 3145, 4238: 3146, 4239: 3147, 4240: 3148, 4241: 3149, 4242: 3150, 4243: 3151, 4246: 3152, 4247: 3153, 4248: 3154, 4251: 3155, 4252: 3156, 4254: 3157, 4255: 3158, 4256: 3159, 4259: 3160, 4260: 3161, 4262: 3162, 4263: 3163, 4265: 3164, 4267: 3165, 4268: 3166, 4270: 3167, 4273: 3168, 4275: 3169, 4276: 3170, 4278: 3171, 4280: 3172, 4282: 3173, 4284: 3174, 4285: 3175, 4289: 3176, 4290: 3177, 4291: 3178, 4292: 3179, 4293: 3180, 4294: 3181, 4296: 3182, 4297: 3183, 4298: 3184, 4299: 3185, 4300: 3186, 4304: 3187, 4305: 3188, 4306: 3189, 4307: 3190, 4308: 3191, 4310: 3192, 4312: 3193, 4313: 3194, 4316: 3195, 4317: 3196, 4321: 3197, 4322: 3198, 4323: 3199, 4325: 3200, 4326: 3201, 4327: 3202, 4329: 3203, 4333: 3204, 4334: 3205, 4337: 3206, 4338: 3207, 4339: 3208, 4340: 3209, 4342: 3210, 4343: 3211, 4344: 3212, 4345: 3213, 4347: 3214, 4349: 3215, 4350: 3216, 4351: 3217, 4353: 3218, 4354: 3219, 4355: 3220, 4356: 3221, 4357: 3222, 4359: 3223, 4361: 3224, 4366: 3225, 4367: 3226, 4368: 3227, 4369: 3228, 4370: 3229, 4371: 3230, 4372: 3231, 4373: 3232, 4374: 3233, 4378: 3234, 4380: 3235, 4381: 3236, 4383: 3237, 4384: 3238, 4386: 3239, 4387: 3240, 4388: 3241, 4389: 3242, 4390: 3243, 4392: 3244, 4393: 3245, 4394: 3246, 4395: 3247, 4396: 3248, 4397: 3249, 4399: 3250, 4402: 3251, 4403: 3252, 4404: 3253, 4406: 3254, 4407: 3255, 4408: 3256, 4409: 3257, 4410: 3258, 4412: 3259, 4419: 3260, 4420: 3261, 4422: 3262, 4424: 3263, 4426: 3264, 4427: 3265, 4428: 3266, 4429: 3267, 4432: 3268, 4433: 3269, 4434: 3270, 4436: 3271, 4437: 3272, 4438: 3273, 4439: 3274, 4440: 3275, 4441: 3276, 4442: 3277, 4443: 3278, 4444: 3279, 4445: 3280, 4446: 3281, 4447: 3282, 4448: 3283, 4449: 3284, 4450: 3285, 4451: 3286, 4452: 3287, 4453: 3288, 4454: 3289, 4458: 3290, 4459: 3291, 4462: 3292, 4463: 3293, 4464: 3294, 4465: 3295, 4466: 3296, 4467: 3297, 4470: 3298, 4471: 3299, 4473: 3300, 4474: 3301, 4475: 3302, 4476: 3303, 4477: 3304, 4478: 3305, 4480: 3306, 4482: 3307, 4483: 3308, 4484: 3309, 4487: 3310, 4488: 3311, 4489: 3312, 4490: 3313, 4492: 3314, 4495: 3315, 4496: 3316, 4497: 3317, 4498: 3318, 4499: 3319, 4500: 3320, 4502: 3321, 4504: 3322, 4505: 3323, 4506: 3324, 4508: 3325, 4509: 3326, 4511: 3327, 4516: 3328, 4517: 3329, 4518: 3330, 4519: 3331, 4520: 3332, 4521: 3333, 4522: 3334, 4523: 3335, 4524: 3336, 4526: 3337, 4527: 3338, 4529: 3339, 4531: 3340, 4533: 3341, 4534: 3342, 4535: 3343, 4537: 3344, 4541: 3345, 4544: 3346, 4545: 3347, 4546: 3348, 4552: 3349, 4553: 3350, 4557: 3351, 4558: 3352, 4562: 3353, 4563: 3354, 4564: 3355, 4565: 3356, 4568: 3357, 4571: 3358, 4572: 3359, 4573: 3360, 4574: 3361, 4577: 3362, 4578: 3363, 4580: 3364, 4581: 3365, 4583: 3366, 4584: 3367, 4585: 3368, 4587: 3369, 4589: 3370, 4591: 3371, 4593: 3372, 4594: 3373, 4595: 3374, 4597: 3375, 4599: 3376, 4600: 3377, 4602: 3378, 4603: 3379, 4605: 3380, 4608: 3381, 4610: 3382, 4611: 3383, 4612: 3384, 4613: 3385, 4614: 3386, 4615: 3387, 4616: 3388, 4617: 3389, 4619: 3390, 4621: 3391, 4622: 3392, 4623: 3393, 4624: 3394, 4625: 3395, 4626: 3396, 4628: 3397, 4629: 3398, 4630: 3399, 4632: 3400, 4634: 3401, 4635: 3402, 4636: 3403, 4638: 3404, 4639: 3405, 4640: 3406, 4641: 3407, 4642: 3408, 4643: 3409, 4644: 3410, 4645: 3411, 4646: 3412, 4649: 3413, 4653: 3414, 4654: 3415, 4658: 3416, 4660: 3417, 4661: 3418, 4662: 3419, 4663: 3420, 4666: 3421, 4670: 3422, 4671: 3423, 4672: 3424, 4673: 3425, 4675: 3426, 4676: 3427, 4677: 3428, 4678: 3429, 4679: 3430, 4681: 3431, 4683: 3432, 4686: 3433, 4687: 3434, 4688: 3435, 4689: 3436, 4690: 3437, 4695: 3438, 4697: 3439, 4699: 3440, 4700: 3441, 4701: 3442, 4703: 3443, 4704: 3444, 4705: 3445, 4708: 3446, 4709: 3447, 4710: 3448, 4711: 3449, 4713: 3450, 4714: 3451, 4715: 3452, 4717: 3453, 4718: 3454, 4719: 3455, 4720: 3456, 4721: 3457, 4722: 3458, 4723: 3459, 4725: 3460, 4727: 3461, 4728: 3462, 4732: 3463, 4733: 3464, 4734: 3465, 4735: 3466, 4736: 3467, 4738: 3468, 4740: 3469, 4741: 3470, 4743: 3471, 4744: 3472, 4745: 3473, 4748: 3474, 4749: 3475, 4750: 3476, 4754: 3477, 4756: 3478, 4757: 3479, 4759: 3480, 4765: 3481, 4766: 3482, 4769: 3483, 4770: 3484, 4771: 3485, 4772: 3486, 4773: 3487, 4774: 3488, 4775: 3489, 4776: 3490, 4777: 3491, 4780: 3492, 4782: 3493, 4783: 3494, 4784: 3495, 4785: 3496, 4786: 3497, 4787: 3498, 4788: 3499, 4789: 3500, 4792: 3501, 4794: 3502, 4795: 3503, 4796: 3504, 4798: 3505, 4799: 3506, 4800: 3507, 4801: 3508, 4802: 3509, 4803: 3510, 4804: 3511, 4808: 3512, 4809: 3513, 4810: 3514, 4811: 3515, 4812: 3516, 4813: 3517, 4814: 3518, 4815: 3519, 4816: 3520, 4818: 3521, 4821: 3522, 4822: 3523, 4823: 3524, 4825: 3525, 4826: 3526, 4827: 3527, 4828: 3528, 4830: 3529, 4831: 3530, 4833: 3531, 4835: 3532, 4836: 3533, 4840: 3534, 4844: 3535, 4845: 3536, 4846: 3537, 4847: 3538, 4848: 3539, 4849: 3540, 4850: 3541, 4852: 3542, 4855: 3543, 4857: 3544, 4860: 3545, 4862: 3546, 4863: 3547, 4864: 3548, 4865: 3549, 4866: 3550, 4867: 3551, 4871: 3552, 4873: 3553, 4874: 3554, 4876: 3555, 4877: 3556, 4878: 3557, 4879: 3558, 4880: 3559, 4881: 3560, 4883: 3561, 4885: 3562, 4886: 3563, 4887: 3564, 4888: 3565, 4889: 3566, 4890: 3567, 4893: 3568, 4896: 3569, 4898: 3570, 4899: 3571, 4900: 3572, 4901: 3573, 4902: 3574, 4903: 3575, 4909: 3576, 4911: 3577, 4912: 3578, 4914: 3579, 4915: 3580, 4916: 3581, 4917: 3582, 4919: 3583, 4920: 3584, 4921: 3585, 4925: 3586, 4926: 3587, 4927: 3588, 4928: 3589, 4929: 3590, 4932: 3591, 4936: 3592, 4939: 3593, 4941: 3594, 4942: 3595, 4945: 3596, 4946: 3597, 4947: 3598, 4951: 3599, 4952: 3600, 4953: 3601, 4954: 3602, 4956: 3603, 4957: 3604, 4958: 3605, 4959: 3606, 4961: 3607, 4962: 3608, 4963: 3609, 4964: 3610, 4965: 3611, 4966: 3612, 4967: 3613, 4969: 3614, 4970: 3615, 4971: 3616, 4973: 3617, 4974: 3618, 4975: 3619, 4976: 3620, 4977: 3621, 4978: 3622, 4979: 3623, 4980: 3624, 4981: 3625, 4985: 3626, 4987: 3627, 4988: 3628, 4989: 3629, 4990: 3630, 4991: 3631, 4992: 3632, 4993: 3633, 4994: 3634, 4995: 3635, 4998: 3636, 5004: 3637, 5007: 3638, 5008: 3639, 5009: 3640, 5010: 3641, 5011: 3642, 5012: 3643, 5013: 3644, 5014: 3645, 5015: 3646, 5016: 3647, 5021: 3648, 5023: 3649, 5025: 3650, 5026: 3651, 5027: 3652, 5028: 3653, 5033: 3654, 5034: 3655, 5039: 3656, 5040: 3657, 5041: 3658, 5046: 3659, 5047: 3660, 5048: 3661, 5049: 3662, 5051: 3663, 5053: 3664, 5054: 3665, 5055: 3666, 5059: 3667, 5060: 3668, 5062: 3669, 5063: 3670, 5064: 3671, 5065: 3672, 5066: 3673, 5068: 3674, 5069: 3675, 5071: 3676, 5072: 3677, 5073: 3678, 5074: 3679, 5075: 3680, 5076: 3681, 5077: 3682, 5080: 3683, 5081: 3684, 5083: 3685, 5088: 3686, 5092: 3687, 5093: 3688, 5094: 3689, 5095: 3690, 5096: 3691, 5099: 3692, 5102: 3693, 5103: 3694, 5105: 3695, 5106: 3696, 5107: 3697, 5108: 3698, 5109: 3699, 5110: 3700, 5111: 3701, 5112: 3702, 5113: 3703, 5114: 3704, 5116: 3705, 5120: 3706, 5121: 3707, 5127: 3708, 5128: 3709, 5131: 3710, 5134: 3711, 5135: 3712, 5136: 3713, 5137: 3714, 5139: 3715, 5146: 3716, 5147: 3717, 5151: 3718, 5152: 3719, 5155: 3720, 5156: 3721, 5159: 3722, 5165: 3723, 5168: 3724, 5170: 3725, 5171: 3726, 5177: 3727, 5178: 3728, 5181: 3729, 5187: 3730, 5189: 3731, 5197: 3732, 5198: 3733, 5202: 3734, 5205: 3735, 5209: 3736, 5212: 3737, 5213: 3738, 5214: 3739, 5218: 3740, 5219: 3741, 5220: 3742, 5221: 3743, 5222: 3744, 5224: 3745, 5225: 3746, 5226: 3747, 5231: 3748, 5237: 3749, 5238: 3750, 5239: 3751, 5240: 3752, 5241: 3753, 5244: 3754, 5246: 3755, 5247: 3756, 5248: 3757, 5250: 3758, 5254: 3759, 5255: 3760, 5256: 3761, 5258: 3762, 5264: 3763, 5265: 3764, 5266: 3765, 5267: 3766, 5268: 3767, 5269: 3768, 5272: 3769, 5275: 3770, 5278: 3771, 5279: 3772, 5282: 3773, 5283: 3774, 5284: 3775, 5285: 3776, 5288: 3777, 5291: 3778, 5292: 3779, 5293: 3780, 5294: 3781, 5296: 3782, 5297: 3783, 5298: 3784, 5299: 3785, 5300: 3786, 5303: 3787, 5304: 3788, 5307: 3789, 5308: 3790, 5309: 3791, 5311: 3792, 5312: 3793, 5313: 3794, 5316: 3795, 5319: 3796, 5321: 3797, 5322: 3798, 5323: 3799, 5324: 3800, 5325: 3801, 5328: 3802, 5329: 3803, 5333: 3804, 5334: 3805, 5337: 3806, 5338: 3807, 5339: 3808, 5341: 3809, 5345: 3810, 5346: 3811, 5347: 3812, 5348: 3813, 5349: 3814, 5353: 3815, 5356: 3816, 5357: 3817, 5358: 3818, 5361: 3819, 5363: 3820, 5364: 3821, 5365: 3822, 5372: 3823, 5373: 3824, 5375: 3825, 5377: 3826, 5378: 3827, 5379: 3828, 5380: 3829, 5382: 3830, 5384: 3831, 5385: 3832, 5387: 3833, 5388: 3834, 5389: 3835, 5390: 3836, 5391: 3837, 5397: 3838, 5398: 3839, 5400: 3840, 5401: 3841, 5404: 3842, 5409: 3843, 5410: 3844, 5414: 3845, 5415: 3846, 5416: 3847, 5417: 3848, 5418: 3849, 5419: 3850, 5420: 3851, 5421: 3852, 5422: 3853, 5423: 3854, 5424: 3855, 5425: 3856, 5427: 3857, 5428: 3858, 5433: 3859, 5434: 3860, 5435: 3861, 5437: 3862, 5438: 3863, 5440: 3864, 5442: 3865, 5443: 3866, 5444: 3867, 5445: 3868, 5446: 3869, 5447: 3870, 5448: 3871, 5449: 3872, 5450: 3873, 5451: 3874, 5452: 3875, 5454: 3876, 5455: 3877, 5456: 3878, 5458: 3879, 5459: 3880, 5460: 3881, 5461: 3882, 5462: 3883, 5463: 3884, 5464: 3885, 5465: 3886, 5466: 3887, 5468: 3888, 5470: 3889, 5471: 3890, 5472: 3891, 5475: 3892, 5476: 3893, 5477: 3894, 5478: 3895, 5479: 3896, 5480: 3897, 5481: 3898, 5483: 3899, 5485: 3900, 5486: 3901, 5489: 3902, 5490: 3903, 5493: 3904, 5497: 3905, 5498: 3906, 5499: 3907, 5500: 3908, 5501: 3909, 5502: 3910, 5503: 3911, 5504: 3912, 5505: 3913, 5506: 3914, 5507: 3915, 5508: 3916, 5512: 3917, 5513: 3918, 5515: 3919, 5521: 3920, 5522: 3921, 5523: 3922, 5524: 3923, 5525: 3924, 5527: 3925, 5528: 3926, 5529: 3927, 5530: 3928, 5531: 3929, 5532: 3930, 5537: 3931, 5538: 3932, 5539: 3933, 5540: 3934, 5541: 3935, 5543: 3936, 5544: 3937, 5548: 3938, 5550: 3939, 5553: 3940, 5556: 3941, 5560: 3942, 5562: 3943, 5563: 3944, 5564: 3945, 5568: 3946, 5569: 3947, 5570: 3948, 5572: 3949, 5573: 3950, 5574: 3951, 5575: 3952, 5577: 3953, 5580: 3954, 5581: 3955, 5582: 3956, 5584: 3957, 5585: 3958, 5588: 3959, 5589: 3960, 5590: 3961, 5591: 3962, 5596: 3963, 5597: 3964, 5601: 3965, 5602: 3966, 5603: 3967, 5604: 3968, 5607: 3969, 5608: 3970, 5609: 3971, 5610: 3972, 5611: 3973, 5612: 3974, 5613: 3975, 5614: 3976, 5615: 3977, 5617: 3978, 5618: 3979, 5619: 3980, 5620: 3981, 5621: 3982, 5625: 3983, 5628: 3984, 5629: 3985, 5630: 3986, 5632: 3987, 5633: 3988, 5635: 3989, 5636: 3990, 5637: 3991, 5638: 3992, 5640: 3993, 5643: 3994, 5644: 3995, 5646: 3996, 5649: 3997, 5650: 3998, 5651: 3999, 5657: 4000, 5663: 4001, 5664: 4002, 5665: 4003, 5666: 4004, 5667: 4005, 5668: 4006, 5669: 4007, 5670: 4008, 5672: 4009, 5673: 4010, 5675: 4011, 5678: 4012, 5679: 4013, 5680: 4014, 5682: 4015, 5684: 4016, 5685: 4017, 5688: 4018, 5689: 4019, 5690: 4020, 5693: 4021, 5694: 4022, 5696: 4023, 5699: 4024, 5700: 4025, 5704: 4026, 5706: 4027, 5707: 4028, 5710: 4029, 5712: 4030, 5720: 4031, 5723: 4032, 5733: 4033, 5735: 4034, 5736: 4035, 5741: 4036, 5742: 4037, 5745: 4038, 5746: 4039, 5747: 4040, 5749: 4041, 5752: 4042, 5755: 4043, 5764: 4044, 5767: 4045, 5768: 4046, 5771: 4047, 5772: 4048, 5773: 4049, 5779: 4050, 5780: 4051, 5782: 4052, 5784: 4053, 5785: 4054, 5786: 4055, 5787: 4056, 5788: 4057, 5791: 4058, 5792: 4059, 5796: 4060, 5797: 4061, 5799: 4062, 5801: 4063, 5802: 4064, 5803: 4065, 5804: 4066, 5809: 4067, 5810: 4068, 5812: 4069, 5816: 4070, 5817: 4071, 5818: 4072, 5820: 4073, 5826: 4074, 5828: 4075, 5829: 4076, 5833: 4077, 5836: 4078, 5838: 4079, 5839: 4080, 5840: 4081, 5841: 4082, 5843: 4083, 5847: 4084, 5849: 4085, 5853: 4086, 5856: 4087, 5863: 4088, 5867: 4089, 5872: 4090, 5873: 4091, 5874: 4092, 5875: 4093, 5876: 4094, 5878: 4095, 5879: 4096, 5880: 4097, 5881: 4098, 5882: 4099, 5883: 4100, 5884: 4101, 5888: 4102, 5889: 4103, 5890: 4104, 5891: 4105, 5893: 4106, 5896: 4107, 5899: 4108, 5900: 4109, 5901: 4110, 5902: 4111, 5903: 4112, 5909: 4113, 5912: 4114, 5915: 4115, 5919: 4116, 5922: 4117, 5925: 4118, 5927: 4119, 5929: 4120, 5932: 4121, 5938: 4122, 5941: 4123, 5942: 4124, 5943: 4125, 5944: 4126, 5945: 4127, 5947: 4128, 5949: 4129, 5951: 4130, 5952: 4131, 5953: 4132, 5954: 4133, 5955: 4134, 5956: 4135, 5957: 4136, 5959: 4137, 5961: 4138, 5962: 4139, 5963: 4140, 5965: 4141, 5968: 4142, 5969: 4143, 5970: 4144, 5971: 4145, 5974: 4146, 5975: 4147, 5979: 4148, 5980: 4149, 5984: 4150, 5986: 4151, 5988: 4152, 5989: 4153, 5990: 4154, 5991: 4155, 5992: 4156, 5993: 4157, 5994: 4158, 5995: 4159, 5999: 4160, 6001: 4161, 6002: 4162, 6003: 4163, 6005: 4164, 6006: 4165, 6009: 4166, 6012: 4167, 6013: 4168, 6014: 4169, 6016: 4170, 6020: 4171, 6021: 4172, 6022: 4173, 6023: 4174, 6025: 4175, 6027: 4176, 6030: 4177, 6031: 4178, 6033: 4179, 6035: 4180, 6036: 4181, 6039: 4182, 6040: 4183, 6041: 4184, 6042: 4185, 6044: 4186, 6049: 4187, 6051: 4188, 6055: 4189, 6057: 4190, 6058: 4191, 6059: 4192, 6060: 4193, 6062: 4194, 6063: 4195, 6064: 4196, 6067: 4197, 6070: 4198, 6078: 4199, 6086: 4200, 6090: 4201, 6093: 4202, 6095: 4203, 6100: 4204, 6101: 4205, 6104: 4206, 6107: 4207, 6111: 4208, 6116: 4209, 6119: 4210, 6122: 4211, 6123: 4212, 6124: 4213, 6125: 4214, 6140: 4215, 6141: 4216, 6143: 4217, 6145: 4218, 6148: 4219, 6153: 4220, 6155: 4221, 6156: 4222, 6157: 4223, 6158: 4224, 6159: 4225, 6162: 4226, 6163: 4227, 6166: 4228, 6169: 4229, 6170: 4230, 6178: 4231, 6181: 4232, 6182: 4233, 6183: 4234, 6184: 4235, 6185: 4236, 6186: 4237, 6187: 4238, 6188: 4239, 6192: 4240, 6193: 4241, 6195: 4242, 6196: 4243, 6197: 4244, 6201: 4245, 6202: 4246, 6203: 4247, 6204: 4248, 6210: 4249, 6212: 4250, 6213: 4251, 6214: 4252, 6215: 4253, 6216: 4254, 6217: 4255, 6218: 4256, 6219: 4257, 6220: 4258, 6222: 4259, 6223: 4260, 6225: 4261, 6228: 4262, 6232: 4263, 6234: 4264, 6235: 4265, 6237: 4266, 6238: 4267, 6239: 4268, 6241: 4269, 6242: 4270, 6244: 4271, 6245: 4272, 6246: 4273, 6249: 4274, 6250: 4275, 6251: 4276, 6252: 4277, 6254: 4278, 6263: 4279, 6264: 4280, 6265: 4281, 6266: 4282, 6267: 4283, 6268: 4284, 6269: 4285, 6270: 4286, 6271: 4287, 6273: 4288, 6279: 4289, 6280: 4290, 6281: 4291, 6283: 4292, 6285: 4293, 6286: 4294, 6287: 4295, 6288: 4296, 6289: 4297, 6290: 4298, 6291: 4299, 6294: 4300, 6295: 4301, 6296: 4302, 6297: 4303, 6298: 4304, 6299: 4305, 6300: 4306, 6301: 4307, 6302: 4308, 6303: 4309, 6305: 4310, 6306: 4311, 6308: 4312, 6310: 4313, 6313: 4314, 6314: 4315, 6315: 4316, 6316: 4317, 6319: 4318, 6320: 4319, 6322: 4320, 6323: 4321, 6324: 4322, 6327: 4323, 6329: 4324, 6330: 4325, 6331: 4326, 6332: 4327, 6333: 4328, 6334: 4329, 6335: 4330, 6336: 4331, 6337: 4332, 6338: 4333, 6339: 4334, 6341: 4335, 6342: 4336, 6344: 4337, 6345: 4338, 6347: 4339, 6348: 4340, 6349: 4341, 6350: 4342, 6357: 4343, 6358: 4344, 6365: 4345, 6367: 4346, 6368: 4347, 6370: 4348, 6371: 4349, 6373: 4350, 6374: 4351, 6375: 4352, 6376: 4353, 6377: 4354, 6378: 4355, 6379: 4356, 6380: 4357, 6382: 4358, 6383: 4359, 6385: 4360, 6386: 4361, 6387: 4362, 6390: 4363, 6395: 4364, 6400: 4365, 6402: 4366, 6405: 4367, 6407: 4368, 6408: 4369, 6410: 4370, 6412: 4371, 6415: 4372, 6417: 4373, 6422: 4374, 6424: 4375, 6425: 4376, 6427: 4377, 6428: 4378, 6429: 4379, 6433: 4380, 6434: 4381, 6436: 4382, 6440: 4383, 6442: 4384, 6448: 4385, 6449: 4386, 6452: 4387, 6453: 4388, 6454: 4389, 6460: 4390, 6461: 4391, 6464: 4392, 6465: 4393, 6466: 4394, 6476: 4395, 6477: 4396, 6480: 4397, 6482: 4398, 6483: 4399, 6484: 4400, 6493: 4401, 6502: 4402, 6503: 4403, 6506: 4404, 6509: 4405, 6510: 4406, 6514: 4407, 6515: 4408, 6516: 4409, 6517: 4410, 6523: 4411, 6527: 4412, 6528: 4413, 6530: 4414, 6533: 4415, 6534: 4416, 6535: 4417, 6536: 4418, 6537: 4419, 6538: 4420, 6539: 4421, 6541: 4422, 6542: 4423, 6545: 4424, 6547: 4425, 6548: 4426, 6549: 4427, 6550: 4428, 6551: 4429, 6552: 4430, 6553: 4431, 6554: 4432, 6557: 4433, 6558: 4434, 6559: 4435, 6560: 4436, 6561: 4437, 6563: 4438, 6564: 4439, 6565: 4440, 6566: 4441, 6567: 4442, 6568: 4443, 6571: 4444, 6572: 4445, 6573: 4446, 6574: 4447, 6577: 4448, 6578: 4449, 6579: 4450, 6581: 4451, 6582: 4452, 6583: 4453, 6584: 4454, 6586: 4455, 6587: 4456, 6588: 4457, 6591: 4458, 6592: 4459, 6593: 4460, 6595: 4461, 6596: 4462, 6597: 4463, 6598: 4464, 6603: 4465, 6604: 4466, 6609: 4467, 6611: 4468, 6612: 4469, 6614: 4470, 6615: 4471, 6616: 4472, 6617: 4473, 6618: 4474, 6619: 4475, 6620: 4476, 6624: 4477, 6625: 4478, 6628: 4479, 6629: 4480, 6631: 4481, 6636: 4482, 6638: 4483, 6639: 4484, 6643: 4485, 6644: 4486, 6645: 4487, 6650: 4488, 6654: 4489, 6656: 4490, 6658: 4491, 6659: 4492, 6660: 4493, 6662: 4494, 6663: 4495, 6664: 4496, 6665: 4497, 6666: 4498, 6667: 4499, 6669: 4500, 6670: 4501, 6671: 4502, 6678: 4503, 6679: 4504, 6684: 4505, 6686: 4506, 6687: 4507, 6688: 4508, 6689: 4509, 6691: 4510, 6692: 4511, 6695: 4512, 6696: 4513, 6699: 4514, 6702: 4515, 6705: 4516, 6706: 4517, 6707: 4518, 6708: 4519, 6709: 4520, 6710: 4521, 6711: 4522, 6713: 4523, 6715: 4524, 6718: 4525, 6720: 4526, 6721: 4527, 6722: 4528, 6723: 4529, 6724: 4530, 6731: 4531, 6732: 4532, 6734: 4533, 6744: 4534, 6746: 4535, 6748: 4536, 6750: 4537, 6751: 4538, 6752: 4539, 6753: 4540, 6754: 4541, 6755: 4542, 6760: 4543, 6763: 4544, 6764: 4545, 6765: 4546, 6768: 4547, 6769: 4548, 6770: 4549, 6772: 4550, 6773: 4551, 6774: 4552, 6775: 4553, 6776: 4554, 6777: 4555, 6780: 4556, 6782: 4557, 6783: 4558, 6785: 4559, 6786: 4560, 6787: 4561, 6788: 4562, 6789: 4563, 6790: 4564, 6791: 4565, 6793: 4566, 6794: 4567, 6796: 4568, 6797: 4569, 6798: 4570, 6800: 4571, 6803: 4572, 6804: 4573, 6807: 4574, 6808: 4575, 6809: 4576, 6810: 4577, 6811: 4578, 6812: 4579, 6814: 4580, 6816: 4581, 6817: 4582, 6818: 4583, 6820: 4584, 6821: 4585, 6827: 4586, 6832: 4587, 6835: 4588, 6836: 4589, 6837: 4590, 6850: 4591, 6851: 4592, 6852: 4593, 6853: 4594, 6856: 4595, 6857: 4596, 6858: 4597, 6860: 4598, 6862: 4599, 6863: 4600, 6867: 4601, 6868: 4602, 6869: 4603, 6870: 4604, 6872: 4605, 6873: 4606, 6874: 4607, 6879: 4608, 6880: 4609, 6881: 4610, 6882: 4611, 6883: 4612, 6884: 4613, 6885: 4614, 6886: 4615, 6887: 4616, 6888: 4617, 6889: 4618, 6890: 4619, 6893: 4620, 6898: 4621, 6899: 4622, 6902: 4623, 6909: 4624, 6911: 4625, 6912: 4626, 6918: 4627, 6920: 4628, 6927: 4629, 6932: 4630, 6934: 4631, 6935: 4632, 6936: 4633, 6938: 4634, 6939: 4635, 6942: 4636, 6944: 4637, 6945: 4638, 6946: 4639, 6947: 4640, 6948: 4641, 6949: 4642, 6950: 4643, 6951: 4644, 6952: 4645, 6953: 4646, 6954: 4647, 6957: 4648, 6958: 4649, 6959: 4650, 6961: 4651, 6962: 4652, 6963: 4653, 6965: 4654, 6966: 4655, 6967: 4656, 6969: 4657, 6970: 4658, 6971: 4659, 6973: 4660, 6974: 4661, 6975: 4662, 6978: 4663, 6979: 4664, 6981: 4665, 6982: 4666, 6983: 4667, 6984: 4668, 6985: 4669, 6986: 4670, 6987: 4671, 6989: 4672, 6990: 4673, 6992: 4674, 6993: 4675, 6994: 4676, 6996: 4677, 6997: 4678, 6998: 4679, 6999: 4680, 7000: 4681, 7001: 4682, 7004: 4683, 7005: 4684, 7007: 4685, 7008: 4686, 7009: 4687, 7010: 4688, 7012: 4689, 7013: 4690, 7015: 4691, 7016: 4692, 7017: 4693, 7018: 4694, 7019: 4695, 7022: 4696, 7023: 4697, 7024: 4698, 7025: 4699, 7026: 4700, 7027: 4701, 7028: 4702, 7030: 4703, 7031: 4704, 7032: 4705, 7033: 4706, 7034: 4707, 7036: 4708, 7037: 4709, 7038: 4710, 7040: 4711, 7041: 4712, 7044: 4713, 7045: 4714, 7046: 4715, 7047: 4716, 7048: 4717, 7049: 4718, 7050: 4719, 7051: 4720, 7052: 4721, 7053: 4722, 7054: 4723, 7055: 4724, 7056: 4725, 7057: 4726, 7058: 4727, 7059: 4728, 7060: 4729, 7061: 4730, 7062: 4731, 7063: 4732, 7064: 4733, 7065: 4734, 7067: 4735, 7069: 4736, 7070: 4737, 7071: 4738, 7072: 4739, 7073: 4740, 7074: 4741, 7075: 4742, 7076: 4743, 7078: 4744, 7079: 4745, 7080: 4746, 7082: 4747, 7083: 4748, 7084: 4749, 7085: 4750, 7086: 4751, 7087: 4752, 7088: 4753, 7089: 4754, 7090: 4755, 7091: 4756, 7092: 4757, 7093: 4758, 7096: 4759, 7099: 4760, 7101: 4761, 7102: 4762, 7103: 4763, 7104: 4764, 7107: 4765, 7108: 4766, 7109: 4767, 7114: 4768, 7115: 4769, 7116: 4770, 7117: 4771, 7118: 4772, 7121: 4773, 7122: 4774, 7123: 4775, 7124: 4776, 7125: 4777, 7127: 4778, 7131: 4779, 7132: 4780, 7134: 4781, 7137: 4782, 7139: 4783, 7141: 4784, 7142: 4785, 7143: 4786, 7147: 4787, 7149: 4788, 7150: 4789, 7151: 4790, 7153: 4791, 7154: 4792, 7155: 4793, 7156: 4794, 7158: 4795, 7160: 4796, 7161: 4797, 7162: 4798, 7163: 4799, 7164: 4800, 7165: 4801, 7167: 4802, 7169: 4803, 7171: 4804, 7173: 4805, 7175: 4806, 7176: 4807, 7177: 4808, 7178: 4809, 7179: 4810, 7181: 4811, 7184: 4812, 7190: 4813, 7191: 4814, 7192: 4815, 7193: 4816, 7202: 4817, 7205: 4818, 7206: 4819, 7208: 4820, 7209: 4821, 7211: 4822, 7212: 4823, 7215: 4824, 7216: 4825, 7217: 4826, 7218: 4827, 7219: 4828, 7222: 4829, 7223: 4830, 7225: 4831, 7228: 4832, 7234: 4833, 7235: 4834, 7236: 4835, 7238: 4836, 7243: 4837, 7245: 4838, 7247: 4839, 7248: 4840, 7251: 4841, 7254: 4842, 7255: 4843, 7256: 4844, 7257: 4845, 7258: 4846, 7259: 4847, 7260: 4848, 7261: 4849, 7262: 4850, 7263: 4851, 7264: 4852, 7265: 4853, 7266: 4854, 7282: 4855, 7285: 4856, 7292: 4857, 7293: 4858, 7294: 4859, 7297: 4860, 7299: 4861, 7301: 4862, 7302: 4863, 7303: 4864, 7304: 4865, 7305: 4866, 7306: 4867, 7307: 4868, 7308: 4869, 7310: 4870, 7311: 4871, 7312: 4872, 7315: 4873, 7316: 4874, 7317: 4875, 7318: 4876, 7319: 4877, 7320: 4878, 7321: 4879, 7323: 4880, 7324: 4881, 7325: 4882, 7326: 4883, 7327: 4884, 7328: 4885, 7333: 4886, 7335: 4887, 7336: 4888, 7340: 4889, 7344: 4890, 7345: 4891, 7346: 4892, 7347: 4893, 7348: 4894, 7349: 4895, 7352: 4896, 7354: 4897, 7357: 4898, 7360: 4899, 7361: 4900, 7362: 4901, 7364: 4902, 7366: 4903, 7367: 4904, 7368: 4905, 7369: 4906, 7371: 4907, 7372: 4908, 7373: 4909, 7375: 4910, 7376: 4911, 7377: 4912, 7379: 4913, 7380: 4914, 7381: 4915, 7382: 4916, 7386: 4917, 7387: 4918, 7390: 4919, 7394: 4920, 7395: 4921, 7396: 4922, 7411: 4923, 7414: 4924, 7419: 4925, 7438: 4926, 7439: 4927, 7440: 4928, 7443: 4929, 7444: 4930, 7445: 4931, 7448: 4932, 7449: 4933, 7450: 4934, 7451: 4935, 7454: 4936, 7455: 4937, 7457: 4938, 7458: 4939, 7459: 4940, 7460: 4941, 7477: 4942, 7479: 4943, 7481: 4944, 7482: 4945, 7486: 4946, 7487: 4947, 7492: 4948, 7493: 4949, 7541: 4950, 7560: 4951, 7561: 4952, 7562: 4953, 7564: 4954, 7566: 4955, 7569: 4956, 7570: 4957, 7572: 4958, 7573: 4959, 7579: 4960, 7581: 4961, 7584: 4962, 7587: 4963, 7614: 4964, 7615: 4965, 7616: 4966, 7618: 4967, 7619: 4968, 7620: 4969, 7624: 4970, 7636: 4971, 7646: 4972, 7647: 4973, 7649: 4974, 7650: 4975, 7657: 4976, 7669: 4977, 7698: 4978, 7700: 4979, 7701: 4980, 7702: 4981, 7704: 4982, 7705: 4983, 7706: 4984, 7707: 4985, 7708: 4986, 7713: 4987, 7714: 4988, 7716: 4989, 7720: 4990, 7727: 4991, 7728: 4992, 7730: 4993, 7742: 4994, 7743: 4995, 7745: 4996, 7748: 4997, 7749: 4998, 7753: 4999, 7756: 5000, 7757: 5001, 7762: 5002, 7766: 5003, 7767: 5004, 7772: 5005, 7773: 5006, 7781: 5007, 7782: 5008, 7786: 5009, 7789: 5010, 7802: 5011, 7810: 5012, 7811: 5013, 7812: 5014, 7815: 5015, 7820: 5016, 7822: 5017, 7826: 5018, 7831: 5019, 7832: 5020, 7833: 5021, 7834: 5022, 7835: 5023, 7839: 5024, 7840: 5025, 7841: 5026, 7842: 5027, 7843: 5028, 7844: 5029, 7845: 5030, 7846: 5031, 7879: 5032, 7882: 5033, 7883: 5034, 7884: 5035, 7888: 5036, 7889: 5037, 7891: 5038, 7894: 5039, 7895: 5040, 7896: 5041, 7899: 5042, 7900: 5043, 7916: 5044, 7920: 5045, 7924: 5046, 7925: 5047, 7926: 5048, 7930: 5049, 7932: 5050, 7934: 5051, 7936: 5052, 7937: 5053, 7938: 5054, 7939: 5055, 7940: 5056, 7943: 5057, 7944: 5058, 7951: 5059, 7976: 5060, 7979: 5061, 7980: 5062, 7981: 5063, 7982: 5064, 7983: 5065, 7984: 5066, 7986: 5067, 7987: 5068, 7988: 5069, 7991: 5070, 7993: 5071, 8008: 5072, 8010: 5073, 8011: 5074, 8012: 5075, 8014: 5076, 8015: 5077, 8016: 5078, 8019: 5079, 8024: 5080, 8025: 5081, 8033: 5082, 8035: 5083, 8042: 5084, 8043: 5085, 8044: 5086, 8045: 5087, 8057: 5088, 8092: 5089, 8093: 5090, 8094: 5091, 8117: 5092, 8118: 5093, 8119: 5094, 8121: 5095, 8125: 5096, 8126: 5097, 8128: 5098, 8131: 5099, 8132: 5100, 8136: 5101, 8137: 5102, 8138: 5103, 8142: 5104, 8143: 5105, 8147: 5106, 8153: 5107, 8154: 5108, 8157: 5109, 8158: 5110, 8167: 5111, 8169: 5112, 8183: 5113, 8188: 5114, 8189: 5115, 8190: 5116, 8191: 5117, 8195: 5118, 8196: 5119, 8197: 5120, 8199: 5121, 8207: 5122, 8225: 5123, 8228: 5124, 8232: 5125, 8235: 5126, 8236: 5127, 8238: 5128, 8239: 5129, 8241: 5130, 8253: 5131, 8254: 5132, 8261: 5133, 8264: 5134, 8266: 5135, 8268: 5136, 8270: 5137, 8275: 5138, 8290: 5139, 8293: 5140, 8302: 5141, 8327: 5142, 8331: 5143, 8335: 5144, 8336: 5145, 8337: 5146, 8338: 5147, 8340: 5148, 8341: 5149, 8360: 5150, 8361: 5151, 8362: 5152, 8363: 5153, 8364: 5154, 8366: 5155, 8368: 5156, 8369: 5157, 8370: 5158, 8371: 5159, 8372: 5160, 8373: 5161, 8375: 5162, 8376: 5163, 8378: 5164, 8379: 5165, 8380: 5166, 8382: 5167, 8383: 5168, 8385: 5169, 8387: 5170, 8391: 5171, 8402: 5172, 8405: 5173, 8410: 5174, 8424: 5175, 8425: 5176, 8426: 5177, 8427: 5178, 8446: 5179, 8447: 5180, 8450: 5181, 8451: 5182, 8454: 5183, 8456: 5184, 8458: 5185, 8459: 5186, 8461: 5187, 8462: 5188, 8463: 5189, 8464: 5190, 8465: 5191, 8477: 5192, 8481: 5193, 8482: 5194, 8484: 5195, 8487: 5196, 8491: 5197, 8492: 5198, 8493: 5199, 8494: 5200, 8495: 5201, 8500: 5202, 8501: 5203, 8502: 5204, 8506: 5205, 8507: 5206, 8511: 5207, 8512: 5208, 8518: 5209, 8521: 5210, 8526: 5211, 8528: 5212, 8529: 5213, 8530: 5214, 8531: 5215, 8532: 5216, 8533: 5217, 8534: 5218, 8535: 5219, 8542: 5220, 8571: 5221, 8574: 5222, 8575: 5223, 8577: 5224, 8578: 5225, 8580: 5226, 8581: 5227, 8582: 5228, 8587: 5229, 8588: 5230, 8591: 5231, 8593: 5232, 8596: 5233, 8600: 5234, 8601: 5235, 8604: 5236, 8605: 5237, 8607: 5238, 8609: 5239, 8610: 5240, 8611: 5241, 8614: 5242, 8617: 5243, 8620: 5244, 8622: 5245, 8623: 5246, 8626: 5247, 8632: 5248, 8633: 5249, 8636: 5250, 8638: 5251, 8640: 5252, 8641: 5253, 8643: 5254, 8644: 5255, 8645: 5256, 8650: 5257, 8656: 5258, 8665: 5259, 8666: 5260, 8667: 5261, 8670: 5262, 8677: 5263, 8684: 5264, 8685: 5265, 8690: 5266, 8695: 5267, 8711: 5268, 8712: 5269, 8713: 5270, 8714: 5271, 8718: 5272, 8720: 5273, 8724: 5274, 8727: 5275, 8730: 5276, 8738: 5277, 8743: 5278, 8748: 5279, 8753: 5280, 8754: 5281, 8755: 5282, 8771: 5283, 8772: 5284, 8773: 5285, 8774: 5286, 8778: 5287, 8781: 5288, 8782: 5289, 8783: 5290, 8784: 5291, 8795: 5292, 8796: 5293, 8798: 5294, 8799: 5295, 8800: 5296, 8804: 5297, 8807: 5298, 8808: 5299, 8809: 5300, 8810: 5301, 8813: 5302, 8814: 5303, 8815: 5304, 8827: 5305, 8830: 5306, 8831: 5307, 8832: 5308, 8833: 5309, 8835: 5310, 8836: 5311, 8838: 5312, 8840: 5313, 8844: 5314, 8848: 5315, 8860: 5316, 8861: 5317, 8864: 5318, 8865: 5319, 8866: 5320, 8869: 5321, 8870: 5322, 8873: 5323, 8874: 5324, 8875: 5325, 8879: 5326, 8880: 5327, 8894: 5328, 8905: 5329, 8906: 5330, 8907: 5331, 8908: 5332, 8910: 5333, 8911: 5334, 8912: 5335, 8914: 5336, 8915: 5337, 8916: 5338, 8917: 5339, 8918: 5340, 8919: 5341, 8920: 5342, 8921: 5343, 8928: 5344, 8933: 5345, 8934: 5346, 8937: 5347, 8938: 5348, 8939: 5349, 8943: 5350, 8946: 5351, 8947: 5352, 8948: 5353, 8949: 5354, 8950: 5355, 8951: 5356, 8952: 5357, 8954: 5358, 8955: 5359, 8957: 5360, 8958: 5361, 8959: 5362, 8961: 5363, 8964: 5364, 8965: 5365, 8966: 5366, 8967: 5367, 8968: 5368, 8969: 5369, 8970: 5370, 8972: 5371, 8973: 5372, 8974: 5373, 8977: 5374, 8978: 5375, 8979: 5376, 8981: 5377, 8982: 5378, 8983: 5379, 8984: 5380, 8985: 5381, 8987: 5382, 8989: 5383, 8998: 5384, 9004: 5385, 9005: 5386, 9008: 5387, 9010: 5388, 9018: 5389, 25746: 5390, 25750: 5391, 25752: 5392, 25753: 5393, 25757: 5394, 25769: 5395, 25771: 5396, 25773: 5397, 25782: 5398, 25788: 5399, 25795: 5400, 25797: 5401, 25805: 5402, 25825: 5403, 25826: 5404, 25827: 5405, 25833: 5406, 25834: 5407, 25841: 5408, 25850: 5409, 25856: 5410, 25865: 5411, 25870: 5412, 25886: 5413, 25887: 5414, 25898: 5415, 25905: 5416, 25906: 5417, 25923: 5418, 25927: 5419, 25937: 5420, 25940: 5421, 25946: 5422, 25947: 5423, 25952: 5424, 25959: 5425, 25962: 5426, 25963: 5427, 25996: 5428, 25999: 5429, 26002: 5430, 26003: 5431, 26038: 5432, 26048: 5433, 26052: 5434, 26059: 5435, 26073: 5436, 26078: 5437, 26082: 5438, 26084: 5439, 26095: 5440, 26116: 5441, 26122: 5442, 26124: 5443, 26131: 5444, 26133: 5445, 26142: 5446, 26147: 5447, 26150: 5448, 26151: 5449, 26152: 5450, 26158: 5451, 26159: 5452, 26169: 5453, 26171: 5454, 26172: 5455, 26176: 5456, 26183: 5457, 26184: 5458, 26195: 5459, 26198: 5460, 26225: 5461, 26231: 5462, 26236: 5463, 26237: 5464, 26242: 5465, 26249: 5466, 26258: 5467, 26265: 5468, 26283: 5469, 26285: 5470, 26303: 5471, 26308: 5472, 26313: 5473, 26317: 5474, 26322: 5475, 26326: 5476, 26340: 5477, 26344: 5478, 26347: 5479, 26350: 5480, 26357: 5481, 26359: 5482, 26365: 5483, 26366: 5484, 26375: 5485, 26386: 5486, 26391: 5487, 26394: 5488, 26399: 5489, 26401: 5490, 26409: 5491, 26413: 5492, 26422: 5493, 26429: 5494, 26444: 5495, 26453: 5496, 26464: 5497, 26467: 5498, 26471: 5499, 26472: 5500, 26492: 5501, 26498: 5502, 26504: 5503, 26510: 5504, 26523: 5505, 26524: 5506, 26527: 5507, 26528: 5508, 26539: 5509, 26542: 5510, 26547: 5511, 26554: 5512, 26555: 5513, 26562: 5514, 26564: 5515, 26567: 5516, 26578: 5517, 26585: 5518, 26587: 5519, 26590: 5520, 26593: 5521, 26599: 5522, 26603: 5523, 26606: 5524, 26612: 5525, 26614: 5526, 26622: 5527, 26629: 5528, 26630: 5529, 26631: 5530, 26645: 5531, 26649: 5532, 26662: 5533, 26676: 5534, 26680: 5535, 26681: 5536, 26686: 5537, 26693: 5538, 26694: 5539, 26695: 5540, 26696: 5541, 26700: 5542, 26701: 5543, 26704: 5544, 26712: 5545, 26713: 5546, 26717: 5547, 26726: 5548, 26729: 5549, 26732: 5550, 26736: 5551, 26741: 5552, 26743: 5553, 26745: 5554, 26750: 5555, 26761: 5556, 26764: 5557, 26765: 5558, 26776: 5559, 26777: 5560, 26778: 5561, 26782: 5562, 26791: 5563, 26792: 5564, 26796: 5565, 26797: 5566, 26810: 5567, 26812: 5568, 26819: 5569, 26828: 5570, 26838: 5571, 26840: 5572, 26849: 5573, 26854: 5574, 26861: 5575, 26865: 5576, 26870: 5577, 26871: 5578, 26875: 5579, 26887: 5580, 26900: 5581, 26901: 5582, 26903: 5583, 26913: 5584, 26928: 5585, 26940: 5586, 26947: 5587, 26958: 5588, 26965: 5589, 26974: 5590, 26985: 5591, 26999: 5592, 27002: 5593, 27003: 5594, 27006: 5595, 27008: 5596, 27020: 5597, 27022: 5598, 27032: 5599, 27036: 5600, 27074: 5601, 27075: 5602, 27105: 5603, 27124: 5604, 27134: 5605, 27140: 5606, 27155: 5607, 27156: 5608, 27176: 5609, 27178: 5610, 27186: 5611, 27193: 5612, 27246: 5613, 27251: 5614, 27255: 5615, 27266: 5616, 27306: 5617, 27311: 5618, 27317: 5619, 27320: 5620, 27328: 5621, 27329: 5622, 27368: 5623, 27369: 5624, 27370: 5625, 27373: 5626, 27397: 5627, 27408: 5628, 27416: 5629, 27420: 5630, 27426: 5631, 27434: 5632, 27441: 5633, 27450: 5634, 27473: 5635, 27478: 5636, 27480: 5637, 27482: 5638, 27491: 5639, 27513: 5640, 27523: 5641, 27537: 5642, 27539: 5643, 27549: 5644, 27555: 5645, 27563: 5646, 27584: 5647, 27592: 5648, 27595: 5649, 27604: 5650, 27611: 5651, 27618: 5652, 27619: 5653, 27627: 5654, 27644: 5655, 27660: 5656, 27664: 5657, 27667: 5658, 27674: 5659, 27683: 5660, 27685: 5661, 27689: 5662, 27692: 5663, 27695: 5664, 27704: 5665, 27705: 5666, 27706: 5667, 27708: 5668, 27716: 5669, 27721: 5670, 27722: 5671, 27728: 5672, 27731: 5673, 27741: 5674, 27744: 5675, 27746: 5676, 27751: 5677, 27762: 5678, 27768: 5679, 27769: 5680, 27772: 5681, 27773: 5682, 27776: 5683, 27778: 5684, 27784: 5685, 27788: 5686, 27790: 5687, 27793: 5688, 27801: 5689, 27802: 5690, 27803: 5691, 27808: 5692, 27815: 5693, 27816: 5694, 27820: 5695, 27821: 5696, 27822: 5697, 27826: 5698, 27829: 5699, 27830: 5700, 27831: 5701, 27834: 5702, 27837: 5703, 27838: 5704, 27839: 5705, 27846: 5706, 27850: 5707, 27865: 5708, 27866: 5709, 27869: 5710, 27873: 5711, 27878: 5712, 27879: 5713, 27882: 5714, 27899: 5715, 27904: 5716, 27905: 5717, 27912: 5718, 30707: 5719, 30745: 5720, 30749: 5721, 30793: 5722, 30803: 5723, 30810: 5724, 30812: 5725, 30816: 5726, 30818: 5727, 30820: 5728, 30822: 5729, 30825: 5730, 30846: 5731, 30848: 5732, 30850: 5733, 30883: 5734, 30890: 5735, 30894: 5736, 30898: 5737, 30994: 5738, 31000: 5739, 31030: 5740, 31038: 5741, 31049: 5742, 31083: 5743, 31086: 5744, 31101: 5745, 31114: 5746, 31116: 5747, 31123: 5748, 31150: 5749, 31162: 5750, 31184: 5751, 31193: 5752, 31221: 5753, 31223: 5754, 31225: 5755, 31260: 5756, 31297: 5757, 31309: 5758, 31364: 5759, 31367: 5760, 31410: 5761, 31420: 5762, 31422: 5763, 31424: 5764, 31427: 5765, 31431: 5766, 31433: 5767, 31435: 5768, 31437: 5769, 31445: 5770, 31522: 5771, 31545: 5772, 31553: 5773, 31590: 5774, 31610: 5775, 31617: 5776, 31658: 5777, 31660: 5778, 31664: 5779, 31685: 5780, 31692: 5781, 31694: 5782, 31696: 5783, 31698: 5784, 31700: 5785, 31702: 5786, 31737: 5787, 31804: 5788, 31851: 5789, 31867: 5790, 31878: 5791, 31903: 5792, 31909: 5793, 31921: 5794, 31923: 5795, 31925: 5796, 31952: 5797, 31973: 5798, 32009: 5799, 32011: 5800, 32017: 5801, 32019: 5802, 32022: 5803, 32029: 5804, 32031: 5805, 32058: 5806, 32060: 5807, 32116: 5808, 32139: 5809, 32179: 5810, 32213: 5811, 32234: 5812, 32243: 5813, 32289: 5814, 32291: 5815, 32294: 5816, 32296: 5817, 32298: 5818, 32300: 5819, 32302: 5820, 32314: 5821, 32387: 5822, 32392: 5823, 32440: 5824, 32442: 5825, 32456: 5826, 32460: 5827, 32469: 5828, 32511: 5829, 32515: 5830, 32554: 5831, 32582: 5832, 32584: 5833, 32587: 5834, 32589: 5835, 32596: 5836, 32598: 5837, 32600: 5838, 32620: 5839, 32632: 5840, 32649: 5841, 32657: 5842, 32659: 5843, 32666: 5844, 32728: 5845, 32743: 5846, 32770: 5847, 32799: 5848, 32862: 5849, 32875: 5850, 32892: 5851, 32898: 5852, 32906: 5853, 32914: 5854, 32917: 5855, 33004: 5856, 33085: 5857, 33090: 5858, 33124: 5859, 33126: 5860, 33132: 5861, 33138: 5862, 33145: 5863, 33148: 5864, 33154: 5865, 33158: 5866, 33162: 5867, 33164: 5868, 33166: 5869, 33171: 5870, 33188: 5871, 33201: 5872, 33237: 5873, 33294: 5874, 33310: 5875, 33312: 5876, 33421: 5877, 33435: 5878, 33437: 5879, 33493: 5880, 33495: 5881, 33499: 5882, 33558: 5883, 33564: 5884, 33615: 5885, 33629: 5886, 33639: 5887, 33644: 5888, 33646: 5889, 33649: 5890, 33660: 5891, 33669: 5892, 33672: 5893, 33677: 5894, 33679: 5895, 33681: 5896, 33683: 5897, 33725: 5898, 33779: 5899, 33781: 5900, 33794: 5901, 33801: 5902, 33815: 5903, 33826: 5904, 33830: 5905, 33834: 5906, 33836: 5907, 33838: 5908, 33880: 5909, 33893: 5910, 33896: 5911, 33903: 5912, 33966: 5913, 34018: 5914, 34048: 5915, 34072: 5916, 34129: 5917, 34143: 5918, 34148: 5919, 34150: 5920, 34153: 5921, 34162: 5922, 34164: 5923, 34271: 5924, 34292: 5925, 34312: 5926, 34319: 5927, 34321: 5928, 34323: 5929, 34326: 5930, 34330: 5931, 34332: 5932, 34334: 5933, 34336: 5934, 34338: 5935, 34359: 5936, 34397: 5937, 34405: 5938, 34437: 5939, 34450: 5940, 34520: 5941, 34523: 5942, 34528: 5943, 34530: 5944, 34532: 5945, 34534: 5946, 34536: 5947, 34540: 5948, 34542: 5949, 34800: 5950, 34811: 5951, 35015: 5952, 35347: 5953, 35807: 5954, 35836: 5955, 35957: 5956, 36276: 5957, 36289: 5958, 36363: 5959, 36397: 5960, 36401: 5961, 36477: 5962, 36509: 5963, 36517: 5964, 36519: 5965, 36525: 5966, 36527: 5967, 36529: 5968, 36533: 5969, 36535: 5970, 36537: 5971, 36708: 5972, 36850: 5973, 36931: 5974, 37211: 5975, 37240: 5976, 37380: 5977, 37382: 5978, 37384: 5979, 37386: 5980, 37444: 5981, 37475: 5982, 37477: 5983, 37495: 5984, 37545: 5985, 37720: 5986, 37727: 5987, 37729: 5988, 37731: 5989, 37733: 5990, 37736: 5991, 37739: 5992, 37741: 5993, 37830: 5994, 37844: 5995, 37853: 5996, 37857: 5997, 38038: 5998, 38061: 5999, 38095: 6000, 38159: 6001, 38164: 6002, 38198: 6003, 38294: 6004, 38304: 6005, 38388: 6006, 38583: 6007, 38798: 6008, 38886: 6009, 38992: 6010, 39183: 6011, 39231: 6012, 39234: 6013, 39292: 6014, 39307: 6015, 39381: 6016, 39400: 6017, 39414: 6018, 39427: 6019, 39435: 6020, 39444: 6021, 39446: 6022, 39449: 6023, 39516: 6024, 39715: 6025, 39801: 6026, 39869: 6027, 40148: 6028, 40278: 6029, 40339: 6030, 40412: 6031, 40414: 6032, 40478: 6033, 40491: 6034, 40578: 6035, 40581: 6036, 40583: 6037, 40597: 6038, 40614: 6039, 40617: 6040, 40629: 6041, 40697: 6042, 40723: 6043, 40732: 6044, 40815: 6045, 40819: 6046, 40826: 6047, 40851: 6048, 40870: 6049, 40946: 6050, 40955: 6051, 40959: 6052, 40962: 6053, 40966: 6054, 41014: 6055, 41285: 6056, 41527: 6057, 41566: 6058, 41569: 6059, 41571: 6060, 41573: 6061, 41617: 6062, 41627: 6063, 41712: 6064, 41716: 6065, 41724: 6066, 41769: 6067, 41828: 6068, 41863: 6069, 41997: 6070, 42002: 6071, 42004: 6072, 42007: 6073, 42009: 6074, 42011: 6075, 42013: 6076, 42015: 6077, 42018: 6078, 42176: 6079, 42191: 6080, 42285: 6081, 42418: 6082, 42422: 6083, 42556: 6084, 42559: 6085, 42602: 6086, 42632: 6087, 42638: 6088, 42718: 6089, 42723: 6090, 42725: 6091, 42728: 6092, 42730: 6093, 42732: 6094, 42734: 6095, 42738: 6096, 42740: 6097, 42761: 6098, 42943: 6099, 42946: 6100, 43289: 6101, 43333: 6102, 43376: 6103, 43396: 6104, 43419: 6105, 43460: 6106, 43549: 6107, 43556: 6108, 43558: 6109, 43560: 6110, 43677: 6111, 43679: 6112, 43684: 6113, 43708: 6114, 43744: 6115, 43836: 6116, 43869: 6117, 43871: 6118, 43904: 6119, 43908: 6120, 43912: 6121, 43914: 6122, 43917: 6123, 43919: 6124, 43921: 6125, 43928: 6126, 43930: 6127, 43932: 6128, 43936: 6129, 44004: 6130, 44020: 6131, 44022: 6132, 44189: 6133, 44191: 6134, 44193: 6135, 44195: 6136, 44197: 6137, 44199: 6138, 44204: 6139, 44225: 6140, 44238: 6141, 44241: 6142, 44243: 6143, 44301: 6144, 44397: 6145, 44399: 6146, 44511: 6147, 44555: 6148, 44597: 6149, 44613: 6150, 44633: 6151, 44657: 6152, 44665: 6153, 44694: 6154, 44709: 6155, 44719: 6156, 44731: 6157, 44759: 6158, 44761: 6159, 44773: 6160, 44777: 6161, 44788: 6162, 44828: 6163, 44840: 6164, 44849: 6165, 44851: 6166, 44864: 6167, 44889: 6168, 44929: 6169, 44931: 6170, 44937: 6171, 44943: 6172, 44972: 6173, 44974: 6174, 45028: 6175, 45062: 6176, 45074: 6177, 45081: 6178, 45106: 6179, 45175: 6180, 45183: 6181, 45186: 6182, 45208: 6183, 45210: 6184, 45221: 6185, 45361: 6186, 45382: 6187, 45431: 6188, 45440: 6189, 45442: 6190, 45447: 6191, 45499: 6192, 45501: 6193, 45503: 6194, 45517: 6195, 45635: 6196, 45648: 6197, 45658: 6198, 45662: 6199, 45666: 6200, 45668: 6201, 45672: 6202, 45720: 6203, 45722: 6204, 45726: 6205, 45728: 6206, 45730: 6207, 45732: 6208, 45880: 6209, 45928: 6210, 45950: 6211, 45969: 6212, 46062: 6213, 46105: 6214, 46231: 6215, 46322: 6216, 46335: 6217, 46337: 6218, 46347: 6219, 46367: 6220, 46530: 6221, 46559: 6222, 46572: 6223, 46574: 6224, 46578: 6225, 46664: 6226, 46723: 6227, 46772: 6228, 46850: 6229, 46855: 6230, 46862: 6231, 46865: 6232, 46948: 6233, 46965: 6234, 46967: 6235, 46970: 6236, 46972: 6237, 46974: 6238, 46976: 6239, 47044: 6240, 47099: 6241, 47122: 6242, 47124: 6243, 47200: 6244, 47202: 6245, 47254: 6246, 47261: 6247, 47382: 6248, 47384: 6249, 47404: 6250, 47423: 6251, 47446: 6252, 47465: 6253, 47491: 6254, 47516: 6255, 47518: 6256, 47538: 6257, 47566: 6258, 47610: 6259, 47629: 6260, 47640: 6261, 47644: 6262, 47646: 6263, 47721: 6264, 47725: 6265, 47736: 6266, 47774: 6267, 47793: 6268, 47810: 6269, 47894: 6270, 47937: 6271, 47950: 6272, 47952: 6273, 47970: 6274, 47978: 6275, 47997: 6276, 47999: 6277, 48001: 6278, 48032: 6279, 48043: 6280, 48045: 6281, 48082: 6282, 48142: 6283, 48150: 6284, 48161: 6285, 48214: 6286, 48262: 6287, 48304: 6288, 48319: 6289, 48322: 6290, 48326: 6291, 48342: 6292, 48385: 6293, 48394: 6294, 48412: 6295, 48414: 6296, 48416: 6297, 48516: 6298, 48518: 6299, 48520: 6300, 48560: 6301, 48593: 6302, 48596: 6303, 48598: 6304, 48638: 6305, 48649: 6306, 48678: 6307, 48696: 6308, 48698: 6309, 48738: 6310, 48741: 6311, 48744: 6312, 48774: 6313, 48780: 6314, 48783: 6315, 48872: 6316, 48877: 6317, 48879: 6318, 48883: 6319, 48982: 6320, 48997: 6321, 49013: 6322, 49110: 6323, 49130: 6324, 49132: 6325, 49220: 6326, 49263: 6327, 49265: 6328, 49272: 6329, 49274: 6330, 49276: 6331, 49278: 6332, 49280: 6333, 49284: 6334, 49286: 6335, 49314: 6336, 49347: 6337, 49389: 6338, 49396: 6339, 49524: 6340, 49530: 6341, 49647: 6342, 49649: 6343, 49651: 6344, 49666: 6345, 49688: 6346, 49735: 6347, 49772: 6348, 49793: 6349, 49822: 6350, 49824: 6351, 49910: 6352, 49917: 6353, 49932: 6354, 49957: 6355, 49961: 6356, 50003: 6357, 50005: 6358, 50064: 6359, 50068: 6360, 50147: 6361, 50158: 6362, 50160: 6363, 50189: 6364, 50274: 6365, 50354: 6366, 50356: 6367, 50440: 6368, 50442: 6369, 50445: 6370, 50514: 6371, 50601: 6372, 50610: 6373, 50613: 6374, 50658: 6375, 50685: 6376, 50740: 6377, 50792: 6378, 50794: 6379, 50796: 6380, 50798: 6381, 50800: 6382, 50802: 6383, 50804: 6384, 50806: 6385, 50842: 6386, 50851: 6387, 50872: 6388, 50912: 6389, 50923: 6390, 50942: 6391, 50954: 6392, 50999: 6393, 51024: 6394, 51037: 6395, 51077: 6396, 51080: 6397, 51082: 6398, 51084: 6399, 51086: 6400, 51088: 6401, 51091: 6402, 51167: 6403, 51174: 6404, 51255: 6405, 51314: 6406, 51357: 6407, 51412: 6408, 51471: 6409, 51498: 6410, 51540: 6411, 51545: 6412, 51562: 6413, 51573: 6414, 51575: 6415, 51662: 6416, 51666: 6417, 51694: 6418, 51698: 6419, 51705: 6420, 51709: 6421, 51834: 6422, 51884: 6423, 51903: 6424, 51925: 6425, 51927: 6426, 51931: 6427, 51933: 6428, 51935: 6429, 51937: 6430, 51939: 6431, 52042: 6432, 52241: 6433, 52245: 6434, 52279: 6435, 52281: 6436, 52283: 6437, 52287: 6438, 52299: 6439, 52319: 6440, 52328: 6441, 52375: 6442, 52435: 6443, 52458: 6444, 52462: 6445, 52579: 6446, 52604: 6447, 52644: 6448, 52668: 6449, 52694: 6450, 52712: 6451, 52715: 6452, 52722: 6453, 52724: 6454, 52730: 6455, 52767: 6456, 52784: 6457, 52831: 6458, 52867: 6459, 52885: 6460, 52950: 6461, 52952: 6462, 52967: 6463, 52973: 6464, 52975: 6465, 53000: 6466, 53022: 6467, 53024: 6468, 53121: 6469, 53123: 6470, 53125: 6471, 53127: 6472, 53129: 6473, 53138: 6474, 53140: 6475, 53143: 6476, 53161: 6477, 53280: 6478, 53318: 6479, 53322: 6480, 53326: 6481, 53355: 6482, 53435: 6483, 53447: 6484, 53450: 6485, 53453: 6486, 53460: 6487, 53464: 6488, 53466: 6489, 53468: 6490, 53519: 6491, 53550: 6492, 53574: 6493, 53578: 6494, 53808: 6495, 53883: 6496, 53894: 6497, 53921: 6498, 53953: 6499, 53956: 6500, 53972: 6501, 53974: 6502, 53993: 6503, 53996: 6504, 54001: 6505, 54004: 6506, 54116: 6507, 54121: 6508, 54185: 6509, 54190: 6510, 54256: 6511, 54259: 6512, 54272: 6513, 54274: 6514, 54276: 6515, 54281: 6516, 54286: 6517, 54354: 6518, 54372: 6519, 54503: 6520, 54617: 6521, 54648: 6522, 54686: 6523, 54732: 6524, 54734: 6525, 54736: 6526, 54745: 6527, 54768: 6528, 54771: 6529, 54780: 6530, 54785: 6531, 54787: 6532, 54796: 6533, 54881: 6534, 54908: 6535, 54910: 6536, 54934: 6537, 54962: 6538, 54995: 6539, 54997: 6540, 54999: 6541, 55020: 6542, 55036: 6543, 55052: 6544, 55061: 6545, 55067: 6546, 55069: 6547, 55071: 6548, 55080: 6549, 55094: 6550, 55110: 6551, 55112: 6552, 55116: 6553, 55118: 6554, 55156: 6555, 55167: 6556, 55190: 6557, 55205: 6558, 55207: 6559, 55232: 6560, 55241: 6561, 55245: 6562, 55247: 6563, 55250: 6564, 55253: 6565, 55259: 6566, 55261: 6567, 55267: 6568, 55269: 6569, 55272: 6570, 55274: 6571, 55276: 6572, 55278: 6573, 55280: 6574, 55282: 6575, 55290: 6576, 55292: 6577, 55294: 6578, 55363: 6579, 55391: 6580, 55442: 6581, 55444: 6582, 55451: 6583, 55492: 6584, 55553: 6585, 55555: 6586, 55577: 6587, 55620: 6588, 55687: 6589, 55721: 6590, 55729: 6591, 55765: 6592, 55768: 6593, 55805: 6594, 55814: 6595, 55820: 6596, 55830: 6597, 55844: 6598, 55854: 6599, 55872: 6600, 55908: 6601, 55946: 6602, 55995: 6603, 56003: 6604, 56012: 6605, 56022: 6606, 56060: 6607, 56145: 6608, 56152: 6609, 56156: 6610, 56169: 6611, 56171: 6612, 56174: 6613, 56176: 6614, 56251: 6615, 56274: 6616, 56286: 6617, 56333: 6618, 56336: 6619, 56339: 6620, 56367: 6621, 56379: 6622, 56389: 6623, 56563: 6624, 56587: 6625, 56607: 6626, 56620: 6627, 56715: 6628, 56757: 6629, 56775: 6630, 56782: 6631, 56788: 6632, 56801: 6633, 56805: 6634, 56837: 6635, 56869: 6636, 56908: 6637, 56915: 6638, 56921: 6639, 56941: 6640, 56949: 6641, 57147: 6642, 57183: 6643, 57243: 6644, 57274: 6645, 57326: 6646, 57368: 6647, 57421: 6648, 57499: 6649, 57502: 6650, 57504: 6651, 57522: 6652, 57526: 6653, 57528: 6654, 57532: 6655, 57536: 6656, 57637: 6657, 57640: 6658, 57669: 6659, 57772: 6660, 57843: 6661, 57910: 6662, 57951: 6663, 58025: 6664, 58047: 6665, 58078: 6666, 58103: 6667, 58105: 6668, 58107: 6669, 58154: 6670, 58156: 6671, 58162: 6672, 58191: 6673, 58287: 6674, 58291: 6675, 58293: 6676, 58295: 6677, 58297: 6678, 58299: 6679, 58301: 6680, 58303: 6681, 58306: 6682, 58309: 6683, 58315: 6684, 58332: 6685, 58347: 6686, 58351: 6687, 58376: 6688, 58404: 6689, 58425: 6690, 58492: 6691, 58554: 6692, 58559: 6693, 58627: 6694, 58655: 6695, 58783: 6696, 58803: 6697, 58806: 6698, 58826: 6699, 58839: 6700, 58842: 6701, 58870: 6702, 58876: 6703, 58879: 6704, 58964: 6705, 58972: 6706, 58975: 6707, 58998: 6708, 59014: 6709, 59016: 6710, 59018: 6711, 59022: 6712, 59026: 6713, 59037: 6714, 59103: 6715, 59118: 6716, 59126: 6717, 59129: 6718, 59131: 6719, 59141: 6720, 59143: 6721, 59220: 6722, 59258: 6723, 59295: 6724, 59306: 6725, 59315: 6726, 59333: 6727, 59336: 6728, 59369: 6729, 59387: 6730, 59421: 6731, 59429: 6732, 59440: 6733, 59501: 6734, 59549: 6735, 59604: 6736, 59615: 6737, 59667: 6738, 59725: 6739, 59727: 6740, 59731: 6741, 59738: 6742, 59784: 6743, 59810: 6744, 59814: 6745, 59900: 6746, 59915: 6747, 59947: 6748, 59985: 6749, 59995: 6750, 60030: 6751, 60037: 6752, 60040: 6753, 60046: 6754, 60069: 6755, 60072: 6756, 60074: 6757, 60126: 6758, 60128: 6759, 60141: 6760, 60161: 6761, 60289: 6762, 60291: 6763, 60293: 6764, 60303: 6765, 60333: 6766, 60363: 6767, 60365: 6768, 60389: 6769, 60397: 6770, 60408: 6771, 60471: 6772, 60487: 6773, 60514: 6774, 60516: 6775, 60522: 6776, 60538: 6777, 60647: 6778, 60674: 6779, 60684: 6780, 60735: 6781, 60737: 6782, 60753: 6783, 60756: 6784, 60760: 6785, 60766: 6786, 60803: 6787, 60818: 6788, 60832: 6789, 60857: 6790, 60885: 6791, 60894: 6792, 60904: 6793, 60937: 6794, 60941: 6795, 60943: 6796, 60950: 6797, 60979: 6798, 61011: 6799, 61024: 6800, 61026: 6801, 61071: 6802, 61073: 6803, 61123: 6804, 61132: 6805, 61160: 6806, 61167: 6807, 61210: 6808, 61236: 6809, 61240: 6810, 61246: 6811, 61248: 6812, 61250: 6813, 61255: 6814, 61257: 6815, 61262: 6816, 61289: 6817, 61319: 6818, 61323: 6819, 61348: 6820, 61350: 6821, 61352: 6822, 61394: 6823, 61401: 6824, 61406: 6825, 61465: 6826, 61628: 6827, 61692: 6828, 61697: 6829, 61705: 6830, 61729: 6831, 61818: 6832, 61986: 6833, 62008: 6834, 62081: 6835, 62113: 6836, 62155: 6837, 62208: 6838, 62250: 6839, 62293: 6840, 62299: 6841, 62336: 6842, 62344: 6843, 62374: 6844, 62376: 6845, 62383: 6846, 62394: 6847, 62434: 6848, 62437: 6849, 62439: 6850, 62511: 6851, 62553: 6852, 62586: 6853, 62644: 6854, 62662: 6855, 62718: 6856, 62792: 6857, 62799: 6858, 62834: 6859, 62836: 6860, 62849: 6861, 62956: 6862, 62970: 6863, 62999: 6864, 63033: 6865, 63062: 6866, 63072: 6867, 63082: 6868, 63113: 6869, 63131: 6870, 63179: 6871, 63222: 6872, 63239: 6873, 63276: 6874, 63312: 6875, 63393: 6876, 63433: 6877, 63436: 6878, 63479: 6879, 63515: 6880, 63540: 6881, 63768: 6882, 63808: 6883, 63826: 6884, 63853: 6885, 63859: 6886, 63876: 6887, 63992: 6888, 64010: 6889, 64030: 6890, 64032: 6891, 64034: 6892, 64114: 6893, 64116: 6894, 64167: 6895, 64197: 6896, 64231: 6897, 64249: 6898, 64278: 6899, 64285: 6900, 64497: 6901, 64499: 6902, 64501: 6903, 64575: 6904, 64614: 6905, 64620: 6906, 64622: 6907, 64695: 6908, 64716: 6909, 64839: 6910, 64957: 6911, 64969: 6912, 64983: 6913, 64993: 6914, 64997: 6915, 65037: 6916, 65088: 6917, 65126: 6918, 65130: 6919, 65133: 6920, 65135: 6921, 65188: 6922, 65193: 6923, 65216: 6924, 65225: 6925, 65230: 6926, 65261: 6927, 65350: 6928, 65359: 6929, 65514: 6930, 65577: 6931, 65585: 6932, 65588: 6933, 65596: 6934, 65601: 6935, 65631: 6936, 65642: 6937, 65651: 6938, 65682: 6939, 65685: 6940, 65738: 6941, 65740: 6942, 65802: 6943, 65810: 6944, 65882: 6945, 65982: 6946, 66090: 6947, 66097: 6948, 66171: 6949, 66198: 6950, 66203: 6951, 66240: 6952, 66297: 6953, 66310: 6954, 66320: 6955, 66335: 6956, 66371: 6957, 66427: 6958, 66509: 6959, 66511: 6960, 66544: 6961, 66665: 6962, 66744: 6963, 66783: 6964, 66785: 6965, 66798: 6966, 66915: 6967, 66934: 6968, 66943: 6969, 67087: 6970, 67168: 6971, 67186: 6972, 67193: 6973, 67197: 6974, 67255: 6975, 67267: 6976, 67295: 6977, 67361: 6978, 67408: 6979, 67508: 6980, 67534: 6981, 67618: 6982, 67665: 6983, 67695: 6984, 67734: 6985, 67788: 6986, 67799: 6987, 67888: 6988, 67923: 6989, 67997: 6990, 68073: 6991, 68135: 6992, 68157: 6993, 68159: 6994, 68194: 6995, 68205: 6996, 68237: 6997, 68269: 6998, 68319: 6999, 68347: 7000, 68358: 7001, 68444: 7002, 68480: 7003, 68486: 7004, 68522: 7005, 68536: 7006, 68552: 7007, 68554: 7008, 68597: 7009, 68600: 7010, 68650: 7011, 68659: 7012, 68791: 7013, 68793: 7014, 68835: 7015, 68848: 7016, 68872: 7017, 68886: 7018, 68932: 7019, 68945: 7020, 68952: 7021, 68954: 7022, 68959: 7023, 69069: 7024, 69118: 7025, 69122: 7026, 69131: 7027, 69134: 7028, 69140: 7029, 69211: 7030, 69224: 7031, 69227: 7032, 69251: 7033, 69275: 7034, 69278: 7035, 69304: 7036, 69306: 7037, 69394: 7038, 69406: 7039, 69436: 7040, 69453: 7041, 69469: 7042, 69481: 7043, 69495: 7044, 69516: 7045, 69524: 7046, 69526: 7047, 69529: 7048, 69604: 7049, 69606: 7050, 69640: 7051, 69644: 7052, 69654: 7053, 69685: 7054, 69712: 7055, 69720: 7056, 69746: 7057, 69757: 7058, 69784: 7059, 69805: 7060, 69844: 7061, 69849: 7062, 69860: 7063, 69904: 7064, 69951: 7065, 69953: 7066, 69988: 7067, 70015: 7068, 70159: 7069, 70183: 7070, 70206: 7071, 70208: 7072, 70286: 7073, 70293: 7074, 70301: 7075, 70305: 7076, 70334: 7077, 70336: 7078, 70361: 7079, 70451: 7080, 70492: 7081, 70521: 7082, 70533: 7083, 70545: 7084, 70565: 7085, 70599: 7086, 70637: 7087, 70641: 7088, 70663: 7089, 70687: 7090, 70697: 7091, 70703: 7092, 70708: 7093, 70728: 7094, 70862: 7095, 70932: 7096, 70946: 7097, 70984: 7098, 70990: 7099, 70994: 7100, 71033: 7101, 71057: 7102, 71106: 7103, 71108: 7104, 71129: 7105, 71131: 7106, 71135: 7107, 71147: 7108, 71156: 7109, 71160: 7110, 71205: 7111, 71211: 7112, 71248: 7113, 71252: 7114, 71254: 7115, 71264: 7116, 71268: 7117, 71282: 7118, 71302: 7119, 71304: 7120, 71327: 7121, 71341: 7122, 71379: 7123, 71429: 7124, 71438: 7125, 71453: 7126, 71462: 7127, 71464: 7128, 71466: 7129, 71468: 7130, 71484: 7131, 71494: 7132, 71500: 7133, 71518: 7134, 71520: 7135, 71530: 7136, 71535: 7137, 71550: 7138, 71579: 7139, 71619: 7140, 71640: 7141, 71668: 7142, 71732: 7143, 71745: 7144, 71810: 7145, 71823: 7146, 71838: 7147, 71867: 7148, 71899: 7149, 71902: 7150, 71910: 7151, 71970: 7152, 71999: 7153, 72011: 7154, 72104: 7155, 72129: 7156, 72142: 7157, 72165: 7158, 72167: 7159, 72171: 7160, 72178: 7161, 72224: 7162, 72226: 7163, 72294: 7164, 72308: 7165, 72330: 7166, 72356: 7167, 72378: 7168, 72395: 7169, 72405: 7170, 72407: 7171, 72424: 7172, 72479: 7173, 72489: 7174, 72554: 7175, 72591: 7176, 72601: 7177, 72603: 7178, 72605: 7179, 72624: 7180, 72641: 7181, 72692: 7182, 72694: 7183, 72696: 7184, 72701: 7185, 72714: 7186, 72720: 7187, 72731: 7188, 72733: 7189, 72737: 7190, 72874: 7191, 72919: 7192, 72921: 7193, 72982: 7194, 72998: 7195, 73015: 7196, 73017: 7197, 73023: 7198, 73042: 7199, 73106: 7200, 73160: 7201, 73211: 7202, 73266: 7203, 73268: 7204, 73290: 7205, 73319: 7206, 73321: 7207, 73323: 7208, 73344: 7209, 73386: 7210, 73431: 7211, 73488: 7212, 73499: 7213, 73501: 7214, 73515: 7215, 73569: 7216, 73676: 7217, 73681: 7218, 73741: 7219, 73804: 7220, 73808: 7221, 73822: 7222, 73854: 7223, 73858: 7224, 73876: 7225, 73881: 7226, 73929: 7227, 74075: 7228, 74089: 7229, 74095: 7230, 74154: 7231, 74226: 7232, 74228: 7233, 74275: 7234, 74282: 7235, 74324: 7236, 74342: 7237, 74370: 7238, 74450: 7239, 74452: 7240, 74458: 7241, 74508: 7242, 74510: 7243, 74530: 7244, 74532: 7245, 74545: 7246, 74553: 7247, 74580: 7248, 74624: 7249, 74647: 7250, 74668: 7251, 74677: 7252, 74683: 7253, 74685: 7254, 74688: 7255, 74696: 7256, 74698: 7257, 74727: 7258, 74750: 7259, 74754: 7260, 74789: 7261, 74791: 7262, 74795: 7263, 74851: 7264, 74868: 7265, 74916: 7266, 74946: 7267, 74948: 7268, 75341: 7269, 75389: 7270, 75395: 7271, 75416: 7272, 75446: 7273, 75803: 7274, 75805: 7275, 75813: 7276, 75816: 7277, 75947: 7278, 75985: 7279, 76030: 7280, 76054: 7281, 76060: 7282, 76077: 7283, 76091: 7284, 76093: 7285, 76143: 7286, 76173: 7287, 76175: 7288, 76251: 7289, 76293: 7290, 76301: 7291, 76738: 7292, 76743: 7293, 76751: 7294, 76763: 7295, 77177: 7296, 77191: 7297, 77201: 7298, 77206: 7299, 77233: 7300, 77266: 7301, 77364: 7302, 77414: 7303, 77421: 7304, 77427: 7305, 77455: 7306, 77561: 7307, 77667: 7308, 77688: 7309, 77709: 7310, 77795: 7311, 77798: 7312, 77800: 7313, 77841: 7314, 77846: 7315, 77866: 7316, 77881: 7317, 77893: 7318, 77931: 7319, 78034: 7320, 78039: 7321, 78041: 7322, 78088: 7323, 78103: 7324, 78105: 7325, 78116: 7326, 78142: 7327, 78160: 7328, 78174: 7329, 78209: 7330, 78218: 7331, 78264: 7332, 78266: 7333, 78316: 7334, 78349: 7335, 78467: 7336, 78469: 7337, 78499: 7338, 78544: 7339, 78574: 7340, 78620: 7341, 78626: 7342, 78637: 7343, 78703: 7344, 78746: 7345, 78772: 7346, 78836: 7347, 78893: 7348, 78959: 7349, 79006: 7350, 79008: 7351, 79057: 7352, 79073: 7353, 79091: 7354, 79132: 7355, 79134: 7356, 79139: 7357, 79185: 7358, 79224: 7359, 79242: 7360, 79251: 7361, 79259: 7362, 79274: 7363, 79293: 7364, 79299: 7365, 79333: 7366, 79357: 7367, 79428: 7368, 79501: 7369, 79536: 7370, 79553: 7371, 79572: 7372, 79590: 7373, 79592: 7374, 79677: 7375, 79684: 7376, 79695: 7377, 79702: 7378, 79798: 7379, 79868: 7380, 79879: 7381, 79895: 7382, 79897: 7383, 79946: 7384, 80083: 7385, 80094: 7386, 80124: 7387, 80126: 7388, 80139: 7389, 80162: 7390, 80166: 7391, 80219: 7392, 80241: 7393, 80363: 7394, 80454: 7395, 80463: 7396, 80478: 7397, 80489: 7398, 80549: 7399, 80551: 7400, 80553: 7401, 80572: 7402, 80584: 7403, 80586: 7404, 80590: 7405, 80615: 7406, 80693: 7407, 80727: 7408, 80748: 7409, 80831: 7410, 80834: 7411, 80839: 7412, 80846: 7413, 80858: 7414, 80860: 7415, 80862: 7416, 80864: 7417, 80880: 7418, 80906: 7419, 80917: 7420, 80969: 7421, 81018: 7422, 81087: 7423, 81132: 7424, 81156: 7425, 81158: 7426, 81191: 7427, 81229: 7428, 81257: 7429, 81383: 7430, 81417: 7431, 81456: 7432, 81512: 7433, 81520: 7434, 81535: 7435, 81537: 7436, 81562: 7437, 81564: 7438, 81591: 7439, 81681: 7440, 81782: 7441, 81784: 7442, 81786: 7443, 81788: 7444, 81791: 7445, 81819: 7446, 81831: 7447, 81834: 7448, 81845: 7449, 81847: 7450, 81910: 7451, 81932: 7452, 81949: 7453, 82041: 7454, 82053: 7455, 82088: 7456, 82093: 7457, 82095: 7458, 82152: 7459, 82167: 7460, 82169: 7461, 82202: 7462, 82242: 7463, 82366: 7464, 82378: 7465, 82459: 7466, 82461: 7467, 82499: 7468, 82527: 7469, 82534: 7470, 82641: 7471, 82667: 7472, 82684: 7473, 82744: 7474, 82765: 7475, 82767: 7476, 82848: 7477, 82852: 7478, 82854: 7479, 82857: 7480, 83086: 7481, 83132: 7482, 83134: 7483, 83177: 7484, 83270: 7485, 83349: 7486, 83369: 7487, 83374: 7488, 83480: 7489, 83601: 7490, 83613: 7491, 83796: 7492, 83803: 7493, 83827: 7494, 83910: 7495, 83969: 7496, 83976: 7497, 84152: 7498, 84156: 7499, 84187: 7500, 84189: 7501, 84240: 7502, 84246: 7503, 84273: 7504, 84374: 7505, 84392: 7506, 84414: 7507, 84512: 7508, 84523: 7509, 84553: 7510, 84601: 7511, 84615: 7512, 84637: 7513, 84696: 7514, 84716: 7515, 84772: 7516, 84799: 7517, 84844: 7518, 84847: 7519, 84942: 7520, 84944: 7521, 84950: 7522, 84952: 7523, 84954: 7524, 85020: 7525, 85022: 7526, 85025: 7527, 85056: 7528, 85131: 7529, 85179: 7530, 85213: 7531, 85259: 7532, 85261: 7533, 85295: 7534, 85316: 7535, 85334: 7536, 85342: 7537, 85354: 7538, 85367: 7539, 85394: 7540, 85397: 7541, 85399: 7542, 85401: 7543, 85412: 7544, 85414: 7545, 85438: 7546, 85510: 7547, 85736: 7548, 85774: 7549, 85780: 7550, 85788: 7551, 85796: 7552, 85881: 7553, 85885: 7554, 86000: 7555, 86014: 7556, 86028: 7557, 86059: 7558, 86066: 7559, 86068: 7560, 86142: 7561, 86190: 7562, 86237: 7563, 86279: 7564, 86286: 7565, 86290: 7566, 86293: 7567, 86295: 7568, 86298: 7569, 86320: 7570, 86332: 7571, 86345: 7572, 86347: 7573, 86355: 7574, 86377: 7575, 86487: 7576, 86504: 7577, 86548: 7578, 86593: 7579, 86628: 7580, 86644: 7581, 86668: 7582, 86721: 7583, 86781: 7584, 86815: 7585, 86817: 7586, 86833: 7587, 86835: 7588, 86864: 7589, 86880: 7590, 86882: 7591, 86892: 7592, 86898: 7593, 86911: 7594, 86922: 7595, 86960: 7596, 87028: 7597, 87192: 7598, 87194: 7599, 87197: 7600, 87222: 7601, 87232: 7602, 87234: 7603, 87287: 7604, 87298: 7605, 87304: 7606, 87306: 7607, 87413: 7608, 87430: 7609, 87444: 7610, 87483: 7611, 87485: 7612, 87520: 7613, 87522: 7614, 87529: 7615, 87660: 7616, 87785: 7617, 87834: 7618, 87867: 7619, 87869: 7620, 87876: 7621, 87960: 7622, 88069: 7623, 88094: 7624, 88108: 7625, 88125: 7626, 88129: 7627, 88140: 7628, 88163: 7629, 88179: 7630, 88235: 7631, 88267: 7632, 88272: 7633, 88327: 7634, 88345: 7635, 88356: 7636, 88405: 7637, 88448: 7638, 88515: 7639, 88593: 7640, 88672: 7641, 88697: 7642, 88699: 7643, 88744: 7644, 88746: 7645, 88785: 7646, 88810: 7647, 88812: 7648, 88911: 7649, 88932: 7650, 88954: 7651, 89028: 7652, 89030: 7653, 89039: 7654, 89047: 7655, 89072: 7656, 89085: 7657, 89087: 7658, 89090: 7659, 89118: 7660, 89190: 7661, 89208: 7662, 89281: 7663, 89305: 7664, 89343: 7665, 89386: 7666, 89388: 7667, 89427: 7668, 89470: 7669, 89492: 7670, 89580: 7671, 89582: 7672, 89586: 7673, 89678: 7674, 89745: 7675, 89753: 7676, 89759: 7677, 89761: 7678, 89774: 7679, 89804: 7680, 89837: 7681, 89840: 7682, 89862: 7683, 89864: 7684, 89898: 7685, 89904: 7686, 89939: 7687, 89945: 7688, 90057: 7689, 90243: 7690, 90245: 7691, 90249: 7692, 90343: 7693, 90345: 7694, 90353: 7695, 90357: 7696, 90374: 7697, 90376: 7698, 90384: 7699, 90403: 7700, 90405: 7701, 90428: 7702, 90430: 7703, 90439: 7704, 90469: 7705, 90471: 7706, 90522: 7707, 90524: 7708, 90528: 7709, 90531: 7710, 90576: 7711, 90600: 7712, 90603: 7713, 90630: 7714, 90647: 7715, 90717: 7716, 90719: 7717, 90738: 7718, 90746: 7719, 90769: 7720, 90809: 7721, 90863: 7722, 90866: 7723, 90888: 7724, 90890: 7725, 90943: 7726, 90945: 7727, 91077: 7728, 91079: 7729, 91094: 7730, 91104: 7731, 91126: 7732, 91128: 7733, 91233: 7734, 91261: 7735, 91266: 7736, 91273: 7737, 91323: 7738, 91325: 7739, 91337: 7740, 91353: 7741, 91355: 7742, 91386: 7743, 91414: 7744, 91470: 7745, 91483: 7746, 91485: 7747, 91488: 7748, 91500: 7749, 91529: 7750, 91535: 7751, 91542: 7752, 91571: 7753, 91622: 7754, 91628: 7755, 91630: 7756, 91653: 7757, 91658: 7758, 91660: 7759, 91666: 7760, 91671: 7761, 91688: 7762, 91690: 7763, 91784: 7764, 91842: 7765, 91860: 7766, 91869: 7767, 91873: 7768, 91890: 7769, 91935: 7770, 91947: 7771, 91974: 7772, 91976: 7773, 91978: 7774, 91981: 7775, 92008: 7776, 92046: 7777, 92048: 7778, 92094: 7779, 92192: 7780, 92198: 7781, 92234: 7782, 92243: 7783, 92259: 7784, 92264: 7785, 92309: 7786, 92348: 7787, 92391: 7788, 92420: 7789, 92422: 7790, 92427: 7791, 92439: 7792, 92475: 7793, 92494: 7794, 92507: 7795, 92509: 7796, 92535: 7797, 92637: 7798, 92643: 7799, 92665: 7800, 92674: 7801, 92681: 7802, 92694: 7803, 92730: 7804, 92760: 7805, 92938: 7806, 92954: 7807, 93006: 7808, 93008: 7809, 93022: 7810, 93040: 7811, 93114: 7812, 93134: 7813, 93139: 7814, 93193: 7815, 93208: 7816, 93242: 7817, 93270: 7818, 93272: 7819, 93287: 7820, 93297: 7821, 93320: 7822, 93326: 7823, 93363: 7824, 93443: 7825, 93502: 7826, 93510: 7827, 93512: 7828, 93563: 7829, 93598: 7830, 93610: 7831, 93721: 7832, 93723: 7833, 93740: 7834, 93766: 7835, 93790: 7836, 93805: 7837, 93819: 7838, 93831: 7839, 93838: 7840, 93840: 7841, 93855: 7842, 93980: 7843, 93982: 7844, 93988: 7845, 94011: 7846, 94015: 7847, 94018: 7848, 94070: 7849, 94122: 7850, 94130: 7851, 94150: 7852, 94160: 7853, 94262: 7854, 94266: 7855, 94323: 7856, 94325: 7857, 94405: 7858, 94478: 7859, 94494: 7860, 94503: 7861, 94661: 7862, 94677: 7863, 94735: 7864, 94777: 7865, 94780: 7866, 94799: 7867, 94810: 7868, 94833: 7869, 94864: 7870, 94867: 7871, 94896: 7872, 94919: 7873, 94931: 7874, 94953: 7875, 94959: 7876, 94985: 7877, 95004: 7878, 95067: 7879, 95088: 7880, 95105: 7881, 95135: 7882, 95145: 7883, 95147: 7884, 95149: 7885, 95163: 7886, 95165: 7887, 95167: 7888, 95170: 7889, 95175: 7890, 95182: 7891, 95193: 7892, 95199: 7893, 95201: 7894, 95207: 7895, 95218: 7896, 95307: 7897, 95309: 7898, 95311: 7899, 95313: 7900, 95377: 7901, 95441: 7902, 95449: 7903, 95473: 7904, 95475: 7905, 95497: 7906, 95499: 7907, 95508: 7908, 95510: 7909, 95519: 7910, 95543: 7911, 95558: 7912, 95583: 7913, 95624: 7914, 95633: 7915, 95654: 7916, 95690: 7917, 95717: 7918, 95720: 7919, 95738: 7920, 95744: 7921, 95761: 7922, 95771: 7923, 95780: 7924, 95796: 7925, 95839: 7926, 95843: 7927, 95858: 7928, 95873: 7929, 95875: 7930, 95939: 7931, 95949: 7932, 95965: 7933, 96004: 7934, 96007: 7935, 96020: 7936, 96079: 7937, 96084: 7938, 96110: 7939, 96114: 7940, 96121: 7941, 96150: 7942, 96281: 7943, 96283: 7944, 96373: 7945, 96411: 7946, 96417: 7947, 96430: 7948, 96432: 7949, 96448: 7950, 96471: 7951, 96488: 7952, 96518: 7953, 96520: 7954, 96530: 7955, 96563: 7956, 96567: 7957, 96588: 7958, 96606: 7959, 96608: 7960, 96610: 7961, 96616: 7962, 96655: 7963, 96691: 7964, 96726: 7965, 96728: 7966, 96737: 7967, 96811: 7968, 96815: 7969, 96821: 7970, 96829: 7971, 96832: 7972, 96861: 7973, 96917: 7974, 96935: 7975, 96945: 7976, 96964: 7977, 96975: 7978, 97024: 7979, 97168: 7980, 97172: 7981, 97188: 7982, 97194: 7983, 97225: 7984, 97230: 7985, 97285: 7986, 97304: 7987, 97306: 7988, 97328: 7989, 97470: 7990, 97643: 7991, 97665: 7992, 97701: 7993, 97742: 7994, 97752: 7995, 97757: 7996, 97785: 7997, 97836: 7998, 97858: 7999, 97860: 8000, 97866: 8001, 97870: 8002, 97904: 8003, 97913: 8004, 97921: 8005, 97923: 8006, 97936: 8007, 97938: 8008, 97950: 8009, 97988: 8010, 98061: 8011, 98083: 8012, 98122: 8013, 98124: 8014, 98154: 8015, 98160: 8016, 98175: 8017, 98203: 8018, 98230: 8019, 98239: 8020, 98243: 8021, 98279: 8022, 98296: 8023, 98361: 8024, 98491: 8025, 98499: 8026, 98503: 8027, 98585: 8028, 98604: 8029, 98607: 8030, 98623: 8031, 98633: 8032, 98697: 8033, 98799: 8034, 98809: 8035, 98836: 8036, 98908: 8037, 98961: 8038, 99005: 8039, 99007: 8040, 99030: 8041, 99087: 8042, 99106: 8043, 99112: 8044, 99114: 8045, 99117: 8046, 99122: 8047, 99130: 8048, 99145: 8049, 99149: 8050, 99191: 8051, 99415: 8052, 99437: 8053, 99532: 8054, 99574: 8055, 99636: 8056, 99638: 8057, 99721: 8058, 99728: 8059, 99750: 8060, 99764: 8061, 99813: 8062, 99846: 8063, 99853: 8064, 99910: 8065, 99917: 8066, 99992: 8067, 100044: 8068, 100068: 8069, 100083: 8070, 100106: 8071, 100159: 8072, 100163: 8073, 100194: 8074, 100226: 8075, 100277: 8076, 100302: 8077, 100304: 8078, 100306: 8079, 100326: 8080, 100383: 8081, 100390: 8082, 100397: 8083, 100487: 8084, 100498: 8085, 100507: 8086, 100527: 8087, 100553: 8088, 100556: 8089, 100579: 8090, 100611: 8091, 100714: 8092, 100737: 8093, 100810: 8094, 100843: 8095, 100882: 8096, 100906: 8097, 101025: 8098, 101070: 8099, 101072: 8100, 101074: 8101, 101076: 8102, 101088: 8103, 101112: 8104, 101142: 8105, 101283: 8106, 101360: 8107, 101362: 8108, 101415: 8109, 101423: 8110, 101525: 8111, 101529: 8112, 101531: 8113, 101577: 8114, 101612: 8115, 101739: 8116, 101741: 8117, 101765: 8118, 101864: 8119, 101884: 8120, 101895: 8121, 101962: 8122, 101973: 8123, 102007: 8124, 102025: 8125, 102033: 8126, 102058: 8127, 102066: 8128, 102070: 8129, 102084: 8130, 102088: 8131, 102123: 8132, 102125: 8133, 102165: 8134, 102194: 8135, 102217: 8136, 102278: 8137, 102338: 8138, 102378: 8139, 102407: 8140, 102445: 8141, 102481: 8142, 102590: 8143, 102602: 8144, 102666: 8145, 102684: 8146, 102686: 8147, 102716: 8148, 102720: 8149, 102735: 8150, 102742: 8151, 102747: 8152, 102749: 8153, 102760: 8154, 102800: 8155, 102802: 8156, 102819: 8157, 102823: 8158, 102852: 8159, 102880: 8160, 102903: 8161, 102984: 8162, 102993: 8163, 103027: 8164, 103042: 8165, 103048: 8166, 103075: 8167, 103085: 8168, 103107: 8169, 103137: 8170, 103141: 8171, 103171: 8172, 103210: 8173, 103219: 8174, 103221: 8175, 103228: 8176, 103233: 8177, 103235: 8178, 103245: 8179, 103249: 8180, 103253: 8181, 103335: 8182, 103339: 8183, 103341: 8184, 103366: 8185, 103372: 8186, 103384: 8187, 103449: 8188, 103483: 8189, 103502: 8190, 103539: 8191, 103543: 8192, 103596: 8193, 103602: 8194, 103606: 8195, 103609: 8196, 103624: 8197, 103655: 8198, 103685: 8199, 103688: 8200, 103755: 8201, 103772: 8202, 103801: 8203, 103810: 8204, 103819: 8205, 103865: 8206, 103883: 8207, 103980: 8208, 103984: 8209, 104017: 8210, 104069: 8211, 104074: 8212, 104076: 8213, 104078: 8214, 104129: 8215, 104141: 8216, 104211: 8217, 104218: 8218, 104241: 8219, 104243: 8220, 104245: 8221, 104272: 8222, 104283: 8223, 104303: 8224, 104337: 8225, 104339: 8226, 104374: 8227, 104419: 8228, 104457: 8229, 104644: 8230, 104760: 8231, 104780: 8232, 104837: 8233, 104841: 8234, 104863: 8235, 104875: 8236, 104879: 8237, 104906: 8238, 104908: 8239, 104913: 8240, 104925: 8241, 104944: 8242, 105020: 8243, 105037: 8244, 105121: 8245, 105197: 8246, 105211: 8247, 105213: 8248, 105246: 8249, 105250: 8250, 105254: 8251, 105325: 8252, 105351: 8253, 105355: 8254, 105468: 8255, 105504: 8256, 105540: 8257, 105585: 8258, 105593: 8259, 105653: 8260, 105720: 8261, 105731: 8262, 105746: 8263, 105755: 8264, 105801: 8265, 105835: 8266, 105844: 8267, 105954: 8268, 106002: 8269, 106062: 8270, 106072: 8271, 106100: 8272, 106144: 8273, 106330: 8274, 106438: 8275, 106441: 8276, 106487: 8277, 106489: 8278, 106491: 8279, 106540: 8280, 106542: 8281, 106594: 8282, 106642: 8283, 106648: 8284, 106696: 8285, 106766: 8286, 106782: 8287, 106785: 8288, 106839: 8289, 106873: 8290, 106883: 8291, 106889: 8292, 106916: 8293, 106918: 8294, 106920: 8295, 106927: 8296, 107013: 8297, 107069: 8298, 107141: 8299, 107159: 8300, 107314: 8301, 107338: 8302, 107348: 8303, 107406: 8304, 107408: 8305, 107410: 8306, 107412: 8307, 107436: 8308, 107447: 8309, 107449: 8310, 107462: 8311, 107565: 8312, 107630: 8313, 107702: 8314, 107723: 8315, 107771: 8316, 107780: 8317, 107846: 8318, 107945: 8319, 107951: 8320, 107953: 8321, 107962: 8322, 107997: 8323, 107999: 8324, 108078: 8325, 108090: 8326, 108156: 8327, 108188: 8328, 108190: 8329, 108192: 8330, 108540: 8331, 108601: 8332, 108689: 8333, 108715: 8334, 108727: 8335, 108729: 8336, 108795: 8337, 108928: 8338, 108932: 8339, 108945: 8340, 108949: 8341, 108981: 8342, 109042: 8343, 109161: 8344, 109183: 8345, 109187: 8346, 109191: 8347, 109241: 8348, 109282: 8349, 109295: 8350, 109313: 8351, 109317: 8352, 109372: 8353, 109374: 8354, 109383: 8355, 109416: 8356, 109483: 8357, 109487: 8358, 109569: 8359, 109576: 8360, 109578: 8361, 109596: 8362, 109633: 8363, 109673: 8364, 109687: 8365, 109723: 8366, 109846: 8367, 109848: 8368, 109850: 8369, 109853: 8370, 109864: 8371, 109895: 8372, 109897: 8373, 109941: 8374, 109968: 8375, 109971: 8376, 110102: 8377, 110127: 8378, 110130: 8379, 110281: 8380, 110286: 8381, 110297: 8382, 110330: 8383, 110350: 8384, 110387: 8385, 110501: 8386, 110541: 8387, 110553: 8388, 110586: 8389, 110591: 8390, 110603: 8391, 110611: 8392, 110655: 8393, 110669: 8394, 110718: 8395, 110730: 8396, 110746: 8397, 110771: 8398, 110773: 8399, 110781: 8400, 110826: 8401, 110882: 8402, 111113: 8403, 111146: 8404, 111320: 8405, 111360: 8406, 111362: 8407, 111364: 8408, 111375: 8409, 111384: 8410, 111443: 8411, 111551: 8412, 111617: 8413, 111622: 8414, 111659: 8415, 111663: 8416, 111680: 8417, 111732: 8418, 111743: 8419, 111759: 8420, 111781: 8421, 111785: 8422, 111795: 8423, 111800: 8424, 111817: 8425, 111844: 8426, 111913: 8427, 111921: 8428, 112006: 8429, 112070: 8430, 112138: 8431, 112171: 8432, 112175: 8433, 112183: 8434, 112290: 8435, 112303: 8436, 112316: 8437, 112326: 8438, 112334: 8439, 112370: 8440, 112421: 8441, 112450: 8442, 112454: 8443, 112460: 8444, 112497: 8445, 112512: 8446, 112515: 8447, 112552: 8448, 112556: 8449, 112580: 8450, 112623: 8451, 112727: 8452, 112749: 8453, 112788: 8454, 112804: 8455, 112818: 8456, 112852: 8457, 112868: 8458, 112897: 8459, 112911: 8460, 112940: 8461, 113159: 8462, 113186: 8463, 113207: 8464, 113225: 8465, 113252: 8466, 113275: 8467, 113278: 8468, 113280: 8469, 113313: 8470, 113345: 8471, 113348: 8472, 113350: 8473, 113374: 8474, 113378: 8475, 113394: 8476, 113416: 8477, 113453: 8478, 113532: 8479, 113565: 8480, 113573: 8481, 113604: 8482, 113705: 8483, 113741: 8484, 113780: 8485, 113829: 8486, 113849: 8487, 113862: 8488, 114028: 8489, 114044: 8490, 114060: 8491, 114066: 8492, 114074: 8493, 114126: 8494, 114180: 8495, 114184: 8496, 114246: 8497, 114265: 8498, 114335: 8499, 114396: 8500, 114494: 8501, 114554: 8502, 114601: 8503, 114627: 8504, 114662: 8505, 114670: 8506, 114678: 8507, 114707: 8508, 114713: 8509, 114762: 8510, 114795: 8511, 114818: 8512, 114847: 8513, 114925: 8514, 114935: 8515, 115065: 8516, 115111: 8517, 115122: 8518, 115149: 8519, 115151: 8520, 115170: 8521, 115203: 8522, 115210: 8523, 115216: 8524, 115231: 8525, 115502: 8526, 115569: 8527, 115617: 8528, 115664: 8529, 115667: 8530, 115680: 8531, 115713: 8532, 115727: 8533, 115819: 8534, 115828: 8535, 115877: 8536, 115969: 8537, 116044: 8538, 116138: 8539, 116169: 8540, 116207: 8541, 116411: 8542, 116413: 8543, 116419: 8544, 116505: 8545, 116529: 8546, 116668: 8547, 116718: 8548, 116724: 8549, 116738: 8550, 116797: 8551, 116799: 8552, 116817: 8553, 116823: 8554, 116849: 8555, 116887: 8556, 116897: 8557, 116941: 8558, 116963: 8559, 116977: 8560, 116985: 8561, 117107: 8562, 117109: 8563, 117133: 8564, 117176: 8565, 117192: 8566, 117364: 8567, 117368: 8568, 117444: 8569, 117466: 8570, 117511: 8571, 117529: 8572, 117531: 8573, 117533: 8574, 117545: 8575, 117572: 8576, 117590: 8577, 117630: 8578, 117646: 8579, 117849: 8580, 117851: 8581, 117867: 8582, 117877: 8583, 117881: 8584, 117887: 8585, 117895: 8586, 117922: 8587, 118082: 8588, 118166: 8589, 118198: 8590, 118248: 8591, 118270: 8592, 118290: 8593, 118326: 8594, 118354: 8595, 118512: 8596, 118530: 8597, 118572: 8598, 118696: 8599, 118700: 8600, 118702: 8601, 118706: 8602, 118784: 8603, 118814: 8604, 118834: 8605, 118862: 8606, 118880: 8607, 118888: 8608, 118894: 8609, 118896: 8610, 118900: 8611, 118924: 8612, 118930: 8613, 118985: 8614, 118997: 8615, 119068: 8616, 119141: 8617, 119145: 8618, 119153: 8619, 119155: 8620, 119167: 8621, 119218: 8622, 119655: 8623, 119714: 8624, 119828: 8625, 119964: 8626, 120130: 8627, 120138: 8628, 120466: 8629, 120478: 8630, 120625: 8631, 120635: 8632, 120637: 8633, 120761: 8634, 120783: 8635, 120799: 8636, 120807: 8637, 120813: 8638, 120827: 8639, 120919: 8640, 121007: 8641, 121035: 8642, 121097: 8643, 121099: 8644, 121129: 8645, 121169: 8646, 121171: 8647, 121231: 8648, 121253: 8649, 121338: 8650, 121342: 8651, 121372: 8652, 121374: 8653, 121469: 8654, 121715: 8655, 121781: 8656, 122092: 8657, 122246: 8658, 122260: 8659, 122433: 8660, 122490: 8661, 122627: 8662, 122882: 8663, 122884: 8664, 122886: 8665, 122888: 8666, 122890: 8667, 122892: 8668, 122896: 8669, 122898: 8670, 122900: 8671, 122902: 8672, 122904: 8673, 122906: 8674, 122912: 8675, 122916: 8676, 122918: 8677, 122920: 8678, 122922: 8679, 122924: 8680, 122926: 8681, 122932: 8682, 123200: 8683, 123310: 8684, 123545: 8685, 123553: 8686, 123947: 8687, 124273: 8688, 124404: 8689, 124484: 8690, 124851: 8691, 124853: 8692, 124859: 8693, 125221: 8694, 125914: 8695, 125916: 8696, 125970: 8697, 125974: 8698, 126088: 8699, 126090: 8700, 126142: 8701, 126420: 8702, 126426: 8703, 126430: 8704, 126482: 8705, 126548: 8706, 126577: 8707, 126921: 8708, 127052: 8709, 127096: 8710, 127098: 8711, 127108: 8712, 127114: 8713, 127116: 8714, 127130: 8715, 127132: 8716, 127134: 8717, 127136: 8718, 127146: 8719, 127152: 8720, 127164: 8721, 127172: 8722, 127180: 8723, 127184: 8724, 127194: 8725, 127198: 8726, 127202: 8727, 127204: 8728, 127212: 8729, 127298: 8730, 127319: 8731, 127323: 8732, 127390: 8733, 128087: 8734, 128089: 8735, 128097: 8736, 128099: 8737, 128197: 8738, 128360: 8739, 128366: 8740, 128488: 8741, 128512: 8742, 128520: 8743, 128542: 8744, 128592: 8745, 128594: 8746, 128620: 8747, 128695: 8748, 128736: 8749, 128832: 8750, 128838: 8751, 128842: 8752, 128852: 8753, 128900: 8754, 128902: 8755, 128908: 8756, 128914: 8757, 128944: 8758, 128968: 8759, 128975: 8760, 128991: 8761, 129011: 8762, 129229: 8763, 129250: 8764, 129313: 8765, 129333: 8766, 129354: 8767, 129397: 8768, 129428: 8769, 129514: 8770, 129657: 8771, 129659: 8772, 129737: 8773, 129779: 8774, 129937: 8775, 130050: 8776, 130052: 8777, 130073: 8778, 130083: 8779, 130087: 8780, 130444: 8781, 130450: 8782, 130452: 8783, 130482: 8784, 130490: 8785, 130498: 8786, 130518: 8787, 130520: 8788, 130576: 8789, 130578: 8790, 130634: 8791, 130686: 8792, 130840: 8793, 130842: 8794, 130970: 8795, 130976: 8796, 130978: 8797, 131013: 8798, 131023: 8799, 131098: 8800, 131104: 8801, 131130: 8802, 131237: 8803, 131439: 8804, 131480: 8805, 131578: 8806, 131610: 8807, 131656: 8808, 131714: 8809, 131724: 8810, 131739: 8811, 131749: 8812, 131796: 8813, 131826: 8814, 131920: 8815, 131934: 8816, 132046: 8817, 132084: 8818, 132153: 8819, 132157: 8820, 132333: 8821, 132335: 8822, 132362: 8823, 132422: 8824, 132424: 8825, 132454: 8826, 132462: 8827, 132488: 8828, 132496: 8829, 132584: 8830, 132618: 8831, 132660: 8832, 132796: 8833, 132800: 8834, 132888: 8835, 133115: 8836, 133195: 8837, 133217: 8838, 133281: 8839, 133365: 8840, 133377: 8841, 133419: 8842, 133545: 8843, 133645: 8844, 133712: 8845, 133716: 8846, 133771: 8847, 133780: 8848, 133782: 8849, 133798: 8850, 133802: 8851, 133832: 8852, 133867: 8853, 133879: 8854, 134004: 8855, 134019: 8856, 134021: 8857, 134041: 8858, 134095: 8859, 134109: 8860, 134130: 8861, 134158: 8862, 134170: 8863, 134184: 8864, 134214: 8865, 134246: 8866, 134248: 8867, 134252: 8868, 134326: 8869, 134334: 8870, 134368: 8871, 134393: 8872, 134515: 8873, 134524: 8874, 134528: 8875, 134775: 8876, 134783: 8877, 134796: 8878, 134808: 8879, 134847: 8880, 134849: 8881, 134853: 8882, 134859: 8883, 134861: 8884, 134881: 8885, 135133: 8886, 135137: 8887, 135143: 8888, 135198: 8889, 135216: 8890, 135288: 8891, 135436: 8892, 135456: 8893, 135518: 8894, 135532: 8895, 135534: 8896, 135536: 8897, 135567: 8898, 135569: 8899, 135777: 8900, 135787: 8901, 135803: 8902, 135815: 8903, 135861: 8904, 135885: 8905, 135887: 8906, 135937: 8907, 136012: 8908, 136016: 8909, 136018: 8910, 136020: 8911, 136024: 8912, 136297: 8913, 136305: 8914, 136341: 8915, 136353: 8916, 136355: 8917, 136359: 8918, 136443: 8919, 136445: 8920, 136447: 8921, 136449: 8922, 136469: 8923, 136471: 8924, 136503: 8925, 136511: 8926, 136540: 8927, 136556: 8928, 136562: 8929, 136564: 8930, 136598: 8931, 136602: 8932, 136654: 8933, 136664: 8934, 136666: 8935, 136778: 8936, 136786: 8937, 136800: 8938, 136816: 8939, 136834: 8940, 136838: 8941, 136840: 8942, 136850: 8943, 136859: 8944, 136864: 8945, 136912: 8946, 136958: 8947, 137218: 8948, 137337: 8949, 137345: 8950, 137517: 8951, 137595: 8952, 137857: 8953, 137859: 8954, 137863: 8955, 138036: 8956, 138186: 8957, 138204: 8958, 138208: 8959, 138210: 8960, 138396: 8961, 138546: 8962, 138610: 8963, 138632: 8964, 138702: 8965, 138798: 8966, 138835: 8967, 138966: 8968, 139052: 8969, 139130: 8970, 139157: 8971, 139385: 8972, 139415: 8973, 139511: 8974, 139640: 8975, 139642: 8976, 139644: 8977, 139655: 8978, 139717: 8979, 139747: 8980, 139855: 8981, 139857: 8982, 139859: 8983, 139915: 8984, 139994: 8985, 140016: 8986, 140038: 8987, 140110: 8988, 140133: 8989, 140162: 8990, 140174: 8991, 140237: 8992, 140247: 8993, 140265: 8994, 140267: 8995, 140289: 8996, 140301: 8997, 140359: 8998, 140481: 8999, 140523: 9000, 140525: 9001, 140541: 9002, 140561: 9003, 140627: 9004, 140711: 9005, 140715: 9006, 140725: 9007, 140737: 9008, 140816: 9009, 140850: 9010, 140852: 9011, 140928: 9012, 140956: 9013, 141004: 9014, 141131: 9015, 141400: 9016, 141408: 9017, 141422: 9018, 141513: 9019, 141544: 9020, 141646: 9021, 141668: 9022, 141688: 9023, 141718: 9024, 141749: 9025, 141799: 9026, 141810: 9027, 141816: 9028, 141818: 9029, 141820: 9030, 141830: 9031, 141836: 9032, 141844: 9033, 141846: 9034, 141866: 9035, 141890: 9036, 141928: 9037, 141994: 9038, 142020: 9039, 142056: 9040, 142074: 9041, 142115: 9042, 142196: 9043, 142222: 9044, 142366: 9045, 142372: 9046, 142420: 9047, 142422: 9048, 142424: 9049, 142444: 9050, 142448: 9051, 142456: 9052, 142488: 9053, 142507: 9054, 142509: 9055, 142536: 9056, 142550: 9057, 142558: 9058, 142598: 9059, 142602: 9060, 142831: 9061, 142961: 9062, 142997: 9063, 143001: 9064, 143031: 9065, 143245: 9066, 143255: 9067, 143257: 9068, 143355: 9069, 143365: 9070, 143367: 9071, 143385: 9072, 143410: 9073, 143458: 9074, 143472: 9075, 143511: 9076, 143525: 9077, 143559: 9078, 143859: 9079, 143896: 9080, 143969: 9081, 144210: 9082, 144222: 9083, 144262: 9084, 144352: 9085, 144478: 9086, 144522: 9087, 144606: 9088, 144620: 9089, 144714: 9090, 144716: 9091, 144734: 9092, 144976: 9093, 145080: 9094, 145150: 9095, 145283: 9096, 145418: 9097, 145491: 9098, 145724: 9099, 145745: 9100, 145839: 9101, 145935: 9102, 145951: 9103, 145994: 9104, 146024: 9105, 146028: 9106, 146210: 9107, 146244: 9108, 146309: 9109, 146656: 9110, 146662: 9111, 146682: 9112, 146684: 9113, 146688: 9114, 146730: 9115, 146986: 9116, 147002: 9117, 147142: 9118, 147196: 9119, 147250: 9120, 147282: 9121, 147286: 9122, 147300: 9123, 147326: 9124, 147328: 9125, 147330: 9126, 147372: 9127, 147374: 9128, 147376: 9129, 147378: 9130, 147380: 9131, 147382: 9132, 147384: 9133, 147410: 9134, 147657: 9135, 147662: 9136, 147936: 9137, 148166: 9138, 148172: 9139, 148238: 9140, 148424: 9141, 148482: 9142, 148592: 9143, 148626: 9144, 148632: 9145, 148652: 9146, 148667: 9147, 148671: 9148, 148675: 9149, 148709: 9150, 148775: 9151, 148881: 9152, 148888: 9153, 148956: 9154, 148978: 9155, 148982: 9156, 149011: 9157, 149144: 9158, 149146: 9159, 149330: 9160, 149334: 9161, 149350: 9162, 149352: 9163, 149354: 9164, 149380: 9165, 149406: 9166, 149508: 9167, 149566: 9168, 149590: 9169, 149612: 9170, 149830: 9171, 149902: 9172, 150254: 9173, 150401: 9174, 150548: 9175, 150554: 9176, 150596: 9177, 150604: 9178, 150696: 9179, 150993: 9180, 151311: 9181, 151315: 9182, 151317: 9183, 151455: 9184, 151479: 9185, 151501: 9186, 151557: 9187, 151559: 9188, 151653: 9189, 151687: 9190, 151695: 9191, 151739: 9192, 151745: 9193, 151759: 9194, 151763: 9195, 151769: 9196, 151777: 9197, 151781: 9198, 152037: 9199, 152063: 9200, 152065: 9201, 152071: 9202, 152077: 9203, 152079: 9204, 152081: 9205, 152083: 9206, 152085: 9207, 152091: 9208, 152105: 9209, 152173: 9210, 152270: 9211, 152284: 9212, 152372: 9213, 152591: 9214, 152658: 9215, 152711: 9216, 152970: 9217, 153070: 9218, 153236: 9219, 153386: 9220, 153408: 9221, 154065: 9222, 154358: 9223, 154975: 9224, 155064: 9225, 155168: 9226, 155288: 9227, 155358: 9228, 155509: 9229, 155589: 9230, 155659: 9231, 155743: 9232, 155774: 9233, 155812: 9234, 155820: 9235, 155892: 9236, 156025: 9237, 156371: 9238, 156387: 9239, 156553: 9240, 156605: 9241, 156607: 9242, 156609: 9243, 156675: 9244, 156706: 9245, 156726: 9246, 156781: 9247, 156783: 9248, 157108: 9249, 157110: 9250, 157122: 9251, 157130: 9252, 157172: 9253, 157200: 9254, 157270: 9255, 157296: 9256, 157312: 9257, 157340: 9258, 157369: 9259, 157407: 9260, 157432: 9261, 157699: 9262, 157775: 9263, 157865: 9264, 158022: 9265, 158027: 9266, 158035: 9267, 158238: 9268, 158254: 9269, 158388: 9270, 158398: 9271, 158402: 9272, 158528: 9273, 158721: 9274, 158783: 9275, 158813: 9276, 158830: 9277, 158842: 9278, 158872: 9279, 158874: 9280, 158882: 9281, 158956: 9282, 158966: 9283, 158972: 9284, 159061: 9285, 159069: 9286, 159077: 9287, 159093: 9288, 159161: 9289, 159193: 9290, 159403: 9291, 159415: 9292, 159441: 9293, 159510: 9294, 159690: 9295, 159717: 9296, 159755: 9297, 159779: 9298, 159811: 9299, 159817: 9300, 159849: 9301, 159858: 9302, 159976: 9303, 160080: 9304, 160271: 9305, 160289: 9306, 160341: 9307, 160400: 9308, 160422: 9309, 160438: 9310, 160440: 9311, 160527: 9312, 160563: 9313, 160565: 9314, 160567: 9315, 160569: 9316, 160571: 9317, 160573: 9318, 160644: 9319, 160646: 9320, 160684: 9321, 160718: 9322, 160730: 9323, 160836: 9324, 160848: 9325, 160872: 9326, 160954: 9327, 160978: 9328, 160980: 9329, 161008: 9330, 161024: 9331, 161032: 9332, 161044: 9333, 161127: 9334, 161131: 9335, 161290: 9336, 161354: 9337, 161580: 9338, 161582: 9339, 161594: 9340, 161634: 9341, 161830: 9342, 161918: 9343, 161922: 9344, 161966: 9345, 162082: 9346, 162344: 9347, 162350: 9348, 162414: 9349, 162478: 9350, 162578: 9351, 162590: 9352, 162598: 9353, 162600: 9354, 162602: 9355, 162606: 9356, 162828: 9357, 162968: 9358, 162982: 9359, 163056: 9360, 163072: 9361, 163112: 9362, 163134: 9363, 163386: 9364, 163527: 9365, 163639: 9366, 163645: 9367, 163653: 9368, 163809: 9369, 163925: 9370, 163937: 9371, 163981: 9372, 163985: 9373, 164179: 9374, 164200: 9375, 164226: 9376, 164280: 9377, 164367: 9378, 164375: 9379, 164540: 9380, 164647: 9381, 164655: 9382, 164707: 9383, 164753: 9384, 164881: 9385, 164909: 9386, 164917: 9387, 165075: 9388, 165101: 9389, 165103: 9390, 165139: 9391, 165343: 9392, 165347: 9393, 165483: 9394, 165489: 9395, 165529: 9396, 165549: 9397, 165551: 9398, 165635: 9399, 165639: 9400, 165645: 9401, 165671: 9402, 165843: 9403, 165947: 9404, 165959: 9405, 165969: 9406, 166015: 9407, 166024: 9408, 166183: 9409, 166203: 9410, 166291: 9411, 166461: 9412, 166492: 9413, 166526: 9414, 166528: 9415, 166534: 9416, 166558: 9417, 166568: 9418, 166635: 9419, 166643: 9420, 166705: 9421, 166946: 9422, 167018: 9423, 167036: 9424, 167064: 9425, 167296: 9426, 167370: 9427, 167380: 9428, 167538: 9429, 167570: 9430, 167634: 9431, 167706: 9432, 167732: 9433, 167746: 9434, 167772: 9435, 167790: 9436, 167854: 9437, 168026: 9438, 168090: 9439, 168144: 9440, 168174: 9441, 168218: 9442, 168248: 9443, 168250: 9444, 168252: 9445, 168254: 9446, 168266: 9447, 168326: 9448, 168350: 9449, 168358: 9450, 168366: 9451, 168418: 9452, 168456: 9453, 168492: 9454, 168608: 9455, 168612: 9456, 168632: 9457, 168712: 9458, 168846: 9459, 169034: 9460, 169180: 9461, 169670: 9462, 169904: 9463, 169912: 9464, 169958: 9465, 169982: 9466, 169984: 9467, 169992: 9468, 170289: 9469, 170297: 9470, 170355: 9471, 170357: 9472, 170399: 9473, 170401: 9474, 170411: 9475, 170551: 9476, 170597: 9477, 170697: 9478, 170705: 9479, 170777: 9480, 170813: 9481, 170817: 9482, 170827: 9483, 170837: 9484, 170875: 9485, 170897: 9486, 170907: 9487, 170937: 9488, 170939: 9489, 170945: 9490, 170957: 9491, 170993: 9492, 171011: 9493, 171023: 9494, 171251: 9495, 171495: 9496, 171631: 9497, 171695: 9498, 171701: 9499, 171749: 9500, 171751: 9501, 171759: 9502, 171763: 9503, 171765: 9504, 171811: 9505, 171867: 9506, 171891: 9507, 171917: 9508, 172013: 9509, 172215: 9510, 172229: 9511, 172233: 9512, 172253: 9513, 172321: 9514, 172461: 9515, 172497: 9516, 172547: 9517, 172577: 9518, 172583: 9519, 172585: 9520, 172587: 9521, 172589: 9522, 172591: 9523, 172637: 9524, 172705: 9525, 172793: 9526, 172825: 9527, 172875: 9528, 172881: 9529, 172887: 9530, 172909: 9531, 173145: 9532, 173197: 9533, 173205: 9534, 173209: 9535, 173235: 9536, 173253: 9537, 173255: 9538, 173291: 9539, 173307: 9540, 173317: 9541, 173351: 9542, 173355: 9543, 173535: 9544, 173619: 9545, 173751: 9546, 173873: 9547, 173925: 9548, 173941: 9549, 173963: 9550, 174045: 9551, 174053: 9552, 174055: 9553, 174141: 9554, 174403: 9555, 174479: 9556, 174551: 9557, 174681: 9558, 174727: 9559, 174737: 9560, 174815: 9561, 174909: 9562, 175197: 9563, 175199: 9564, 175293: 9565, 175303: 9566, 175387: 9567, 175397: 9568, 175401: 9569, 175431: 9570, 175435: 9571, 175475: 9572, 175485: 9573, 175569: 9574, 175577: 9575, 175585: 9576, 175661: 9577, 175693: 9578, 175705: 9579, 175707: 9580, 175743: 9581, 175781: 9582, 176051: 9583, 176101: 9584, 176329: 9585, 176371: 9586, 176389: 9587, 176413: 9588, 176415: 9589, 176419: 9590, 176423: 9591, 176579: 9592, 176601: 9593, 176621: 9594, 176751: 9595, 176805: 9596, 176935: 9597, 177185: 9598, 177285: 9599, 177593: 9600, 177615: 9601, 177763: 9602, 177765: 9603, 177939: 9604, 178061: 9605, 178111: 9606, 178129: 9607, 178323: 9608, 178613: 9609, 178615: 9610, 178827: 9611, 179053: 9612, 179073: 9613, 179119: 9614, 179133: 9615, 179135: 9616, 179211: 9617, 179401: 9618, 179427: 9619, 179491: 9620, 179511: 9621, 179709: 9622, 179749: 9623, 179813: 9624, 179815: 9625, 179817: 9626, 179819: 9627, 179953: 9628, 180031: 9629, 180045: 9630, 180095: 9631, 180231: 9632, 180263: 9633, 180265: 9634, 180297: 9635, 180497: 9636, 180777: 9637, 180985: 9638, 180987: 9639, 181065: 9640, 181139: 9641, 181315: 9642, 181413: 9643, 181659: 9644, 181719: 9645, 182293: 9646, 182297: 9647, 182299: 9648, 182639: 9649, 182715: 9650, 182727: 9651, 182731: 9652, 182749: 9653, 182793: 9654, 182823: 9655, 183011: 9656, 183197: 9657, 183199: 9658, 183227: 9659, 183295: 9660, 183301: 9661, 183317: 9662, 183611: 9663, 183635: 9664, 183897: 9665, 183911: 9666, 183959: 9667, 184015: 9668, 184053: 9669, 184245: 9670, 184253: 9671, 184257: 9672, 184349: 9673, 184471: 9674, 184641: 9675, 184721: 9676, 184791: 9677, 184931: 9678, 184987: 9679, 184997: 9680, 185029: 9681, 185031: 9682, 185033: 9683, 185135: 9684, 185435: 9685, 185473: 9686, 185585: 9687, 186587: 9688, 187031: 9689, 187541: 9690, 187593: 9691, 187595: 9692, 187717: 9693, 188189: 9694, 188301: 9695, 188675: 9696, 188751: 9697, 188797: 9698, 188833: 9699, 189043: 9700, 189111: 9701, 189333: 9702, 189381: 9703, 189547: 9704, 189713: 9705, 190183: 9706, 190207: 9707, 190209: 9708, 190213: 9709, 190215: 9710, 190219: 9711, 190221: 9712, 191005: 9713, 193565: 9714, 193567: 9715, 193571: 9716, 193573: 9717, 193579: 9718, 193581: 9719, 193583: 9720, 193585: 9721, 193587: 9722, 193609: 9723, 200000: 9724}\n"
     ]
    }
   ],
   "source": [
    "print(user_mapper)\n",
    "print(movie_mapper)"
   ]
  },
  {
   "cell_type": "code",
   "execution_count": 102,
   "metadata": {},
   "outputs": [
    {
     "name": "stdout",
     "output_type": "stream",
     "text": [
      "<class 'scipy.sparse.csr.csr_matrix'> ['__abs__', '__add__', '__array_priority__', '__bool__', '__class__', '__delattr__', '__dict__', '__dir__', '__div__', '__doc__', '__eq__', '__format__', '__ge__', '__getattr__', '__getattribute__', '__getitem__', '__gt__', '__hash__', '__iadd__', '__idiv__', '__imul__', '__init__', '__init_subclass__', '__isub__', '__iter__', '__itruediv__', '__le__', '__len__', '__lt__', '__matmul__', '__module__', '__mul__', '__ne__', '__neg__', '__new__', '__nonzero__', '__pow__', '__radd__', '__rdiv__', '__reduce__', '__reduce_ex__', '__repr__', '__rmatmul__', '__rmul__', '__round__', '__rsub__', '__rtruediv__', '__setattr__', '__setitem__', '__sizeof__', '__str__', '__sub__', '__subclasshook__', '__truediv__', '__weakref__', '_add_dense', '_add_sparse', '_arg_min_or_max', '_arg_min_or_max_axis', '_asindices', '_binopt', '_cs_matrix__get_has_canonical_format', '_cs_matrix__get_sorted', '_cs_matrix__set_has_canonical_format', '_cs_matrix__set_sorted', '_deduped_data', '_divide', '_divide_sparse', '_get_arrayXarray', '_get_arrayXint', '_get_arrayXslice', '_get_columnXarray', '_get_dtype', '_get_intXarray', '_get_intXint', '_get_intXslice', '_get_sliceXarray', '_get_sliceXint', '_get_sliceXslice', '_get_submatrix', '_imag', '_inequality', '_insert_many', '_major_index_fancy', '_major_slice', '_maximum_minimum', '_min_or_max', '_min_or_max_axis', '_minor_index_fancy', '_minor_reduce', '_minor_slice', '_mul_multivector', '_mul_scalar', '_mul_sparse_matrix', '_mul_vector', '_prepare_indices', '_process_toarray_args', '_real', '_rsub_dense', '_scalar_binopt', '_set_arrayXarray', '_set_arrayXarray_sparse', '_set_dtype', '_set_intXint', '_set_many', '_set_self', '_setdiag', '_shape', '_sub_dense', '_sub_sparse', '_swap', '_validate_indices', '_with_data', '_zero_many', 'arcsin', 'arcsinh', 'arctan', 'arctanh', 'argmax', 'argmin', 'asformat', 'asfptype', 'astype', 'ceil', 'check_format', 'conj', 'conjugate', 'copy', 'count_nonzero', 'data', 'deg2rad', 'diagonal', 'dot', 'dtype', 'eliminate_zeros', 'expm1', 'floor', 'format', 'getH', 'get_shape', 'getcol', 'getformat', 'getmaxprint', 'getnnz', 'getrow', 'has_canonical_format', 'has_sorted_indices', 'indices', 'indptr', 'log1p', 'max', 'maximum', 'maxprint', 'mean', 'min', 'minimum', 'multiply', 'ndim', 'nnz', 'nonzero', 'power', 'prune', 'rad2deg', 'reshape', 'resize', 'rint', 'set_shape', 'setdiag', 'shape', 'sign', 'sin', 'sinh', 'sort_indices', 'sorted_indices', 'sqrt', 'sum', 'sum_duplicates', 'tan', 'tanh', 'toarray', 'tobsr', 'tocoo', 'tocsc', 'tocsr', 'todense', 'todia', 'todok', 'tolil', 'transpose', 'trunc']\n",
      "(610, 9725)\n"
     ]
    },
    {
     "data": {
      "text/plain": [
       "<610x9725 sparse matrix of type '<class 'numpy.float64'>'\n",
       "\twith 101446 stored elements in Compressed Sparse Row format>"
      ]
     },
     "execution_count": 102,
     "metadata": {},
     "output_type": "execute_result"
    }
   ],
   "source": [
    "# shape: users X movies\n",
    "print(type(X), dir(X))\n",
    "print(X.shape)\n",
    "X"
   ]
  },
  {
   "cell_type": "code",
   "execution_count": 103,
   "metadata": {},
   "outputs": [
    {
     "name": "stdout",
     "output_type": "stream",
     "text": [
      "610 9725\n",
      "(610, 9725)\n",
      "48 bytes (for CSR)\n",
      "1,219,844 bytes (for CSR with underlying object sizes added too)\n",
      "5,432 bytes (for nested list)\n",
      "566,321,692 bytes (for nested list with underlying objects)\n",
      "47,458,128 bytes (numpy matrix according to getsizeof() looks to include everything)\n",
      "47,458,000 bytes (numpy matrix according to numpy)\n",
      "47,458,128 bytes (numpy matrix according to custom function)\n",
      "Memory ratio: 0.03\n",
      "Memory ratio: 0.03\n"
     ]
    }
   ],
   "source": [
    "# how does CSR matrix compare in size?\n",
    "# https://nedbatchelder.com/blog/202002/sysgetsizeof_is_not_what_you_want.html\n",
    "import sys\n",
    "\n",
    "non_sparse = [[f\"a string that isn't an int {i, j}\" for i in range(len(np.unique(ratings[\"movieId\"])))] for j in range(len(np.unique(ratings[\"userId\"])))]\n",
    "# non_sparse = [[0 for i in range(len(np.unique(ratings[\"movieId\"])))] for j in range(len(np.unique(ratings[\"userId\"])))]\n",
    "print(len(non_sparse), len(non_sparse[0]))\n",
    "non_sparse_numpy_matrix = np.zeros((len(non_sparse), len(non_sparse[0])))\n",
    "print(non_sparse_numpy_matrix.shape)\n",
    "\n",
    "def get_size(obj, seen=None):\n",
    "    \"\"\"Recursively find the total size of an object and its members\"\"\"\n",
    "    size = sys.getsizeof(obj)\n",
    "    if seen is None:\n",
    "        seen = set()\n",
    "    obj_id = id(obj)\n",
    "    if obj_id in seen:\n",
    "        return 0\n",
    "    seen.add(obj_id)\n",
    "    if isinstance(obj, (list, tuple, set, frozenset)):\n",
    "        for item in obj:\n",
    "            size += get_size(item, seen)\n",
    "    elif isinstance(obj, dict):\n",
    "        for key, value in obj.items():\n",
    "            size += get_size(key, seen)\n",
    "            size += get_size(value, seen)\n",
    "    elif isinstance(obj, csr_matrix):\n",
    "        size += obj.data.nbytes  # size of data array\n",
    "        size += obj.indptr.nbytes  # size of indptr array; index pointers; https://stackoverflow.com/questions/52299420/scipy-csr-matrix-understand-indptr\n",
    "        size += obj.indices.nbytes  # size of indices array\n",
    "    return size\n",
    "\n",
    "print(f\"{sys.getsizeof(X):,}\", \"bytes (for CSR)\")\n",
    "print(f\"{get_size(X):,}\", \"bytes (for CSR with underlying object sizes added too)\")\n",
    "print(f\"{sys.getsizeof(non_sparse):,}\", \"bytes (for nested list)\")\n",
    "print(f\"{get_size(non_sparse):,}\", \"bytes (for nested list with underlying objects)\")\n",
    "print(f\"{sys.getsizeof(non_sparse_numpy_matrix):,}\", \"bytes (numpy matrix according to getsizeof() looks to include everything)\")\n",
    "print(f\"{non_sparse_numpy_matrix.nbytes:,}\", \"bytes (numpy matrix according to numpy)\")\n",
    "print(f\"{get_size(non_sparse_numpy_matrix):,}\", \"bytes (numpy matrix according to custom function)\")\n",
    "print(f\"Memory ratio: {get_size(X)/get_size(non_sparse_numpy_matrix):.2f}\")\n",
    "print(f\"Memory ratio: {round(get_size(X)/get_size(non_sparse_numpy_matrix), 2)}\")\n"
   ]
  },
  {
   "cell_type": "markdown",
   "metadata": {},
   "source": [
    "## Evaluating sparsity\n",
    "\n",
    "Here, we calculate sparsity by dividing the number of stored elements by total number of elements. The number of stored (non-empty) elements in our matrix (nnz) is equivalent to the number of ratings in our dataset.\n",
    "\n",
    "Note: If your matrix is too sparse (not enough users and/or ratings) content-based filtering may be better than collaborative filtering.\n",
    "\n",
    "## Collaborative filtering (types)\n",
    "    .User-based collaborative filtering recommends items that similar users have liked in the past.\n",
    "    \n",
    "    .Item-based collaborative filtering recommends items that are similar to items the user has liked in the past.\n",
    "\n",
    "Collaborative filtering can be more effective than content-based filtering when there is not enough content information available or when user preferences are complex and dynamic.\n",
    "\n",
    "## Content-based filtering\n",
    "    .This approach recommends items based on the features of the items and a profile of the user's preferences.\n",
    "\n",
    "    .It works by analyzing the properties or features of items that the user has liked or interacted with in the past and then recommending items with similar properties.\n",
    "\n",
    "    .For example, if a user likes action movies, the system might recommend other movies with similar genres, actors, or directors."
   ]
  },
  {
   "cell_type": "markdown",
   "metadata": {},
   "source": []
  },
  {
   "cell_type": "code",
   "execution_count": 104,
   "metadata": {},
   "outputs": [
    {
     "name": "stdout",
     "output_type": "stream",
     "text": [
      "Matrix sparsity: 1.71%\n",
      "This sparsity is greater that 0.1% (or 1%?) which some say is the sparsity threshold for collaborative filtering.\n",
      "Memory ratio: 2.57%\n"
     ]
    }
   ],
   "source": [
    "n_total = X.shape[0]*X.shape[1]\n",
    "n_ratings = X.nnz # non-empty elements in CSR matrix\n",
    "sparsity = n_ratings/n_total\n",
    "print(f\"Matrix sparsity: {round(sparsity*100,2)}%\")\n",
    "print(\"This sparsity is greater that 0.1% (or 1%?) which some say is the sparsity threshold for collaborative filtering.\")\n",
    "print(f\"Memory ratio: {round(get_size(X)/get_size(non_sparse_numpy_matrix)*100, 2)}%\")"
   ]
  },
  {
   "cell_type": "markdown",
   "metadata": {},
   "source": [
    "The cold start problem is when there are new users and movies in our matrix that do not have any ratings. In our Movielens dataset, all users and movies have at least one rating but in general, it's useful to check which users and movies have few interactions."
   ]
  },
  {
   "cell_type": "code",
   "execution_count": 105,
   "metadata": {},
   "outputs": [
    {
     "name": "stdout",
     "output_type": "stream",
     "text": [
      "[ 233   30   40  217   45  315  153   48   47  141   65   33   32   49\n",
      "  136   99  106  503  704  243  444  120  122  111   27   22  136  571\n",
      "   82   35   51  103  157   87   24   61   22   79  101  104  218  441\n",
      "  115   49  400   43  141   34   22  311  360  131   21   34   26   47\n",
      "  477  113  108   23   40  367  272  518   35  346   37 1261   47   63\n",
      "   36   46  211  178   70  120   30   62   65  168   27  228  119  294\n",
      "   35   71   22   57  519   55  576   25   98   57  169   79   37   93\n",
      "   54  149   62   57  378  274  723   34   35   77  128   52  647   66\n",
      "  151   32  113   88  166   23  216   23   59  293   57   51  361   39\n",
      "   23   34  141   29   70  348   36   36  280  112  142   23  195  609\n",
      "  169   39   72  129   24   33   21   49   59   27   60   64  180   35\n",
      "   47  399   22   27   98  438   40   39   24   37   66  191  174   95\n",
      "  270   51   83   27   26   68   25   37  905   78   70   25  119  978\n",
      "   58  135   48  227  259   49   21   67   86   23   36   21  188   33\n",
      "   36  231  364  335  111  404   46   84   28   26   21   27   36  139\n",
      "   90  249   85   23   99  165  614   27  529  208  332  251   76   55\n",
      "   76  508   95   26   66  140   25  863  151  203   66   31   51   45\n",
      "  280  129   77   36   37   94   22  205  151   52 1047   28   24   39\n",
      "   48  128   45  175   21   26   30  153   54   58  211   57  164  181\n",
      "   58  130   30   41   44   32   56 1347  404   42   29   21  177  197\n",
      "   22  238   36   89   37  107  153 1056   25  268   32  447   22  438\n",
      "   42   28   73  940   24   33  115   33   54  217  678  113  976  116\n",
      "  104   65   29  224  341  129   34   54  190  880   36   21   57  108\n",
      "   99   22  271  153   49  256   24  248  169  268   26  155   29   57\n",
      "   78   40  372   29   53   67   60   70   63  165   46   56   38   41\n",
      "  142  295   91  227   27  290  384   42   75   26   98  110   31   22\n",
      "  278   32  186  470  130   94   42  237  101   34   34  134  132   49\n",
      "   37 1219  475  292   35   71  202   69 1028   30   35   82  387   26\n",
      "  124   24   62   29   24   47   37   44   73   49   35   61  121   21\n",
      "   23  142  127  168  128  103   57 2699   95   52   68   94  156  142\n",
      "   38   94   24  139  307   89   85  301   59   59   21  261   23  234\n",
      "   43  107  123  636   22   34   46   21   38   43   78   85   79 1865\n",
      "   39   52   35  203  312   46   58   44   51   60   27   83   28  456\n",
      "   34  139  116  114   23   34  466   81   29   30   38 2109  156   70\n",
      "  601   23  182  837   32  129  729  276   24   57   57  112  649  114\n",
      "   65  122   62   23  266   30   52   36   28   87   46   36   96   88\n",
      "   32   43   22   25  468  109   53   51   33  398   27   27  401   25\n",
      "   27  187   41  201   76  132  501   59  168   74   26   28   23   51\n",
      "   39  521   31   41   48   38   39   43   88  114   77   23   24   65\n",
      "   22   27   22   29  124  189   84   90  579   33   28   57  141  459\n",
      "  506  232  214  158   30   75  386   24   21  192  113  156  300   24\n",
      "   37   21  162   28   74  437   41   57   57   84   62  209  166   57\n",
      "   41  729   55   95  104  233   21  412  444   22 2479  764  102  136\n",
      "  944  101  222 1116  188  832   38 1303]\n"
     ]
    },
    {
     "data": {
      "text/plain": [
       "610"
      ]
     },
     "execution_count": 105,
     "metadata": {},
     "output_type": "execute_result"
    }
   ],
   "source": [
    "n_ratings_per_user = X.getnnz(axis=1)\n",
    "print(n_ratings_per_user)\n",
    "len(n_ratings_per_user)"
   ]
  },
  {
   "cell_type": "code",
   "execution_count": 106,
   "metadata": {},
   "outputs": [
    {
     "name": "stdout",
     "output_type": "stream",
     "text": [
      "Most active user rated 2699 movies.\n",
      "Least active user rated 21 movies.\n"
     ]
    }
   ],
   "source": [
    "print(f\"Most active user rated {n_ratings_per_user.max()} movies.\")\n",
    "print(f\"Least active user rated {n_ratings_per_user.min()} movies.\")"
   ]
  },
  {
   "cell_type": "code",
   "execution_count": 107,
   "metadata": {},
   "outputs": [
    {
     "name": "stdout",
     "output_type": "stream",
     "text": [
      "[215 110  52 ...   1   1 610]\n"
     ]
    },
    {
     "data": {
      "text/plain": [
       "9725"
      ]
     },
     "execution_count": 107,
     "metadata": {},
     "output_type": "execute_result"
    }
   ],
   "source": [
    "n_ratings_per_movie = X.getnnz(axis=0)\n",
    "print(n_ratings_per_movie)\n",
    "len(n_ratings_per_movie)"
   ]
  },
  {
   "cell_type": "code",
   "execution_count": 108,
   "metadata": {},
   "outputs": [
    {
     "name": "stdout",
     "output_type": "stream",
     "text": [
      "Most rated movie has 610 ratings.\n",
      "Least rated movie has 1 ratings.\n"
     ]
    }
   ],
   "source": [
    "print(f\"Most rated movie has {n_ratings_per_movie.max()} ratings.\")\n",
    "print(f\"Least rated movie has {n_ratings_per_movie.min()} ratings.\")"
   ]
  },
  {
   "cell_type": "code",
   "execution_count": 109,
   "metadata": {},
   "outputs": [
    {
     "name": "stderr",
     "output_type": "stream",
     "text": [
      "/var/folders/8z/fnblqgd55213h_1ltnz5z4xh0000gn/T/ipykernel_34432/3795211452.py:3: FutureWarning: \n",
      "\n",
      "`shade` is now deprecated in favor of `fill`; setting `fill=True`.\n",
      "This will become an error in seaborn v0.14.0; please update your code.\n",
      "\n",
      "  sns.kdeplot(n_ratings_per_user, shade=True)\n",
      "/var/folders/8z/fnblqgd55213h_1ltnz5z4xh0000gn/T/ipykernel_34432/3795211452.py:9: FutureWarning: \n",
      "\n",
      "`shade` is now deprecated in favor of `fill`; setting `fill=True`.\n",
      "This will become an error in seaborn v0.14.0; please update your code.\n",
      "\n",
      "  sns.kdeplot(n_ratings_per_movie, shade=True)\n"
     ]
    },
    {
     "data": {
      "image/png": "[encoded data removed]",
      "text/plain": [
       "<Figure size 1152x288 with 2 Axes>"
      ]
     },
     "metadata": {
      "needs_background": "light"
     },
     "output_type": "display_data"
    }
   ],
   "source": [
    "plt.figure(figsize=(16,4))\n",
    "plt.subplot(1,2,1)\n",
    "sns.kdeplot(n_ratings_per_user, shade=True)\n",
    "plt.xlim(0)\n",
    "plt.title(\"Number of Ratings Per User (prob. density function)\", fontsize=14)\n",
    "plt.xlabel(\"number of ratings per user\")\n",
    "plt.ylabel(\"Density; Pr(# movies rated == x)\")\n",
    "plt.subplot(1,2,2)\n",
    "sns.kdeplot(n_ratings_per_movie, shade=True)\n",
    "plt.xlim(0)\n",
    "plt.title(\"Number of Ratings Per Movie (pdf)\", fontsize=14)\n",
    "plt.xlabel(\"number of ratings per movie\")\n",
    "plt.ylabel(\"Density; Pr(# ratings == x)\")\n",
    "plt.show()"
   ]
  },
  {
   "cell_type": "markdown",
   "metadata": {},
   "source": [
    "## Step 5: Item-item Recommendations with k-Nearest Neighbors\n",
    " \n",
    "We are going to find the k movies that have the most similar user engagement vectors for movie i."
   ]
  },
  {
   "cell_type": "code",
   "execution_count": 110,
   "metadata": {},
   "outputs": [],
   "source": [
    "from sklearn.neighbors import NearestNeighbors\n",
    "\n",
    "def find_similar_movies(movie_id, X, movie_mapper, movie_inv_mapper, k, metric='cosine'):\n",
    "    \"\"\"\n",
    "    Finds k-nearest neighbors for a given movie id.\n",
    "    \n",
    "    Args:\n",
    "        movie_id: id of the movie of interest\n",
    "        X: user-item utility matrix\n",
    "        k: number of similar movies to retrieve\n",
    "        metric: distance metric for kNN calculations\n",
    "    \n",
    "    Output: returns list of k similar movie ID's\n",
    "    \"\"\"\n",
    "    X = X.T\n",
    "    neighbor_ids = []\n",
    "    \n",
    "    movie_ind = movie_mapper[movie_id]\n",
    "    movie_vec = X[movie_ind]\n",
    "\n",
    "    if isinstance(movie_vec, (np.ndarray)):\n",
    "        movie_vec = movie_vec.reshape(1,-1)\n",
    "\n",
    "    # use k+1 since kNN output includes the movieId of interest\n",
    "    kNN = NearestNeighbors(n_neighbors=k+1, algorithm=\"brute\", metric=metric)\n",
    "    kNN.fit(X)\n",
    "\n",
    "    neighbor = kNN.kneighbors(movie_vec, return_distance=False)\n",
    "\n",
    "    for i in range(0,k):\n",
    "        n = neighbor.item(i)\n",
    "        neighbor_ids.append(movie_inv_mapper[n])\n",
    "        \n",
    "    neighbor_ids.pop(0)\n",
    "    return neighbor_ids"
   ]
  },
  {
   "cell_type": "markdown",
   "metadata": {},
   "source": [
    "find_similar_movies() takes in a movieId and X matrix, and outputs a list of \n",
    " movies that are similar to the movieId of interest.\n",
    "\n",
    "Let's see how it works in action. We will first create another mapper that maps movieId to title so that our results are interpretable."
   ]
  },
  {
   "cell_type": "code",
   "execution_count": 111,
   "metadata": {},
   "outputs": [
    {
     "data": {
      "text/plain": [
       "[200000, 3114, 480, 780, 260, 356, 364, 1210, 648]"
      ]
     },
     "execution_count": 111,
     "metadata": {},
     "output_type": "execute_result"
    }
   ],
   "source": [
    "similar_movies = find_similar_movies(1, X, movie_mapper, movie_inv_mapper, k=10)\n",
    "similar_movies"
   ]
  },
  {
   "cell_type": "markdown",
   "metadata": {},
   "source": [
    "find_similar_movies() returns a list of movieId's that are most similar to your movie of interest. Let's convert these id's to titles so that we can interpret our results. To make things easier, we will create a dictionary that maps movieId to title."
   ]
  },
  {
   "cell_type": "code",
   "execution_count": 112,
   "metadata": {},
   "outputs": [
    {
     "name": "stdout",
     "output_type": "stream",
     "text": [
      "Because you watched Toy Story (1995):\n",
      "Digital Physics (2016)\n",
      "Toy Story 2 (1999)\n",
      "Jurassic Park (1993)\n",
      "Independence Day (a.k.a. ID4) (1996)\n",
      "Star Wars: Episode IV - A New Hope (1977)\n",
      "Forrest Gump (1994)\n",
      "Lion King, The (1994)\n",
      "Star Wars: Episode VI - Return of the Jedi (1983)\n",
      "Mission: Impossible (1996)\n"
     ]
    }
   ],
   "source": [
    "movie_titles = dict(zip(movies['movieId'], movies['title']))\n",
    "\n",
    "movie_id = 1\n",
    "\n",
    "similar_movies = find_similar_movies(movie_id, X, movie_mapper, movie_inv_mapper, metric='cosine', k=10)\n",
    "movie_title = movie_titles[movie_id]\n",
    "\n",
    "print(f\"Because you watched {movie_title}:\")\n",
    "for i in similar_movies:\n",
    "    print(movie_titles[i])"
   ]
  },
  {
   "cell_type": "markdown",
   "metadata": {},
   "source": [
    "The results above show the 10 movies that are most similar to Toy Story. Most movies in this list are family movies from the 1990s, which seems pretty reasonable. Note that these recommendations are based solely on user-item ratings. Movie features such as genres are not used in this approach.\n",
    "\n",
    "You can also play around with the kNN distance metric and see what results you would get if you use \"manhattan\" or \"euclidean\" instead of \"cosine\"."
   ]
  },
  {
   "cell_type": "code",
   "execution_count": 113,
   "metadata": {},
   "outputs": [
    {
     "name": "stdout",
     "output_type": "stream",
     "text": [
      "Because you watched Toy Story (1995):\n",
      "Toy Story 2 (1999)\n",
      "Mission: Impossible (1996)\n",
      "Independence Day (a.k.a. ID4) (1996)\n",
      "Bug's Life, A (1998)\n",
      "Nutty Professor, The (1996)\n",
      "Willy Wonka & the Chocolate Factory (1971)\n",
      "Babe (1995)\n",
      "Groundhog Day (1993)\n",
      "Mask, The (1994)\n"
     ]
    }
   ],
   "source": [
    "movie_id = 1\n",
    "\n",
    "similar_movies = find_similar_movies(movie_id, X, movie_mapper, movie_inv_mapper, metric='euclidean', k=10)\n",
    "movie_title = movie_titles[movie_id]\n",
    "\n",
    "print(f\"Because you watched {movie_title}:\")\n",
    "for i in similar_movies:\n",
    "    print(movie_titles[i])"
   ]
  },
  {
   "cell_type": "code",
   "execution_count": 114,
   "metadata": {},
   "outputs": [],
   "source": [
    "# movie_id = 1\n",
    "\n",
    "# similar_movies = find_similar_movies(movie_id, X, movie_mapper, movie_inv_mapper, metric='manhattan', k=10)\n",
    "# movie_title = movie_titles[movie_id]\n",
    "\n",
    "# print(f\"Because you watched {movie_title}:\")\n",
    "# for i in similar_movies:\n",
    "#     print(movie_titles[i])"
   ]
  },
  {
   "cell_type": "code",
   "execution_count": 115,
   "metadata": {},
   "outputs": [],
   "source": [
    "import faiss\n",
    "\n",
    "def find_similar_movies2(movie_id, X, movie_mapper, movie_inv_mapper, k, metric='cosine'):\n",
    "    \"\"\"Finds k-nearest neighbors for a given movie id using FAISS.\n",
    "    \n",
    "    Args:\n",
    "        movie_id: id of the movie of interest\n",
    "        X: user-item utility matrix (scipy.sparse.csc_matrix)\n",
    "        movie_mapper: dictionary mapping movie ids to row indices in X\n",
    "        movie_inv_mapper: dictionary mapping row indices in X to movie ids\n",
    "        k: number of similar movies to retrieve\n",
    "        metric: distance metric for similarity calculations\n",
    "        \n",
    "    Returns:\n",
    "        List of k similar movie IDs\n",
    "    \"\"\"\n",
    "    # Convert sparse matrix to numpy array\n",
    "    # Look into FAISS with Sparse Matrices: https://github.com/facebookresearch/faiss/issues/2826\n",
    "    X_dense = X.toarray()\n",
    "    \n",
    "    X_dense = X_dense.T\n",
    "    movie_ind = movie_mapper[movie_id]\n",
    "    movie_vec = X_dense[movie_ind].reshape(1, -1)\n",
    "    \n",
    "    # Create FAISS index\n",
    "    if metric == 'cosine':\n",
    "        index = faiss.IndexFlatIP(X_dense.shape[1])\n",
    "    else:\n",
    "        index = faiss.IndexFlatL2(X_dense.shape[1])\n",
    "    index.add(X_dense)\n",
    "    \n",
    "    # Search for k-nearest neighbors\n",
    "    distances, indices = index.search(movie_vec, k+1)\n",
    "    \n",
    "    neighbor_ids = [movie_inv_mapper[idx] for idx in indices[0] if idx != movie_ind]\n",
    "    \n",
    "    return neighbor_ids[:k]"
   ]
  },
  {
   "cell_type": "code",
   "execution_count": 116,
   "metadata": {},
   "outputs": [
    {
     "name": "stdout",
     "output_type": "stream",
     "text": [
      "Because you watched Toy Story (1995):\n",
      "Digital Physics (2016)\n",
      "Forrest Gump (1994)\n",
      "Shawshank Redemption, The (1994)\n",
      "Pulp Fiction (1994)\n",
      "Star Wars: Episode IV - A New Hope (1977)\n",
      "Silence of the Lambs, The (1991)\n",
      "Matrix, The (1999)\n",
      "Jurassic Park (1993)\n",
      "Star Wars: Episode V - The Empire Strikes Back (1980)\n",
      "Star Wars: Episode VI - Return of the Jedi (1983)\n"
     ]
    }
   ],
   "source": [
    "movie_id = 1\n",
    "\n",
    "similar_movies = find_similar_movies2(movie_id, X, movie_mapper, movie_inv_mapper, metric='cosine', k=10)\n",
    "\n",
    "movie_title = movie_titles[movie_id]\n",
    "\n",
    "print(f\"Because you watched {movie_title}:\")\n",
    "\n",
    "for i in similar_movies:\n",
    "    print(movie_titles[i])"
   ]
  },
  {
   "cell_type": "markdown",
   "metadata": {},
   "source": [
    "## Step 6: Handling the cold-start problem\n",
    "Collaborative filtering relies solely on user-item interactions within the utility matrix. The issue with this approach is that brand new users or items with no iteractions get excluded from the recommendation system. This is called the cold start problem. Content-based filtering is a way to handle this problem by generating recommendations based on user and item features.\n",
    "\n",
    "First, we need to convert the genres column into binary features. Each genre will have its own column in the dataframe, and will be populated with 0 or 1."
   ]
  },
  {
   "cell_type": "code",
   "execution_count": 117,
   "metadata": {},
   "outputs": [
    {
     "name": "stdout",
     "output_type": "stream",
     "text": [
      "There are 9743 unique movies in our movies dataset.\n"
     ]
    }
   ],
   "source": [
    "n_movies = movies['movieId'].nunique()\n",
    "print(f\"There are {n_movies} unique movies in our movies dataset.\")"
   ]
  },
  {
   "cell_type": "code",
   "execution_count": 118,
   "metadata": {},
   "outputs": [],
   "source": [
    "genres = set(g for G in movies['genres'] for g in G)\n",
    "\n",
    "for g in genres:\n",
    "    movies[g] = movies.genres.transform(lambda x: int(g in x))\n",
    "    \n",
    "movie_genres = movies.drop(columns=['movieId', 'title','genres'])"
   ]
  },
  {
   "cell_type": "code",
   "execution_count": 119,
   "metadata": {},
   "outputs": [
    {
     "data": {
      "text/html": [
       "<div>\n",
       "<style scoped>\n",
       "    .dataframe tbody tr th:only-of-type {\n",
       "        vertical-align: middle;\n",
       "    }\n",
       "\n",
       "    .dataframe tbody tr th {\n",
       "        vertical-align: top;\n",
       "    }\n",
       "\n",
       "    .dataframe thead th {\n",
       "        text-align: right;\n",
       "    }\n",
       "</style>\n",
       "<table border=\"1\" class=\"dataframe\">\n",
       "  <thead>\n",
       "    <tr style=\"text-align: right;\">\n",
       "      <th></th>\n",
       "      <th>Comedy</th>\n",
       "      <th>War</th>\n",
       "      <th>Thriller</th>\n",
       "      <th>Drama</th>\n",
       "      <th>Documentary</th>\n",
       "      <th>Film-Noir</th>\n",
       "      <th>Fantasy</th>\n",
       "      <th>Adventure</th>\n",
       "      <th>Horror</th>\n",
       "      <th>Western</th>\n",
       "      <th>Children</th>\n",
       "      <th>Mystery</th>\n",
       "      <th>Animation</th>\n",
       "      <th>(no genres listed)</th>\n",
       "      <th>IMAX</th>\n",
       "      <th>Crime</th>\n",
       "      <th>Musical</th>\n",
       "      <th>Sci-Fi</th>\n",
       "      <th>Action</th>\n",
       "      <th>Romance</th>\n",
       "    </tr>\n",
       "  </thead>\n",
       "  <tbody>\n",
       "    <tr>\n",
       "      <th>0</th>\n",
       "      <td>1</td>\n",
       "      <td>0</td>\n",
       "      <td>0</td>\n",
       "      <td>0</td>\n",
       "      <td>0</td>\n",
       "      <td>0</td>\n",
       "      <td>1</td>\n",
       "      <td>1</td>\n",
       "      <td>0</td>\n",
       "      <td>0</td>\n",
       "      <td>1</td>\n",
       "      <td>0</td>\n",
       "      <td>1</td>\n",
       "      <td>0</td>\n",
       "      <td>0</td>\n",
       "      <td>0</td>\n",
       "      <td>0</td>\n",
       "      <td>0</td>\n",
       "      <td>0</td>\n",
       "      <td>0</td>\n",
       "    </tr>\n",
       "    <tr>\n",
       "      <th>1</th>\n",
       "      <td>0</td>\n",
       "      <td>0</td>\n",
       "      <td>0</td>\n",
       "      <td>0</td>\n",
       "      <td>0</td>\n",
       "      <td>0</td>\n",
       "      <td>1</td>\n",
       "      <td>1</td>\n",
       "      <td>0</td>\n",
       "      <td>0</td>\n",
       "      <td>1</td>\n",
       "      <td>0</td>\n",
       "      <td>0</td>\n",
       "      <td>0</td>\n",
       "      <td>0</td>\n",
       "      <td>0</td>\n",
       "      <td>0</td>\n",
       "      <td>0</td>\n",
       "      <td>0</td>\n",
       "      <td>0</td>\n",
       "    </tr>\n",
       "    <tr>\n",
       "      <th>2</th>\n",
       "      <td>1</td>\n",
       "      <td>0</td>\n",
       "      <td>0</td>\n",
       "      <td>0</td>\n",
       "      <td>0</td>\n",
       "      <td>0</td>\n",
       "      <td>0</td>\n",
       "      <td>0</td>\n",
       "      <td>0</td>\n",
       "      <td>0</td>\n",
       "      <td>0</td>\n",
       "      <td>0</td>\n",
       "      <td>0</td>\n",
       "      <td>0</td>\n",
       "      <td>0</td>\n",
       "      <td>0</td>\n",
       "      <td>0</td>\n",
       "      <td>0</td>\n",
       "      <td>0</td>\n",
       "      <td>1</td>\n",
       "    </tr>\n",
       "    <tr>\n",
       "      <th>3</th>\n",
       "      <td>1</td>\n",
       "      <td>0</td>\n",
       "      <td>0</td>\n",
       "      <td>1</td>\n",
       "      <td>0</td>\n",
       "      <td>0</td>\n",
       "      <td>0</td>\n",
       "      <td>0</td>\n",
       "      <td>0</td>\n",
       "      <td>0</td>\n",
       "      <td>0</td>\n",
       "      <td>0</td>\n",
       "      <td>0</td>\n",
       "      <td>0</td>\n",
       "      <td>0</td>\n",
       "      <td>0</td>\n",
       "      <td>0</td>\n",
       "      <td>0</td>\n",
       "      <td>0</td>\n",
       "      <td>1</td>\n",
       "    </tr>\n",
       "    <tr>\n",
       "      <th>4</th>\n",
       "      <td>1</td>\n",
       "      <td>0</td>\n",
       "      <td>0</td>\n",
       "      <td>0</td>\n",
       "      <td>0</td>\n",
       "      <td>0</td>\n",
       "      <td>0</td>\n",
       "      <td>0</td>\n",
       "      <td>0</td>\n",
       "      <td>0</td>\n",
       "      <td>0</td>\n",
       "      <td>0</td>\n",
       "      <td>0</td>\n",
       "      <td>0</td>\n",
       "      <td>0</td>\n",
       "      <td>0</td>\n",
       "      <td>0</td>\n",
       "      <td>0</td>\n",
       "      <td>0</td>\n",
       "      <td>0</td>\n",
       "    </tr>\n",
       "  </tbody>\n",
       "</table>\n",
       "</div>"
      ],
      "text/plain": [
       "   Comedy  War  Thriller  Drama  Documentary  Film-Noir  Fantasy  Adventure  \\\n",
       "0       1    0         0      0            0          0        1          1   \n",
       "1       0    0         0      0            0          0        1          1   \n",
       "2       1    0         0      0            0          0        0          0   \n",
       "3       1    0         0      1            0          0        0          0   \n",
       "4       1    0         0      0            0          0        0          0   \n",
       "\n",
       "   Horror  Western  Children  Mystery  Animation  (no genres listed)  IMAX  \\\n",
       "0       0        0         1        0          1                   0     0   \n",
       "1       0        0         1        0          0                   0     0   \n",
       "2       0        0         0        0          0                   0     0   \n",
       "3       0        0         0        0          0                   0     0   \n",
       "4       0        0         0        0          0                   0     0   \n",
       "\n",
       "   Crime  Musical  Sci-Fi  Action  Romance  \n",
       "0      0        0       0       0        0  \n",
       "1      0        0       0       0        0  \n",
       "2      0        0       0       0        1  \n",
       "3      0        0       0       0        1  \n",
       "4      0        0       0       0        0  "
      ]
     },
     "execution_count": 119,
     "metadata": {},
     "output_type": "execute_result"
    }
   ],
   "source": [
    "movie_genres.head()"
   ]
  },
  {
   "cell_type": "code",
   "execution_count": 120,
   "metadata": {},
   "outputs": [
    {
     "name": "stdout",
     "output_type": "stream",
     "text": [
      "Dimensions of our genres cosine similarity matrix: (9743, 9743)\n"
     ]
    }
   ],
   "source": [
    "from sklearn.metrics.pairwise import cosine_similarity\n",
    "\n",
    "cosine_sim = cosine_similarity(movie_genres, movie_genres)\n",
    "print(f\"Dimensions of our genres cosine similarity matrix: {cosine_sim.shape}\")"
   ]
  },
  {
   "cell_type": "markdown",
   "metadata": {},
   "source": [
    "As expected, after passing the movie_genres dataframe into the cosine_similarity() function, we get a cosine similarity matrix of shape \n",
    ".\n",
    "\n",
    "This matrix is populated with values between 0 and 1 which represent the degree of similarity between movies along the x and y axes."
   ]
  },
  {
   "cell_type": "markdown",
   "metadata": {},
   "source": [
    "## Creating a movie finder function\n",
    "Let's say we want to get recommendations for movies that are similar to Jumanji. To get results from our recommender, we need to know the exact title of a movie in our dataset.\n",
    "\n",
    "In our dataset, Jumanji is actually listed as 'Jumanji (1995)'. If we misspell Jumanji or forget to include its year of release, our recommender won't be able to identify which movie we're interested in.\n",
    "\n",
    "To make our recommender more user-friendly, we can use a Python package called fuzzywuzzy which will find the most similar title to a string that you pass in. Let's create a function called movie_finder() which take advantage of fuzzywuzzy's string matching algorithm to get the most similar title to a user-inputted string."
   ]
  },
  {
   "cell_type": "code",
   "execution_count": 121,
   "metadata": {},
   "outputs": [
    {
     "name": "stderr",
     "output_type": "stream",
     "text": [
      "/Applications/anaconda3/envs/data_science/lib/python3.9/site-packages/fuzzywuzzy/fuzz.py:11: UserWarning: Using slow pure-python SequenceMatcher. Install python-Levenshtein to remove this warning\n",
      "  warnings.warn('Using slow pure-python SequenceMatcher. Install python-Levenshtein to remove this warning')\n"
     ]
    }
   ],
   "source": [
    "from fuzzywuzzy import process\n",
    "\n",
    "def movie_finder(title):\n",
    "    all_titles = movies['title'].tolist()\n",
    "    closest_match = process.extractOne(title,all_titles)\n",
    "    return closest_match[0]"
   ]
  },
  {
   "cell_type": "markdown",
   "metadata": {},
   "source": []
  },
  {
   "cell_type": "code",
   "execution_count": 122,
   "metadata": {},
   "outputs": [
    {
     "data": {
      "text/plain": [
       "'Jumanji (1995)'"
      ]
     },
     "execution_count": 122,
     "metadata": {},
     "output_type": "execute_result"
    }
   ],
   "source": [
    "title = movie_finder('juminji')\n",
    "title"
   ]
  },
  {
   "cell_type": "markdown",
   "metadata": {},
   "source": [
    "To get relevant recommendations for Jumanji, we need to find its index in the cosine simialrity matrix. To identify which row we should be looking at, we can create a movie index mapper which maps a movie title to the index that it represents in our matrix.\n",
    "\n",
    "Let's create a movie index dictionary called movie_idx where the keys are movie titles and values are movie indices:"
   ]
  },
  {
   "cell_type": "code",
   "execution_count": 123,
   "metadata": {},
   "outputs": [
    {
     "name": "stdout",
     "output_type": "stream",
     "text": [
      "Movie index for Jumanji: 1\n"
     ]
    }
   ],
   "source": [
    "movie_idx = dict(zip(movies['title'], list(movies.index)))\n",
    "idx = movie_idx[title]\n",
    "print(f\"Movie index for Jumanji: {idx}\")"
   ]
  },
  {
   "cell_type": "markdown",
   "metadata": {},
   "source": [
    "Using this handy movie_idx dictionary, we know that Jumanji is represented by index 1 in our matrix. Let's get the top 10 most similar movies to Jumanji."
   ]
  },
  {
   "cell_type": "code",
   "execution_count": 124,
   "metadata": {},
   "outputs": [],
   "source": [
    "\n",
    "n_recommendations=10\n",
    "sim_scores = list(enumerate(cosine_sim[idx]))\n",
    "sim_scores = sorted(sim_scores, key=lambda x: x[1], reverse=True)\n",
    "sim_scores = sim_scores[1:(n_recommendations+1)]\n",
    "similar_movies = [i[0] for i in sim_scores]"
   ]
  },
  {
   "cell_type": "markdown",
   "metadata": {},
   "source": [
    "similar_movies is an array of indices that represents Jumanji's top 10 recommendations. We can get the corresponding movie titles by either creating an inverse movie_idx mapper or using iloc on the title column of the movies dataframe."
   ]
  },
  {
   "cell_type": "code",
   "execution_count": 125,
   "metadata": {},
   "outputs": [
    {
     "name": "stdout",
     "output_type": "stream",
     "text": [
      "Because you watched Jumanji (1995):\n"
     ]
    },
    {
     "data": {
      "text/plain": [
       "53                     Indian in the Cupboard, The (1995)\n",
       "109                     NeverEnding Story III, The (1994)\n",
       "767                       Escape to Witch Mountain (1975)\n",
       "1514            Darby O'Gill and the Little People (1959)\n",
       "1556                                  Return to Oz (1985)\n",
       "1617                        NeverEnding Story, The (1984)\n",
       "1618    NeverEnding Story II: The Next Chapter, The (1...\n",
       "1799                        Santa Claus: The Movie (1985)\n",
       "3574    Harry Potter and the Sorcerer's Stone (a.k.a. ...\n",
       "6075    Chronicles of Narnia: The Lion, the Witch and ...\n",
       "Name: title, dtype: object"
      ]
     },
     "execution_count": 125,
     "metadata": {},
     "output_type": "execute_result"
    }
   ],
   "source": [
    "print(f\"Because you watched {title}:\")\n",
    "movies['title'].iloc[similar_movies]"
   ]
  },
  {
   "cell_type": "markdown",
   "metadata": {},
   "source": [
    "Cool! These recommendations seem pretty relevant and similar to Jumanji. The first 5 movies are family-friendly films from the 90s.\n",
    "\n",
    "We can test our recommender further with other movie titles. For your convenience, let's package the steps into a single function which takes in the movie title of interest and number of recommendations."
   ]
  },
  {
   "cell_type": "code",
   "execution_count": 126,
   "metadata": {},
   "outputs": [],
   "source": [
    "def get_content_based_recommendations(title_string, n_recommendations=10):\n",
    "    title = movie_finder(title_string)\n",
    "    idx = movie_idx[title]\n",
    "    sim_scores = list(enumerate(cosine_sim[idx]))\n",
    "    sim_scores = sorted(sim_scores, key=lambda x: x[1], reverse=True)\n",
    "    sim_scores = sim_scores[1:(n_recommendations+1)]\n",
    "    similar_movies = [i[0] for i in sim_scores]\n",
    "    print(f\"Because you watched {title}:\")\n",
    "    print(movies['title'].iloc[similar_movies])"
   ]
  },
  {
   "cell_type": "code",
   "execution_count": 127,
   "metadata": {},
   "outputs": [
    {
     "name": "stdout",
     "output_type": "stream",
     "text": [
      "Because you watched Toy Story (1995):\n",
      "1706                                       Antz (1998)\n",
      "2355                                Toy Story 2 (1999)\n",
      "2809    Adventures of Rocky and Bullwinkle, The (2000)\n",
      "3000                  Emperor's New Groove, The (2000)\n",
      "3568                             Monsters, Inc. (2001)\n",
      "Name: title, dtype: object\n"
     ]
    }
   ],
   "source": [
    "get_content_based_recommendations('toy story', 5)"
   ]
  },
  {
   "cell_type": "markdown",
   "metadata": {},
   "source": [
    "## Step 7: Dimensionality Reduction with Matrix Factorization (advanced)\n",
    "Matrix factorization (MF) is a linear algebra technique that can help us discover latent features underlying the interactions between users and movies. These latent features give a more compact representation of user tastes and item descriptions. MF is particularly useful for very sparse data and can enhance the quality of recommendations. The algorithm works by factorizing the original user-item matrix into two factor matrices:\n",
    "\n",
    "user-factor matrix (n_users, k)\n",
    "item-factor matrix (k, n_items)\n",
    "We are reducing the dimensions of our original matrix into \"taste\" dimensions. We cannot interpret what each latent feature \n",
    " represents. However, we could imagine that one latent feature may represent users who like romantic comedies from the 1990s, while another latent feature may represent movies which are independent foreign language films."
   ]
  },
  {
   "cell_type": "code",
   "execution_count": 128,
   "metadata": {},
   "outputs": [
    {
     "data": {
      "text/plain": [
       "(9725, 20)"
      ]
     },
     "execution_count": 128,
     "metadata": {},
     "output_type": "execute_result"
    }
   ],
   "source": [
    "from sklearn.decomposition import TruncatedSVD\n",
    "# see: https://www.youtube.com/watch?v=ZspR5PZemcs\n",
    "\n",
    "svd = TruncatedSVD(n_components=20, n_iter=10)\n",
    "Q = svd.fit_transform(X.T)\n",
    "Q.shape"
   ]
  },
  {
   "cell_type": "markdown",
   "metadata": {},
   "source": []
  },
  {
   "cell_type": "code",
   "execution_count": 129,
   "metadata": {},
   "outputs": [
    {
     "name": "stdout",
     "output_type": "stream",
     "text": [
      "Because you watched Toy Story (1995):\n",
      "Digital Physics (2016)\n",
      "Willy Wonka & the Chocolate Factory (1971)\n",
      "Jurassic Park (1993)\n",
      "Star Wars: Episode IV - A New Hope (1977)\n",
      "Forrest Gump (1994)\n",
      "Aladdin (1992)\n",
      "Back to the Future (1985)\n",
      "Independence Day (a.k.a. ID4) (1996)\n",
      "Star Wars: Episode VI - Return of the Jedi (1983)\n"
     ]
    }
   ],
   "source": [
    "movie_id = 1\n",
    "similar_movies = find_similar_movies(movie_id, Q.T, movie_mapper, movie_inv_mapper, metric='cosine', k=10)\n",
    "movie_title = movie_titles[movie_id]\n",
    "\n",
    "print(f\"Because you watched {movie_title}:\")\n",
    "for i in similar_movies:\n",
    "    print(movie_titles[i])"
   ]
  },
  {
   "cell_type": "markdown",
   "metadata": {},
   "source": [
    "The results above are the most similar movies to Toy Story using kNN on our “compressed” movie-factor matrix. We reduced the dimensions down to n_components=20. We can think of each component representing a latent feature such as movie genre."
   ]
  },
  {
   "cell_type": "markdown",
   "metadata": {},
   "source": []
  }
 ],
 "metadata": {
  "kernelspec": {
   "display_name": "data_science",
   "language": "python",
   "name": "python3"
  },
  "language_info": {
   "codemirror_mode": {
    "name": "ipython",
    "version": 3
   },
   "file_extension": ".py",
   "mimetype": "text/x-python",
   "name": "python",
   "nbconvert_exporter": "python",
   "pygments_lexer": "ipython3",
   "version": "3.9.12"
  }
 },
 "nbformat": 4,
 "nbformat_minor": 2
}
